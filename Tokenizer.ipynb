{
  "nbformat": 4,
  "nbformat_minor": 0,
  "metadata": {
    "colab": {
      "name": "Copy of Assignment 01: Tokenizer.ipynb",
      "provenance": [],
      "collapsed_sections": []
    },
    "kernelspec": {
      "name": "python3",
      "display_name": "Python 3"
    },
    "language_info": {
      "name": "python"
    }
  },
  "cells": [
    {
      "cell_type": "markdown",
      "source": [
        "#Assignment 01: Tokenizer \n",
        "\n",
        "What is Tokenization in NLP? Tokenization is one of the most common tasks when it comes to working with text data. Tokenization is essentially splitting a phrase, sentence, paragraph, or an entire text document into smaller units, such as individual words or terms. Each of these smaller units are called tokens then we can use the tokenizer to convert text to vector of integer numbers.\n",
        "\n",
        "In this week's assignment we will create a tokenizer using Python by following the instructions below:\n",
        "\n",
        "\n",
        "\n",
        "1.   Create a Python class called `Tokenizer`.\n",
        "2.   The class construction (`__init__`) takes in one parameter called `raw_text` which is the text corpus. Use the text corpus to create two dictionaries .... .\n",
        "3. Create a class method that return two dictionaries `index_word` which assigns a unique number as key to each word, `word_index` which is the reverse of `index_word` (i.e., the word in the key and the number is the value).\n",
        "4. Create a class method called `tokenize` to that takes a parameter `text` and converts it to list of integers using the `word_index` dictionary.\n",
        "5. Create a class method called `reverse_tokenize` to that takes a parameter `vector` and converts it to a string using the `index_word` dictionary.\n",
        "6. Download your Colab file by going to `File > Download > Download .ipynb` and send the file along with your email using [this form](https://forms.gle/JrPDmELeef5vfr7MA).\n",
        "\n",
        "\n",
        "\n"
      ],
      "metadata": {
        "id": "DUDhNK7QOOfh"
      }
    },
    {
      "cell_type": "markdown",
      "source": [
        "# Download the Text File \n",
        "\n",
        "When working interactively with the standard Python interpreter, one of the frustrations is the need to switch between multiple windows to access Python tools and system command-line tools.\n",
        "\n",
        "IPython bridges this gap, and gives you a syntax for executing shell commands directly from within the IPython terminal.\n",
        "\n",
        "The magic happens with the exclamation point: anything appearing after ``!`` on a line will be executed not by the Python kernel, but by the system command-line.\n",
        "\n",
        "Since Google Colab is built on Linux we can execute Linux commands in Colab and one of the commands to retrieve datasets is wget. wget stands for ‘web get’ and using this command will retrieve the dataset directly from the source.\n",
        "\n"
      ],
      "metadata": {
        "id": "XAHqJPlbgm-C"
      }
    },
    {
      "cell_type": "code",
      "source": [
        "!wget https://raw.githubusercontent.com/TheAIDojo/Machine_Learning_Bootcamp/main/Week%2001-%20%20Introduction%20to%20Python/text_data.txt"
      ],
      "metadata": {
        "colab": {
          "base_uri": "https://localhost:8080/"
        },
        "id": "Ly8yQ4rwgzLp",
        "outputId": "1392c858-988e-4efb-bef6-8a27b1aac412"
      },
      "execution_count": null,
      "outputs": [
        {
          "output_type": "stream",
          "name": "stdout",
          "text": [
            "--2022-01-16 16:54:08--  https://raw.githubusercontent.com/TheAIDojo/Machine_Learning_Bootcamp/main/Week%2001-%20%20Introduction%20to%20Python/text_data.txt\n",
            "Resolving raw.githubusercontent.com (raw.githubusercontent.com)... 185.199.108.133, 185.199.109.133, 185.199.110.133, ...\n",
            "Connecting to raw.githubusercontent.com (raw.githubusercontent.com)|185.199.108.133|:443... connected.\n",
            "HTTP request sent, awaiting response... 200 OK\n",
            "Length: 11916 (12K) [text/plain]\n",
            "Saving to: ‘text_data.txt’\n",
            "\n",
            "\rtext_data.txt         0%[                    ]       0  --.-KB/s               \rtext_data.txt       100%[===================>]  11.64K  --.-KB/s    in 0s      \n",
            "\n",
            "2022-01-16 16:54:08 (90.8 MB/s) - ‘text_data.txt’ saved [11916/11916]\n",
            "\n"
          ]
        }
      ]
    },
    {
      "cell_type": "markdown",
      "source": [
        "# Read the Text File \n"
      ],
      "metadata": {
        "id": "P8i7ekH3O5_Z"
      }
    },
    {
      "cell_type": "code",
      "source": [
        "# read the data from the text file \n",
        "with open('/content/text_data.txt','r') as f:\n",
        "    row_text=f.read()\n"
      ],
      "metadata": {
        "id": "6SPs5CAMPKJY"
      },
      "execution_count": 46,
      "outputs": []
    },
    {
      "cell_type": "markdown",
      "source": [
        "# Build the Tokenizer Class "
      ],
      "metadata": {
        "id": "LshIeWf1OpXV"
      }
    },
    {
      "cell_type": "code",
      "source": [
        "class Tokenizer:\n",
        "\n",
        "    def __init__(\n",
        "        self,\n",
        "        row_text,\n",
        "        filters='!\"#$%&()*+,-./:;<=>?@[\\\\]^_`{|}~\\t\\n'):\n",
        "        \"\"\"\n",
        "        The __init__ method  of the class Tokenizer will get the following parameters\n",
        "        row_text : the input text that we wnat to create the tokenizer from it.\n",
        "        filters : a string where each element is a character that will be filtered from the texts. \n",
        "        The default is all punctuation, plus tabs and line breaks, minus the ' character.\n",
        "         \"\"\"\n",
        "\n",
        "        self.row_text = row_text\n",
        "        self.filters = filters\n",
        "        #call tokenizer method\n",
        "        self.word_index,self.index_word=word_index=self.tokenizer(self.row_text)\n",
        "\n",
        "    \n",
        "\n",
        "       \n",
        "\n",
        "    def clean_text(self, text):\n",
        "\n",
        "\n",
        "        \"\"\"\n",
        "        The clean_text method will take one parameter text \n",
        "        then the method will clean the text data \n",
        "        and return clean text\n",
        "        \"\"\"\n",
        "        #convert the texts to lowercase\n",
        "        text = text.lower()\n",
        "\n",
        "        for i in text:\n",
        "         if i in self.filters:\n",
        "           text=text.replace(i,' ')\n",
        "\n",
        "        return text\n",
        "        \n",
        "    def tokenizer(self, text):\n",
        "        \"\"\"\n",
        "        The tokenizer method will take one parameter text \n",
        "        then the method will clean the text data. \n",
        "        extricate the unique words the method will return two dictionaries contains the unique word to index and the reverse of it.\n",
        "        \"\"\"\n",
        "\n",
        "        #create empty dictionaries\n",
        "        word_index = {}\n",
        "        index_word = {}\n",
        "\n",
        "        # call clean_text methods\n",
        "        text=self.clean_text(text)\n",
        "        #split text to list of words\n",
        "        text=text.split()\n",
        "        #get unique words\n",
        "        uniqu_characters=list(set(text))\n",
        "        #create the words to numbers and numbers to words\n",
        "        for index in range(len(uniqu_characters)):\n",
        "         word_index[uniqu_characters[index]]=index\n",
        "         index_word[index]=uniqu_characters[index]\n",
        "\n",
        "        return (word_index, index_word)\n",
        "\n",
        "    def tokenize(self, text):\n",
        "        \"\"\"\n",
        "        the method tokenize will convert text to vector of integers  \n",
        "        text: the text paramater it's for the text that you want to convert to list of numbers\n",
        "        \"\"\"\n",
        "\n",
        "        # create empty  list\n",
        "\n",
        "        vector = []\n",
        "        #call clean_text method\n",
        "        text=self.clean_text(text)\n",
        "        #split text \n",
        "        text=text.split()\n",
        "        for i in text:\n",
        "          vector.append(self.word_index[i])\n",
        "\n",
        "        return vector\n",
        "\n",
        "    def reverse_tokenize(self, vector):\n",
        "        \"\"\"\n",
        "        the method reverse_tokenize will convert vector of integers to text\n",
        "        vector: the vector paramater it's for the list of number that you want to convert to string\n",
        "\n",
        "        \"\"\"\n",
        "\n",
        "        word_list = []\n",
        "       \n",
        "        for i in vector:\n",
        "          word_list.append(self.index_word[i])\n",
        "          text=' '.join(word_list)\n",
        "        \n",
        "        return text\n",
        "        \n",
        "\n",
        "tokenizer= Tokenizer(row_text)\n",
        "print(tokenizer.tokenizer(row_text))\n",
        "\n",
        "print(tokenizer.tokenize(row_text))\n",
        "#print(tokenizer.reverse_tokenize(row_text) )       \n"
      ],
      "metadata": {
        "id": "kPbBX2ZTOiHV",
        "colab": {
          "base_uri": "https://localhost:8080/"
        },
        "outputId": "529873c6-dd19-49eb-f3ee-a444a86267d7"
      },
      "execution_count": 61,
      "outputs": [
        {
          "output_type": "stream",
          "name": "stdout",
          "text": [
            "({'provide': 0, 'modest': 1, 'hail': 2, 'coal': 3, 'famously': 4, 'look': 5, 'patricians': 6, 'till': 7, 'rates': 8, 'marriages': 9, 'guess': 10, 'alack': 11, 'threw': 12, 'granted': 13, 'masters': 14, 'tribunes': 15, 'wars': 16, 'company': 17, 'midst': 18, 'own': 19, 'soldier': 20, 'swims': 21, 'men': 22, 'it': 23, \"he's\": 24, 'fire': 25, 'nay': 26, 'caius': 27, 'commonalty': 28, 'tire': 29, 'appetite': 30, 'five': 31, 'go': 32, \"unroof'd\": 33, 'cupboarding': 34, 'care': 35, 'every': 36, 'verdict': 37, 'natural': 38, 'being': 39, 'a': 40, 'fellow': 41, 'quoth': 42, 'passing': 43, 'remain': 44, 'you': 45, 'capitol': 46, \"'that\": 47, 'loved': 48, 'repeal': 49, 'former': 50, 'proceeds': 51, 'vile': 52, 'lions': 53, 'devise': 54, 'almost': 55, 'mind': 56, 'people': 57, 'minister': 58, 'abundantly': 59, 'price': 60, 'rather': 61, 'examine': 62, 'quarry': 63, 'toe': 64, 'pale': 65, 'stay': 66, 'titus': 67, 'cominius': 68, 'cormorant': 69, 'thrives': 70, 'head': 71, 'serves': 72, 'suffering': 73, 'get': 74, 'dog': 75, 'takes': 76, 'seat': 77, 'fit': 78, 'this': 79, 'sink': 80, 'flatter': 81, 'suffer': 82, 'geese': 83, 'velutus': 84, 'vantage': 85, 'hear': 86, 'basest': 87, 'dissentious': 88, 'awe': 89, 'things': 90, 'o': 91, 'sick': 92, 'enemies': 93, 'disgrace': 94, 'proud': 95, 'superfluity': 96, 'accused': 97, 'should': 98, 'authority': 99, 'persuaded': 100, 'oaks': 101, 'mutually': 102, 'say': 103, 'follow': 104, 'are': 105, 'viand': 106, 'desires': 107, \"we'll\": 108, 'might': 109, 'thirst': 110, 'by': 111, 'gnaw': 112, 'apply': 113, 'staves': 114, \"'tis\": 115, 'complainings': 116, 'partly': 117, 'kill': 118, 'inkling': 119, 'minute': 120, 'surer': 121, 'each': 122, 'meat': 123, 'matter': 124, 'ears': 125, 'statutes': 126, 'tauntingly': 127, 'first': 128, 'usury': 129, 'strong': 130, 'fathers': 131, 'all': 132, \"belly's\": 133, \"ne'er\": 134, 'places': 135, 'aside': 136, 'walls': 137, 'think': 138, 'helps': 139, 'lowest': 140, 'enough': 141, 'high': 142, 'if': 143, 'arms': 144, 'where': 145, 'receipt': 146, 'rubbing': 147, 'moon': 148, 'benefit': 149, 'store': 150, 'ice': 151, 'hunger': 152, 'said': 153, 'kind': 154, 'hares': 155, 'chief': 156, 'leg': 157, \"tullus'\": 158, 'established': 159, 'transported': 160, 'risen': 161, 'dogs': 162, \"body's\": 163, 'instruct': 164, 'live': 165, 'vice': 166, 'curs': 167, \"'t\": 168, 'senate': 169, 'garners': 170, 'love': 171, 'crowned': 172, 'fitly': 173, 'city': 174, 'too': 175, 'only': 176, 'me': 177, 'ten': 178, 'glad': 179, \"on't\": 180, 'usurers': 181, 'how': 182, 'surplus': 183, 'attend': 184, 'were': 185, 'our': 186, 'made': 187, 'leave': 188, 'off': 189, 'ever': 190, 'sword': 191, 'else': 192, \"who's\": 193, 'themes': 194, 'much': 195, 'vulgar': 196, 'while': 197, 'evil': 198, 'pays': 199, \"'\": 200, 'yourselves': 201, 'altitude': 202, 'offence': 203, 'justice': 204, 'sent': 205, 'bearing': 206, 'can': 207, 'shop': 208, 'deserves': 209, 'parties': 210, 'fight': 211, 'against': 212, 'once': 213, 'slaves': 214, 'constant': 215, 'change': 216, 'very': 217, 'since': 218, 'but': 219, 'stand': 220, \"they'll\": 221, 'wish': 222, 'junius': 223, 'complain': 224, 'consider': 225, \"i'ld\": 226, 'eyes': 227, 'food': 228, 'always': 229, 'heart': 230, 'presume': 231, 'forth': 232, 'who': 233, 'peace': 234, 'had': 235, 'cracking': 236, 'call': 237, 'petition': 238, 'counsels': 239, 'ay': 240, 'greatest': 241, 'as': 242, \"there's\": 243, 'touching': 244, 'no': 245, 'marcius': 246, \"i'\": 247, 'lay': 248, 'told': 249, 'agrippa': 250, 'your': 251, 'shall': 252, 'unto': 253, 'came': 254, 'conjectural': 255, 'more': 256, \"what's\": 257, 'friends': 258, 'purpose': 259, 'vent': 260, 'valour': 261, 'bale': 262, 'send': 263, 'act': 264, 'up': 265, 'content': 266, 'clubs': 267, 'poor': 268, 'fob': 269, 'art': 270, 'daily': 271, 'sin': 272, \"'though\": 273, 'pray': 274, 'abundance': 275, 'take': 276, 'accusations': 277, 'humanely': 278, 'whose': 279, 'mutinous': 280, 'hath': 281, 'deliberate': 282, 'wisdoms': 283, 'cares': 284, 'know': 285, 'stale': 286, 'foremost': 287, 'world': 288, 'still': 289, 'lead': 290, 'stiff': 291, 'his': 292, 'menenius': 293, 'receive': 294, 'public': 295, 'poorest': 296, 'power': 297, 'thou': 298, 'than': 299, 'see': 300, 'behind': 301, 'senators': 302, 'has': 303, 'fins': 304, 'trusts': 305, \"know't\": 306, 'throw': 307, 'rash': 308, 'greater': 309, \"stand'st\": 310, 'use': 311, \"'em\": 312, \"ye're\": 313, 'leanness': 314, 'let': 315, \"'sdeath\": 316, 'whole': 317, 'lungs': 318, 'fought': 319, 'greatness': 320, 'vented': 321, 'news': 322, 'blood': 323, \"restrain'd\": 324, 'shouting': 325, 'bran': 326, 'battle': 327, \"'fore\": 328, 'under': 329, 'lartius': 330, 'before': 331, 'have': 332, 'impediment': 333, 'afflicts': 334, 'object': 335, 'common': 336, 'such': 337, 'or': 338, 'will': 339, 'restrain': 340, 'puts': 341, 'counsellor': 342, 'thus': 343, 'kingly': 344, 'one': 345, 'may': 346, 'trust': 347, 'bold': 348, 'rats': 349, 'cowardly': 350, 'second': 351, 'cry': 352, 'tongue': 353, 'affections': 354, 'cobbled': 355, 'curse': 356, 'my': 357, 'home': 358, 'making': 359, 'especially': 360, 'strike': 361, 'strange': 362, 'crammed': 363, 'idle': 364, 'rome': 365, 'not': 366, 'fabric': 367, 'dear': 368, 'is': 369, 'honest': 370, 'breaths': 371, 'wondrous': 372, 'asunder': 373, 'equal': 374, 'declines': 375, 'what': 376, 'tell': 377, 'himself': 378, 'shoes': 379, 'worst': 380, 'the': 381, 'hailstone': 382, 'broke': 383, 'lift': 384, 'course': 385, 'point': 386, 'leader': 387, 'offices': 388, 'of': 389, 'please': 390, 'conscienced': 391, 'give': 392, 'upon': 393, 'citizen': 394, 'maliciously': 395, 'parts': 396, 'mouths': 397, 'relieve': 398, 'digest': 399, 'audit': 400, 'show': 401, 'assembly': 402, \"you'll\": 403, 'depends': 404, 'though': 405, 'state': 406, 'below': 407, 'aufidius': 408, 'discontented': 409, 'great': 410, 'grown': 411, 'unknown': 412, 'undone': 413, 'together': 414, 'malign': 415, 'inferior': 416, 'weal': 417, 'arm': 418, 'lately': 419, 'was': 420, 'fortnight': 421, 'because': 422, 'nerves': 423, 'members': 424, 'word': 425, 'suitors': 426, 'to': 427, 'replied': 428, 'further': 429, 'house': 430, 'horns': 431, 'services': 432, 'there': 433, 'petty': 434, 'break': 435, 'says': 436, 'these': 437, 'general': 438, 'favours': 439, 'arguing': 440, 'spare': 441, 'rabble': 442, 'elders': 443, 'rise': 444, 'cannot': 445, 'grain': 446, 'down': 447, 'find': 448, 'some': 449, 'hungry': 450, 'thing': 451, 'hews': 452, 'do': 453, 'strongest': 454, \"go'st\": 455, 'that': 456, 'agents': 457, 'lance': 458, \"mark'd\": 459, 'long': 460, 'he': 461, \"answer'd\": 462, 'and': 463, 'keep': 464, 'noble': 465, 'whereof': 466, 'enemy': 467, 'never': 468, 'accusers': 469, 'hate': 470, 'chain': 471, 'patience': 472, 'comes': 473, 'hunt': 474, 'an': 475, 'heaven': 476, 'from': 477, 'remember': 478, 'beneath': 479, 'about': 480, 'bred': 481, 'gulf': 482, 'liking': 483, 'troop': 484, 'veins': 485, 'bestow': 486, 'scabs': 487, 'man': 488, 'either': 489, 'emulation': 490, 'houses': 491, 'them': 492, 'attends': 493, 'we': 494, 'devour': 495, 'could': 496, 'little': 497, 'did': 498, 'need': 499, 'worshipful': 500, 'ready': 501, 'bats': 502, 'here': 503, 'feebling': 504, 'dearth': 505, 'thousand': 506, 'taunts': 507, 'rebellion': 508, \"rebell'd\": 509, 'other': 510, 'with': 511, 'dissolved': 512, 'confess': 513, 'win': 514, 'friend': 515, \"is't\": 516, 'relieved': 517, \"insurrection's\": 518, 'deliver': 519, 'gain': 520, 'musty': 521, 'itch': 522, 'barren': 523, 'curbs': 524, \"lead'st\": 525, 'tullus': 526, 'good': 527, 'make': 528, 'charitable': 529, 'rushes': 530, 'best': 531, 'shalt': 532, 'instruments': 533, 'bear': 534, 'seeking': 535, 'through': 536, 'beseech': 537, \"where's\": 538, 'why': 539, 'piercing': 540, 'note': 541, 'well': 542, 'volsces': 543, 'way': 544, 'wise': 545, \"o'\": 546, 'court': 547, 'nor': 548, 'edicts': 549, 'trumpeter': 550, 'affection': 551, 'gods': 552, 'eat': 553, 'vigilant': 554, 'intend': 555, 'for': 556, \"to't\": 557, 'put': 558, 'steed': 559, 'words': 560, 'appear': 561, 'when': 562, 'abhorring': 563, 'would': 564, 'like': 565, 'labour': 566, 'feel': 567, 'garland': 568, 'body': 569, 'malicious': 570, 'end': 571, 'become': 572, 'incorporate': 573, 'ruth': 574, 'ere': 575, 'envying': 576, 'come': 577, 'must': 578, 'awhile': 579, 'thanks': 580, \"man's\": 581, 'now': 582, 'on': 583, 'brain': 584, 'yield': 585, 'cared': 586, 'flour': 587, 'rogues': 588, \"sigh'd\": 589, 'lip': 590, 'most': 591, 'business': 592, 'country': 593, 'discretion': 594, 'thee': 595, 'done': 596, 'time': 597, 'competency': 598, 'out': 599, 'another': 600, 'gird': 601, 'tale': 602, 'sir': 603, 'stone': 604, 'at': 605, 'him': 606, 'belly': 607, 'they': 608, 'be': 609, 'undo': 610, 'resolved': 611, 'revenge': 612, 'war': 613, 'heard': 614, 'party': 615, 'senator': 616, 'rascal': 617, 'talking': 618, 'faults': 619, 'i': 620, 'countrymen': 621, 'small': 622, 'particularise': 623, 'face': 624, 'in': 625, 'shreds': 626, 'folly': 627, 'fragments': 628, 'mutiners': 629, 'nobility': 630, 'any': 631, 'venture': 632, 'side': 633, 'so': 634, 'wants': 635, 'several': 636, 'rich': 637, 'virtue': 638, \"t'other\": 639, 'hang': 640, 'rakes': 641, 'prating': 642, 'accounted': 643, 'help': 644, 'valiant': 645, 'repetition': 646, 'away': 647, 'ye': 648, 'covetous': 649, 'then': 650, 'lion': 651, 'famish': 652, 'opinion': 653, 'affrights': 654, 'present': 655, 'caps': 656, 'true': 657, 'revolt': 658, 'us': 659, 'calamity': 660, 'foxes': 661, 'soft': 662, 'am': 663, 'speak': 664, 'rest': 665, 'crutch': 666, 'brutus': 667, 'slander': 668, 'eye': 669, 'misery': 670, 'support': 671, \"one's\": 672, 'messenger': 673, 'walk': 674, 'feed': 675, 'speaks': 676, 'factions': 677, 'surfeits': 678, 'mine': 679, 'hand': 680, 'knees': 681, 'unactive': 682, 'helms': 683, 'worthy': 684, 'report': 685, 'yet': 686, 'rightly': 687, 'makes': 688, 'increase': 689, 'chosen': 690, 'run': 691, \"work's\": 692, 'participate': 693, 'thoroughly': 694, 'mother': 695, 'fort': 696, 'lack': 697, 'sufferance': 698, 'even': 699, 'back': 700, 'shouts': 701, 'link': 702, 'sun': 703, 'proverbs': 704, 'promise': 705, 'subdues': 706, 'account': 707, 'envied': 708, 'pikes': 709, 'which': 710, 'sit': 711, 'rivers': 712, 'wholesome': 713, 'defend': 714, 'grave': 715, \"ha'\": 716, 'generosity': 717, 'her': 718, 'inventory': 719, 'corn': 720, 'nature': 721, 'half': 722, 'deeds': 723, 'whereby': 724, \"quarter'd\": 725, 'sicinius': 726, 'cranks': 727, 'finds': 728, 'moved': 729, 'mock': 730, 'roman': 731, \"'true\": 732, 'pick': 733, \"prevail'd\": 734, 'choice': 735, 'mark': 736, 'stored': 737, 'die': 738, 'bread': 739, \"i'll\": 740, 'thither': 741, 'citizens': 742, 'means': 743, 'proceed': 744, 'their': 745, 'already': 746, 'indeed': 747, 'thousands': 748, 'answer': 749, 'neighbours': 750, 'smile': 751, 'pretty': 752, 'lean': 753, 'muniments': 754}, {0: 'provide', 1: 'modest', 2: 'hail', 3: 'coal', 4: 'famously', 5: 'look', 6: 'patricians', 7: 'till', 8: 'rates', 9: 'marriages', 10: 'guess', 11: 'alack', 12: 'threw', 13: 'granted', 14: 'masters', 15: 'tribunes', 16: 'wars', 17: 'company', 18: 'midst', 19: 'own', 20: 'soldier', 21: 'swims', 22: 'men', 23: 'it', 24: \"he's\", 25: 'fire', 26: 'nay', 27: 'caius', 28: 'commonalty', 29: 'tire', 30: 'appetite', 31: 'five', 32: 'go', 33: \"unroof'd\", 34: 'cupboarding', 35: 'care', 36: 'every', 37: 'verdict', 38: 'natural', 39: 'being', 40: 'a', 41: 'fellow', 42: 'quoth', 43: 'passing', 44: 'remain', 45: 'you', 46: 'capitol', 47: \"'that\", 48: 'loved', 49: 'repeal', 50: 'former', 51: 'proceeds', 52: 'vile', 53: 'lions', 54: 'devise', 55: 'almost', 56: 'mind', 57: 'people', 58: 'minister', 59: 'abundantly', 60: 'price', 61: 'rather', 62: 'examine', 63: 'quarry', 64: 'toe', 65: 'pale', 66: 'stay', 67: 'titus', 68: 'cominius', 69: 'cormorant', 70: 'thrives', 71: 'head', 72: 'serves', 73: 'suffering', 74: 'get', 75: 'dog', 76: 'takes', 77: 'seat', 78: 'fit', 79: 'this', 80: 'sink', 81: 'flatter', 82: 'suffer', 83: 'geese', 84: 'velutus', 85: 'vantage', 86: 'hear', 87: 'basest', 88: 'dissentious', 89: 'awe', 90: 'things', 91: 'o', 92: 'sick', 93: 'enemies', 94: 'disgrace', 95: 'proud', 96: 'superfluity', 97: 'accused', 98: 'should', 99: 'authority', 100: 'persuaded', 101: 'oaks', 102: 'mutually', 103: 'say', 104: 'follow', 105: 'are', 106: 'viand', 107: 'desires', 108: \"we'll\", 109: 'might', 110: 'thirst', 111: 'by', 112: 'gnaw', 113: 'apply', 114: 'staves', 115: \"'tis\", 116: 'complainings', 117: 'partly', 118: 'kill', 119: 'inkling', 120: 'minute', 121: 'surer', 122: 'each', 123: 'meat', 124: 'matter', 125: 'ears', 126: 'statutes', 127: 'tauntingly', 128: 'first', 129: 'usury', 130: 'strong', 131: 'fathers', 132: 'all', 133: \"belly's\", 134: \"ne'er\", 135: 'places', 136: 'aside', 137: 'walls', 138: 'think', 139: 'helps', 140: 'lowest', 141: 'enough', 142: 'high', 143: 'if', 144: 'arms', 145: 'where', 146: 'receipt', 147: 'rubbing', 148: 'moon', 149: 'benefit', 150: 'store', 151: 'ice', 152: 'hunger', 153: 'said', 154: 'kind', 155: 'hares', 156: 'chief', 157: 'leg', 158: \"tullus'\", 159: 'established', 160: 'transported', 161: 'risen', 162: 'dogs', 163: \"body's\", 164: 'instruct', 165: 'live', 166: 'vice', 167: 'curs', 168: \"'t\", 169: 'senate', 170: 'garners', 171: 'love', 172: 'crowned', 173: 'fitly', 174: 'city', 175: 'too', 176: 'only', 177: 'me', 178: 'ten', 179: 'glad', 180: \"on't\", 181: 'usurers', 182: 'how', 183: 'surplus', 184: 'attend', 185: 'were', 186: 'our', 187: 'made', 188: 'leave', 189: 'off', 190: 'ever', 191: 'sword', 192: 'else', 193: \"who's\", 194: 'themes', 195: 'much', 196: 'vulgar', 197: 'while', 198: 'evil', 199: 'pays', 200: \"'\", 201: 'yourselves', 202: 'altitude', 203: 'offence', 204: 'justice', 205: 'sent', 206: 'bearing', 207: 'can', 208: 'shop', 209: 'deserves', 210: 'parties', 211: 'fight', 212: 'against', 213: 'once', 214: 'slaves', 215: 'constant', 216: 'change', 217: 'very', 218: 'since', 219: 'but', 220: 'stand', 221: \"they'll\", 222: 'wish', 223: 'junius', 224: 'complain', 225: 'consider', 226: \"i'ld\", 227: 'eyes', 228: 'food', 229: 'always', 230: 'heart', 231: 'presume', 232: 'forth', 233: 'who', 234: 'peace', 235: 'had', 236: 'cracking', 237: 'call', 238: 'petition', 239: 'counsels', 240: 'ay', 241: 'greatest', 242: 'as', 243: \"there's\", 244: 'touching', 245: 'no', 246: 'marcius', 247: \"i'\", 248: 'lay', 249: 'told', 250: 'agrippa', 251: 'your', 252: 'shall', 253: 'unto', 254: 'came', 255: 'conjectural', 256: 'more', 257: \"what's\", 258: 'friends', 259: 'purpose', 260: 'vent', 261: 'valour', 262: 'bale', 263: 'send', 264: 'act', 265: 'up', 266: 'content', 267: 'clubs', 268: 'poor', 269: 'fob', 270: 'art', 271: 'daily', 272: 'sin', 273: \"'though\", 274: 'pray', 275: 'abundance', 276: 'take', 277: 'accusations', 278: 'humanely', 279: 'whose', 280: 'mutinous', 281: 'hath', 282: 'deliberate', 283: 'wisdoms', 284: 'cares', 285: 'know', 286: 'stale', 287: 'foremost', 288: 'world', 289: 'still', 290: 'lead', 291: 'stiff', 292: 'his', 293: 'menenius', 294: 'receive', 295: 'public', 296: 'poorest', 297: 'power', 298: 'thou', 299: 'than', 300: 'see', 301: 'behind', 302: 'senators', 303: 'has', 304: 'fins', 305: 'trusts', 306: \"know't\", 307: 'throw', 308: 'rash', 309: 'greater', 310: \"stand'st\", 311: 'use', 312: \"'em\", 313: \"ye're\", 314: 'leanness', 315: 'let', 316: \"'sdeath\", 317: 'whole', 318: 'lungs', 319: 'fought', 320: 'greatness', 321: 'vented', 322: 'news', 323: 'blood', 324: \"restrain'd\", 325: 'shouting', 326: 'bran', 327: 'battle', 328: \"'fore\", 329: 'under', 330: 'lartius', 331: 'before', 332: 'have', 333: 'impediment', 334: 'afflicts', 335: 'object', 336: 'common', 337: 'such', 338: 'or', 339: 'will', 340: 'restrain', 341: 'puts', 342: 'counsellor', 343: 'thus', 344: 'kingly', 345: 'one', 346: 'may', 347: 'trust', 348: 'bold', 349: 'rats', 350: 'cowardly', 351: 'second', 352: 'cry', 353: 'tongue', 354: 'affections', 355: 'cobbled', 356: 'curse', 357: 'my', 358: 'home', 359: 'making', 360: 'especially', 361: 'strike', 362: 'strange', 363: 'crammed', 364: 'idle', 365: 'rome', 366: 'not', 367: 'fabric', 368: 'dear', 369: 'is', 370: 'honest', 371: 'breaths', 372: 'wondrous', 373: 'asunder', 374: 'equal', 375: 'declines', 376: 'what', 377: 'tell', 378: 'himself', 379: 'shoes', 380: 'worst', 381: 'the', 382: 'hailstone', 383: 'broke', 384: 'lift', 385: 'course', 386: 'point', 387: 'leader', 388: 'offices', 389: 'of', 390: 'please', 391: 'conscienced', 392: 'give', 393: 'upon', 394: 'citizen', 395: 'maliciously', 396: 'parts', 397: 'mouths', 398: 'relieve', 399: 'digest', 400: 'audit', 401: 'show', 402: 'assembly', 403: \"you'll\", 404: 'depends', 405: 'though', 406: 'state', 407: 'below', 408: 'aufidius', 409: 'discontented', 410: 'great', 411: 'grown', 412: 'unknown', 413: 'undone', 414: 'together', 415: 'malign', 416: 'inferior', 417: 'weal', 418: 'arm', 419: 'lately', 420: 'was', 421: 'fortnight', 422: 'because', 423: 'nerves', 424: 'members', 425: 'word', 426: 'suitors', 427: 'to', 428: 'replied', 429: 'further', 430: 'house', 431: 'horns', 432: 'services', 433: 'there', 434: 'petty', 435: 'break', 436: 'says', 437: 'these', 438: 'general', 439: 'favours', 440: 'arguing', 441: 'spare', 442: 'rabble', 443: 'elders', 444: 'rise', 445: 'cannot', 446: 'grain', 447: 'down', 448: 'find', 449: 'some', 450: 'hungry', 451: 'thing', 452: 'hews', 453: 'do', 454: 'strongest', 455: \"go'st\", 456: 'that', 457: 'agents', 458: 'lance', 459: \"mark'd\", 460: 'long', 461: 'he', 462: \"answer'd\", 463: 'and', 464: 'keep', 465: 'noble', 466: 'whereof', 467: 'enemy', 468: 'never', 469: 'accusers', 470: 'hate', 471: 'chain', 472: 'patience', 473: 'comes', 474: 'hunt', 475: 'an', 476: 'heaven', 477: 'from', 478: 'remember', 479: 'beneath', 480: 'about', 481: 'bred', 482: 'gulf', 483: 'liking', 484: 'troop', 485: 'veins', 486: 'bestow', 487: 'scabs', 488: 'man', 489: 'either', 490: 'emulation', 491: 'houses', 492: 'them', 493: 'attends', 494: 'we', 495: 'devour', 496: 'could', 497: 'little', 498: 'did', 499: 'need', 500: 'worshipful', 501: 'ready', 502: 'bats', 503: 'here', 504: 'feebling', 505: 'dearth', 506: 'thousand', 507: 'taunts', 508: 'rebellion', 509: \"rebell'd\", 510: 'other', 511: 'with', 512: 'dissolved', 513: 'confess', 514: 'win', 515: 'friend', 516: \"is't\", 517: 'relieved', 518: \"insurrection's\", 519: 'deliver', 520: 'gain', 521: 'musty', 522: 'itch', 523: 'barren', 524: 'curbs', 525: \"lead'st\", 526: 'tullus', 527: 'good', 528: 'make', 529: 'charitable', 530: 'rushes', 531: 'best', 532: 'shalt', 533: 'instruments', 534: 'bear', 535: 'seeking', 536: 'through', 537: 'beseech', 538: \"where's\", 539: 'why', 540: 'piercing', 541: 'note', 542: 'well', 543: 'volsces', 544: 'way', 545: 'wise', 546: \"o'\", 547: 'court', 548: 'nor', 549: 'edicts', 550: 'trumpeter', 551: 'affection', 552: 'gods', 553: 'eat', 554: 'vigilant', 555: 'intend', 556: 'for', 557: \"to't\", 558: 'put', 559: 'steed', 560: 'words', 561: 'appear', 562: 'when', 563: 'abhorring', 564: 'would', 565: 'like', 566: 'labour', 567: 'feel', 568: 'garland', 569: 'body', 570: 'malicious', 571: 'end', 572: 'become', 573: 'incorporate', 574: 'ruth', 575: 'ere', 576: 'envying', 577: 'come', 578: 'must', 579: 'awhile', 580: 'thanks', 581: \"man's\", 582: 'now', 583: 'on', 584: 'brain', 585: 'yield', 586: 'cared', 587: 'flour', 588: 'rogues', 589: \"sigh'd\", 590: 'lip', 591: 'most', 592: 'business', 593: 'country', 594: 'discretion', 595: 'thee', 596: 'done', 597: 'time', 598: 'competency', 599: 'out', 600: 'another', 601: 'gird', 602: 'tale', 603: 'sir', 604: 'stone', 605: 'at', 606: 'him', 607: 'belly', 608: 'they', 609: 'be', 610: 'undo', 611: 'resolved', 612: 'revenge', 613: 'war', 614: 'heard', 615: 'party', 616: 'senator', 617: 'rascal', 618: 'talking', 619: 'faults', 620: 'i', 621: 'countrymen', 622: 'small', 623: 'particularise', 624: 'face', 625: 'in', 626: 'shreds', 627: 'folly', 628: 'fragments', 629: 'mutiners', 630: 'nobility', 631: 'any', 632: 'venture', 633: 'side', 634: 'so', 635: 'wants', 636: 'several', 637: 'rich', 638: 'virtue', 639: \"t'other\", 640: 'hang', 641: 'rakes', 642: 'prating', 643: 'accounted', 644: 'help', 645: 'valiant', 646: 'repetition', 647: 'away', 648: 'ye', 649: 'covetous', 650: 'then', 651: 'lion', 652: 'famish', 653: 'opinion', 654: 'affrights', 655: 'present', 656: 'caps', 657: 'true', 658: 'revolt', 659: 'us', 660: 'calamity', 661: 'foxes', 662: 'soft', 663: 'am', 664: 'speak', 665: 'rest', 666: 'crutch', 667: 'brutus', 668: 'slander', 669: 'eye', 670: 'misery', 671: 'support', 672: \"one's\", 673: 'messenger', 674: 'walk', 675: 'feed', 676: 'speaks', 677: 'factions', 678: 'surfeits', 679: 'mine', 680: 'hand', 681: 'knees', 682: 'unactive', 683: 'helms', 684: 'worthy', 685: 'report', 686: 'yet', 687: 'rightly', 688: 'makes', 689: 'increase', 690: 'chosen', 691: 'run', 692: \"work's\", 693: 'participate', 694: 'thoroughly', 695: 'mother', 696: 'fort', 697: 'lack', 698: 'sufferance', 699: 'even', 700: 'back', 701: 'shouts', 702: 'link', 703: 'sun', 704: 'proverbs', 705: 'promise', 706: 'subdues', 707: 'account', 708: 'envied', 709: 'pikes', 710: 'which', 711: 'sit', 712: 'rivers', 713: 'wholesome', 714: 'defend', 715: 'grave', 716: \"ha'\", 717: 'generosity', 718: 'her', 719: 'inventory', 720: 'corn', 721: 'nature', 722: 'half', 723: 'deeds', 724: 'whereby', 725: \"quarter'd\", 726: 'sicinius', 727: 'cranks', 728: 'finds', 729: 'moved', 730: 'mock', 731: 'roman', 732: \"'true\", 733: 'pick', 734: \"prevail'd\", 735: 'choice', 736: 'mark', 737: 'stored', 738: 'die', 739: 'bread', 740: \"i'll\", 741: 'thither', 742: 'citizens', 743: 'means', 744: 'proceed', 745: 'their', 746: 'already', 747: 'indeed', 748: 'thousands', 749: 'answer', 750: 'neighbours', 751: 'smile', 752: 'pretty', 753: 'lean', 754: 'muniments'})\n",
            "[128, 394, 331, 494, 744, 631, 429, 86, 177, 664, 132, 664, 664, 128, 394, 45, 105, 132, 611, 61, 427, 738, 299, 427, 652, 132, 611, 611, 128, 394, 128, 45, 285, 27, 246, 369, 156, 467, 427, 381, 57, 132, 494, 306, 494, 306, 128, 394, 315, 659, 118, 606, 463, 108, 332, 720, 605, 186, 19, 60, 516, 40, 37, 132, 245, 256, 618, 180, 315, 23, 609, 596, 647, 647, 351, 394, 345, 425, 527, 742, 128, 394, 494, 105, 643, 268, 742, 381, 6, 527, 376, 99, 678, 583, 564, 398, 659, 143, 608, 564, 585, 659, 219, 381, 96, 197, 23, 185, 713, 494, 109, 10, 608, 517, 659, 278, 219, 608, 138, 494, 105, 175, 368, 381, 314, 456, 334, 659, 381, 335, 389, 186, 670, 369, 242, 475, 719, 427, 623, 745, 275, 186, 698, 369, 40, 520, 427, 492, 315, 659, 612, 79, 511, 186, 709, 575, 494, 572, 641, 556, 381, 552, 285, 620, 664, 79, 625, 152, 556, 739, 366, 625, 110, 556, 612, 351, 394, 564, 45, 744, 360, 212, 27, 246, 132, 212, 606, 128, 24, 40, 217, 75, 427, 381, 28, 351, 394, 225, 45, 376, 432, 461, 303, 596, 556, 292, 593, 128, 394, 217, 542, 463, 496, 609, 266, 427, 392, 606, 527, 685, 696, 219, 456, 461, 199, 378, 511, 39, 95, 351, 394, 26, 219, 664, 366, 395, 128, 394, 620, 103, 253, 45, 376, 461, 281, 596, 4, 461, 498, 23, 427, 456, 571, 405, 662, 391, 22, 207, 609, 266, 427, 103, 23, 420, 556, 292, 593, 461, 498, 23, 427, 390, 292, 695, 463, 427, 609, 117, 95, 710, 461, 369, 699, 7, 381, 202, 389, 292, 638, 351, 394, 376, 461, 445, 644, 625, 292, 721, 45, 707, 40, 166, 625, 606, 45, 578, 625, 245, 544, 103, 461, 369, 649, 128, 394, 143, 620, 578, 366, 620, 499, 366, 609, 523, 389, 277, 461, 281, 619, 511, 183, 427, 29, 625, 646, 376, 701, 105, 437, 381, 510, 633, 546, 381, 174, 369, 161, 539, 66, 494, 642, 503, 427, 381, 46, 132, 577, 577, 128, 394, 662, 233, 473, 503, 351, 394, 684, 293, 250, 345, 456, 281, 229, 48, 381, 57, 128, 394, 24, 345, 370, 141, 564, 132, 381, 665, 185, 634, 293, 376, 692, 357, 621, 625, 680, 145, 32, 45, 511, 502, 463, 267, 381, 124, 664, 620, 274, 45, 128, 394, 186, 592, 369, 366, 412, 427, 381, 169, 608, 332, 235, 119, 79, 421, 376, 494, 555, 427, 453, 710, 582, 108, 401, 312, 625, 723, 608, 103, 268, 426, 332, 130, 371, 608, 252, 285, 494, 332, 130, 144, 175, 293, 539, 14, 357, 527, 258, 679, 370, 750, 339, 45, 610, 201, 128, 394, 494, 445, 603, 494, 105, 413, 746, 293, 620, 377, 45, 258, 591, 529, 35, 332, 381, 6, 389, 45, 556, 251, 635, 251, 73, 625, 79, 505, 45, 346, 242, 542, 361, 605, 381, 476, 511, 251, 114, 242, 384, 492, 212, 381, 731, 406, 279, 385, 339, 583, 381, 544, 23, 76, 236, 178, 506, 524, 389, 256, 130, 702, 373, 299, 207, 190, 561, 625, 251, 333, 556, 381, 505, 381, 552, 366, 381, 6, 528, 23, 463, 251, 681, 427, 492, 366, 144, 578, 644, 11, 45, 105, 160, 111, 660, 741, 145, 256, 493, 45, 463, 45, 668, 381, 683, 546, 381, 406, 233, 35, 556, 45, 565, 131, 562, 45, 356, 492, 242, 93, 128, 394, 35, 556, 659, 657, 747, 608, 134, 586, 556, 659, 686, 82, 659, 427, 652, 463, 745, 150, 491, 363, 511, 446, 528, 549, 556, 129, 427, 671, 181, 49, 271, 631, 713, 264, 159, 212, 381, 637, 463, 0, 256, 540, 126, 271, 427, 471, 265, 463, 340, 381, 268, 143, 381, 16, 553, 659, 366, 265, 608, 339, 463, 243, 132, 381, 171, 608, 534, 659, 293, 489, 45, 578, 513, 201, 372, 570, 338, 609, 97, 389, 627, 620, 252, 377, 45, 40, 752, 602, 23, 346, 609, 45, 332, 614, 23, 219, 218, 23, 72, 357, 259, 620, 339, 632, 427, 286, 168, 40, 497, 256, 128, 394, 542, 740, 86, 23, 603, 686, 45, 578, 366, 138, 427, 269, 189, 186, 94, 511, 40, 602, 219, 475, 168, 390, 45, 519, 293, 433, 420, 40, 597, 562, 132, 381, 163, 424, 509, 212, 381, 607, 343, 97, 23, 456, 176, 565, 40, 482, 23, 498, 44, 247, 381, 18, 546, 381, 569, 364, 463, 682, 289, 34, 381, 106, 468, 206, 565, 566, 511, 381, 665, 145, 381, 510, 533, 498, 300, 463, 86, 54, 164, 674, 567, 463, 102, 693, 498, 58, 253, 381, 30, 463, 551, 336, 389, 381, 317, 569, 381, 607, 462, 128, 394, 542, 603, 376, 749, 187, 381, 607, 293, 603, 620, 252, 377, 45, 511, 40, 154, 389, 751, 710, 134, 254, 477, 381, 318, 219, 699, 343, 556, 5, 45, 620, 346, 528, 381, 607, 751, 242, 542, 242, 664, 23, 127, 428, 427, 381, 409, 424, 381, 280, 396, 456, 708, 292, 146, 699, 634, 591, 173, 242, 45, 415, 186, 302, 556, 456, 608, 105, 366, 337, 242, 45, 128, 394, 251, 133, 749, 376, 381, 344, 172, 71, 381, 554, 669, 381, 342, 230, 381, 418, 186, 20, 186, 559, 381, 157, 381, 353, 186, 550, 511, 510, 754, 463, 434, 139, 625, 79, 186, 367, 143, 456, 608, 293, 376, 650, 328, 177, 79, 41, 676, 376, 650, 376, 650, 128, 394, 98, 111, 381, 69, 607, 609, 324, 233, 369, 381, 80, 546, 381, 569, 293, 542, 376, 650, 128, 394, 381, 50, 457, 143, 608, 498, 224, 376, 496, 381, 607, 749, 293, 620, 339, 377, 45, 143, 403, 486, 40, 622, 389, 376, 45, 332, 497, 472, 579, 403, 86, 381, 133, 749, 128, 394, 313, 460, 480, 23, 293, 541, 177, 79, 527, 515, 251, 591, 715, 607, 420, 282, 366, 308, 565, 292, 469, 463, 343, 462, 732, 369, 23, 357, 573, 258, 200, 42, 461, 47, 620, 294, 381, 438, 228, 605, 128, 710, 45, 453, 165, 393, 463, 78, 23, 369, 422, 620, 663, 381, 150, 430, 463, 381, 208, 389, 381, 317, 569, 219, 143, 45, 453, 478, 620, 263, 23, 536, 381, 712, 389, 251, 323, 699, 427, 381, 547, 381, 230, 427, 381, 77, 546, 381, 584, 463, 536, 381, 727, 463, 388, 389, 488, 381, 454, 423, 463, 622, 416, 485, 477, 177, 294, 456, 38, 598, 724, 608, 165, 463, 405, 456, 132, 605, 213, 45, 357, 527, 258, 200, 79, 436, 381, 607, 736, 177, 128, 394, 240, 603, 542, 542, 293, 273, 132, 605, 213, 445, 300, 376, 620, 453, 519, 599, 427, 122, 686, 620, 207, 528, 357, 400, 265, 456, 132, 477, 177, 453, 700, 294, 381, 587, 389, 132, 463, 188, 177, 219, 381, 326, 200, 376, 103, 45, 557, 128, 394, 23, 420, 475, 749, 182, 113, 45, 79, 293, 381, 302, 389, 365, 105, 79, 527, 607, 463, 45, 381, 280, 424, 556, 62, 745, 239, 463, 745, 284, 399, 90, 687, 244, 381, 417, 546, 381, 336, 45, 252, 448, 245, 295, 149, 710, 45, 294, 219, 23, 51, 338, 473, 477, 492, 427, 45, 463, 245, 544, 477, 201, 376, 453, 45, 138, 45, 381, 410, 64, 389, 79, 402, 128, 394, 620, 381, 410, 64, 539, 381, 410, 64, 293, 556, 456, 39, 345, 546, 381, 140, 87, 296, 389, 79, 591, 545, 508, 298, 455, 287, 298, 617, 456, 270, 380, 625, 323, 427, 691, 525, 128, 427, 514, 449, 85, 219, 528, 45, 501, 251, 291, 502, 463, 267, 365, 463, 718, 349, 105, 605, 381, 386, 389, 327, 381, 345, 633, 578, 332, 262, 2, 465, 246, 246, 580, 257, 381, 124, 45, 88, 588, 456, 147, 381, 268, 522, 389, 251, 653, 528, 201, 487, 128, 394, 494, 332, 190, 251, 527, 425, 246, 461, 456, 339, 392, 527, 560, 427, 595, 339, 81, 479, 563, 376, 564, 45, 332, 45, 167, 456, 565, 548, 234, 548, 613, 381, 345, 654, 45, 381, 510, 688, 45, 95, 461, 456, 305, 427, 45, 145, 461, 98, 448, 45, 53, 728, 45, 155, 145, 661, 83, 45, 105, 245, 121, 245, 299, 369, 381, 3, 389, 25, 393, 381, 151, 338, 382, 625, 381, 703, 251, 638, 369, 427, 528, 606, 684, 279, 203, 706, 606, 463, 356, 456, 204, 498, 23, 233, 209, 320, 209, 251, 470, 463, 251, 354, 105, 40, 92, 581, 30, 233, 107, 591, 456, 710, 564, 689, 292, 198, 461, 456, 404, 393, 251, 439, 21, 511, 304, 389, 290, 463, 452, 447, 101, 511, 530, 640, 648, 347, 648, 511, 36, 120, 45, 453, 216, 40, 56, 463, 237, 606, 465, 456, 420, 582, 251, 470, 606, 52, 456, 420, 251, 568, 257, 381, 124, 456, 625, 437, 636, 135, 389, 381, 174, 45, 352, 212, 381, 465, 169, 233, 329, 381, 552, 464, 45, 625, 89, 710, 192, 564, 675, 583, 345, 600, 257, 745, 535, 293, 556, 720, 605, 745, 19, 8, 466, 608, 103, 381, 174, 369, 542, 737, 246, 640, 312, 608, 103, 221, 711, 111, 381, 25, 463, 231, 427, 285, 257, 596, 247, 381, 46, 193, 565, 427, 444, 233, 70, 463, 233, 375, 633, 677, 463, 392, 599, 255, 9, 359, 210, 130, 463, 504, 337, 242, 220, 366, 625, 745, 483, 407, 745, 355, 379, 608, 103, 243, 446, 141, 564, 381, 630, 248, 136, 745, 574, 463, 315, 177, 311, 357, 191, 740, 528, 40, 63, 511, 748, 389, 437, 725, 214, 242, 142, 242, 620, 496, 733, 357, 458, 293, 26, 437, 105, 55, 694, 100, 556, 405, 59, 608, 697, 594, 686, 105, 608, 43, 350, 219, 620, 537, 45, 376, 436, 381, 510, 484, 246, 608, 105, 512, 640, 312, 608, 153, 608, 185, 475, 450, 589, 232, 704, 456, 152, 383, 604, 137, 456, 162, 578, 553, 456, 123, 420, 187, 556, 397, 456, 381, 552, 205, 366, 720, 556, 381, 637, 22, 176, 511, 437, 626, 608, 321, 745, 116, 710, 39, 462, 463, 40, 238, 13, 492, 40, 362, 345, 427, 435, 381, 230, 389, 717, 463, 528, 348, 297, 5, 65, 608, 12, 745, 656, 242, 608, 564, 640, 492, 583, 381, 431, 546, 381, 148, 325, 745, 490, 293, 376, 369, 13, 492, 246, 31, 15, 427, 714, 745, 196, 283, 389, 745, 19, 735, 672, 223, 667, 726, 84, 463, 620, 285, 366, 316, 381, 442, 98, 332, 128, 33, 381, 174, 575, 634, 734, 511, 177, 23, 339, 625, 597, 514, 393, 297, 463, 307, 232, 309, 194, 556, 518, 440, 293, 79, 369, 362, 246, 32, 74, 45, 358, 45, 628, 673, 538, 27, 246, 246, 503, 257, 381, 124, 673, 381, 322, 369, 603, 381, 543, 105, 625, 144, 246, 620, 663, 179, 583, 168, 650, 494, 252, 716, 743, 427, 260, 186, 521, 96, 300, 186, 531, 443, 128, 616, 246, 115, 657, 456, 45, 332, 419, 249, 659, 381, 543, 105, 625, 144, 246, 608, 332, 40, 387, 526, 408, 456, 339, 558, 45, 427, 168, 620, 272, 625, 576, 292, 630, 463, 185, 620, 631, 451, 219, 376, 620, 663, 620, 564, 222, 177, 176, 461, 68, 45, 332, 319, 414, 246, 185, 722, 427, 722, 381, 288, 111, 381, 125, 463, 461, 393, 357, 615, 226, 658, 427, 528, 176, 357, 16, 511, 606, 461, 369, 40, 651, 456, 620, 663, 95, 427, 474, 128, 616, 650, 684, 246, 184, 393, 68, 427, 437, 16, 68, 23, 369, 251, 50, 705, 246, 603, 23, 369, 463, 620, 663, 215, 67, 330, 298, 532, 300, 177, 213, 256, 361, 605, 158, 624, 376, 270, 298, 291, 310, 599, 67, 245, 27, 246, 740, 753, 393, 345, 666, 463, 211, 511, 639, 575, 66, 301, 79, 592, 293, 91, 657, 481, 128, 616, 251, 17, 427, 381, 46, 145, 620, 285, 186, 241, 258, 184, 659, 67, 68, 465, 246, 128, 616, 246, 26, 315, 492, 104, 381, 543, 332, 195, 720, 276, 437, 349, 741, 427, 112, 745, 170, 500, 629, 251, 261, 341, 542, 232, 274, 104, 726, 420, 190, 488, 634, 95, 242, 369, 79, 246, 667, 461, 303, 245, 374, 726, 562, 494, 185, 690, 15, 556, 381, 57, 667, 459, 45, 292, 590, 463, 227, 726, 26, 219, 292, 507, 667, 39, 729, 461, 339, 366, 441, 427, 601, 381, 552, 726, 609, 730, 381, 1, 148, 667, 381, 655, 16, 495, 606, 461, 369, 411, 175, 95, 427, 609, 634, 645]\n"
          ]
        }
      ]
    },
    {
      "cell_type": "markdown",
      "source": [
        "# Test Your Tokenizer"
      ],
      "metadata": {
        "id": "4Qj-QcZpCWmV"
      }
    },
    {
      "cell_type": "code",
      "source": [
        "test_1 = \"\"\"\n",
        "Care for us! True, indeed! They ne'er cared for us\n",
        "yet: suffer us to famish, and their store-houses\n",
        "crammed with grain; make edicts for usury, to\n",
        "support usurers; repeal daily any wholesome act\n",
        "established against the rich, and provide more\n",
        "piercing statutes daily, to chain up and restrain\n",
        "the poor. If the wars eat us not up, they will; and\n",
        "there's all the love they bear us.\"\"\"\n",
        "\n",
        "test_2 = \"\"\"Well, I'll hear it, sir: yet you must not think to\n",
        "fob off our disgrace with a tale: but, an 't please\n",
        "you, deliver.\"\"\""
      ],
      "metadata": {
        "id": "pyG0ccsXWX2M"
      },
      "execution_count": null,
      "outputs": []
    },
    {
      "cell_type": "code",
      "source": [
        ""
      ],
      "metadata": {
        "id": "cL6xYV4OC6Nh"
      },
      "execution_count": null,
      "outputs": []
    },
    {
      "cell_type": "code",
      "source": [
        ""
      ],
      "metadata": {
        "id": "Wsgy7TceFn_b"
      },
      "execution_count": null,
      "outputs": []
    },
    {
      "cell_type": "markdown",
      "source": [
        "The expected output for test_1 \n",
        "\n",
        "\n",
        "```\n",
        "[470, 615, 112, 308, 715, 152, 392, 184, 615, 112, 27, 557, 112, 564, 752, 300, 217, 524, 691, 386, 622, 590, 432, 367, 615, 500, 564, 254, 145, 241, 416, 108, 459, 344, 703, 692, 220, 740, 300, 578, 686, 156, 402, 416, 564, 497, 421, 300, 455, 220, 682, 55, 220, 603, 382, 112, 723, 421, 152, 19, 300, 700, 360, 220, 559, 152, 287, 112]\n",
        "care for us true indeed they ne'er cared for us yet suffer us to famish and their store houses crammed with grain make edicts for usury to support usurers repeal daily any wholesome act established against the rich and provide more piercing statutes daily to chain up and restrain the poor if the wars eat us not up they will and there's all the love they bear us\n",
        "\n",
        "```\n",
        "\n",
        "\n",
        "The expected output for test_2\n",
        "\n",
        "\n",
        "```\n",
        "[272, 167, 580, 366, 707, 27, 95, 154, 723, 115, 564, 111, 663, 529, 531, 622, 435, 350, 523, 179, 643, 633, 95, 609]\n",
        "well i'll hear it sir yet you must not think to fob off our disgrace with a tale but an 't please you deliver\n",
        "```\n",
        "\n",
        "\n"
      ],
      "metadata": {
        "id": "aUESU0DCFPPc"
      }
    }
  ]
}