{
  "cells": [
    {
      "cell_type": "markdown",
      "metadata": {
        "id": "AU78WMPocdFw"
      },
      "source": [
        "#Assignment 04: Deep Learning Algorithms \n",
        "\n",
        "This Week's assignment is to train Deep Learning and Machine Learning algorithms on the `fashion_mnist` images dataset to accurately predict the type of clothes in the image.\n",
        "\n",
        "Before starting copy this file and work on your own copy by following the below steps: \n",
        "`File > Save Copy in Drive`. Then add your name to the file (e.g., Assignment 04: Deep Learning - Muntadher Alkaabi).\n",
        "\n",
        "\n",
        "**Submission Deadline: Thursday, 2/10/2022 at 3:00 PM**\n",
        "\n",
        "**Requirements:**\n",
        "\n",
        "1. Import all necessary libraries for the machine learning project.\n",
        "2. Download the dataset using `tf.keras.datasets`.\n",
        "3. Make sure the pixels values are scaled between (`0-1`).\n",
        "4. Make sure to convert the target into one hot vector.\n",
        "5. Train six different Machine Learning models (`KNN`, `Logistics Regression`, `Support Vector Machine`, `Decision Tree`, `Random Forest`, `DNN`).\n",
        "\n",
        "\n",
        "6. Make sure to achieve the following results for the testing data:\n",
        "<br> Accuracy equal or above \"95%\", and Loss equal or below \"0.1\". \n",
        "7. Plot the loss and validation loss values from the training history of the DNN model.\n",
        "8. Use the right evaluation metrics to choose the best model (write down your choice of the best model).\n",
        "\n",
        "\n",
        "**Note:** To get the best performance from the model, manually tune the hyperparameters of each model.\n",
        "\n",
        "Find relevant links below:\n",
        "\n",
        "[Submission Form](https://docs.google.com/forms/d/e/1FAIpQLScPUIMjrlCk9Px0ioSE9xLViJO9r-Q1EymwXxXcJmQuHmIEHA/viewform?usp=pp_url)\n",
        "\n",
        "Good luck and feel free to ask any questions in the or on the Questions channel."
      ]
    },
    {
      "cell_type": "markdown",
      "metadata": {
        "id": "w829qkPAq9qS"
      },
      "source": [
        "# 1- Import all necessary libraries for the machine learning project."
      ]
    },
    {
      "cell_type": "code",
      "execution_count": 67,
      "metadata": {
        "id": "uBdm7aY-UqVx"
      },
      "outputs": [],
      "source": [
        "# import the necessary libraries\n",
        "from sklearn import metrics,model_selection,preprocessing,neighbors,linear_model,tree,svm\n",
        "from sklearn.model_selection import KFold\n",
        "from sklearn.ensemble import RandomForestClassifier\n",
        "import numpy as np\n",
        "import pandas as pd\n",
        "import tensorflow as tf\n",
        "import matplotlib.pyplot as plt"
      ]
    },
    {
      "cell_type": "markdown",
      "metadata": {
        "id": "6g4tht-nmweh"
      },
      "source": [
        "\n",
        "# 2- Download the dataset using tf.keras.dataset"
      ]
    },
    {
      "cell_type": "code",
      "execution_count": 68,
      "metadata": {
        "id": "cGhdu-K3dCwn"
      },
      "outputs": [],
      "source": [
        "# download the required dataset\n",
        "(x_train,y_train),(x_test,y_test)=tf.keras.datasets.fashion_mnist.load_data()"
      ]
    },
    {
      "cell_type": "code",
      "execution_count": 69,
      "metadata": {
        "colab": {
          "base_uri": "https://localhost:8080/",
          "height": 282
        },
        "id": "kBMYbkgtrP5w",
        "outputId": "1eacbec5-5f91-4f78-ffdd-d0fde9cb3c88"
      },
      "outputs": [
        {
          "output_type": "execute_result",
          "data": {
            "text/plain": [
              "<matplotlib.image.AxesImage at 0x7f6ace430690>"
            ]
          },
          "metadata": {},
          "execution_count": 69
        },
        {
          "output_type": "display_data",
          "data": {
            "image/png": "[encoded data removed]",
            "text/plain": [
              "<Figure size 432x288 with 1 Axes>"
            ]
          },
          "metadata": {
            "needs_background": "light"
          }
        }
      ],
      "source": [
        "# plot image samples from the dataset \n",
        "plt.imshow(x_train[0])"
      ]
    },
    {
      "cell_type": "code",
      "execution_count": 70,
      "metadata": {
        "colab": {
          "base_uri": "https://localhost:8080/"
        },
        "id": "wlb_i9T3rk8f",
        "outputId": "6193e7a1-227e-4aef-cc52-d0524ce0359f"
      },
      "outputs": [
        {
          "output_type": "stream",
          "name": "stdout",
          "text": [
            "shape of x_train: (60000, 28, 28)\n",
            "shape of y_train: (60000,)\n",
            "shape of x_test: (10000, 28, 28)\n",
            "shape of y_test: (10000,)\n"
          ]
        }
      ],
      "source": [
        "# check the shape of the following (x_train, y_train and x_test, y_test)\n",
        "print('shape of x_train:', x_train.shape)\n",
        "print('shape of y_train:', y_train.shape)\n",
        "print('shape of x_test:',x_test.shape)\n",
        "print('shape of y_test:', y_test.shape)"
      ]
    },
    {
      "cell_type": "code",
      "execution_count": 71,
      "metadata": {
        "colab": {
          "base_uri": "https://localhost:8080/",
          "height": 334
        },
        "id": "7ZWgBTqKsAAL",
        "outputId": "d06f3881-6363-40ed-8bf8-9e1fdf39bb06"
      },
      "outputs": [
        {
          "output_type": "execute_result",
          "data": {
            "text/plain": [
              "(array([6000., 6000., 6000., 6000., 6000., 6000., 6000., 6000., 6000.,\n",
              "        6000.]),\n",
              " array([0. , 0.9, 1.8, 2.7, 3.6, 4.5, 5.4, 6.3, 7.2, 8.1, 9. ]),\n",
              " <a list of 10 Patch objects>)"
            ]
          },
          "metadata": {},
          "execution_count": 71
        },
        {
          "output_type": "display_data",
          "data": {
            "image/png": "[encoded data removed]",
            "text/plain": [
              "<Figure size 432x288 with 1 Axes>"
            ]
          },
          "metadata": {
            "needs_background": "light"
          }
        }
      ],
      "source": [
        "# plot the histogram of the target from the training and testing distribution \n",
        "plt.hist(y_train)"
      ]
    },
    {
      "cell_type": "code",
      "execution_count": 72,
      "metadata": {
        "colab": {
          "base_uri": "https://localhost:8080/",
          "height": 334
        },
        "id": "-SnOfAYXtIEq",
        "outputId": "34281b04-e138-489e-985b-f0118f3ddf1f"
      },
      "outputs": [
        {
          "output_type": "execute_result",
          "data": {
            "text/plain": [
              "(array([1000., 1000., 1000., 1000., 1000., 1000., 1000., 1000., 1000.,\n",
              "        1000.]),\n",
              " array([0. , 0.9, 1.8, 2.7, 3.6, 4.5, 5.4, 6.3, 7.2, 8.1, 9. ]),\n",
              " <a list of 10 Patch objects>)"
            ]
          },
          "metadata": {},
          "execution_count": 72
        },
        {
          "output_type": "display_data",
          "data": {
            "image/png": "[encoded data removed]",
            "text/plain": [
              "<Figure size 432x288 with 1 Axes>"
            ]
          },
          "metadata": {
            "needs_background": "light"
          }
        }
      ],
      "source": [
        "plt.hist(y_test)"
      ]
    },
    {
      "cell_type": "code",
      "execution_count": 73,
      "metadata": {
        "colab": {
          "base_uri": "https://localhost:8080/"
        },
        "id": "pS7bcpkuIizT",
        "outputId": "97bb592d-2aa7-4981-977d-1096c28557d6"
      },
      "outputs": [
        {
          "output_type": "execute_result",
          "data": {
            "text/plain": [
              "{0, 1, 2, 3, 4, 5, 6, 7, 8, 9}"
            ]
          },
          "metadata": {},
          "execution_count": 73
        }
      ],
      "source": [
        "set(y_train)"
      ]
    },
    {
      "cell_type": "markdown",
      "metadata": {
        "id": "M_uRTiZJnLgq"
      },
      "source": [
        "\n",
        "# 3- Make sure the pixels values are scaled between (0-1)"
      ]
    },
    {
      "cell_type": "code",
      "execution_count": 74,
      "metadata": {
        "id": "9bmGWG22nUnz"
      },
      "outputs": [],
      "source": [
        "# scale the pixels values between 0-1\n",
        "x_train=x_train/255.0\n",
        "x_test=x_test/255.0"
      ]
    },
    {
      "cell_type": "code",
      "execution_count": 75,
      "metadata": {
        "colab": {
          "base_uri": "https://localhost:8080/"
        },
        "id": "VUgkrG2gusaT",
        "outputId": "f04cfa1d-498a-4236-dce8-de7f63ca824f"
      },
      "outputs": [
        {
          "output_type": "stream",
          "name": "stdout",
          "text": [
            "shape of x_train: (60000, 784)\n",
            "shape of x_test: (10000, 784)\n"
          ]
        }
      ],
      "source": [
        "# convert the images into vectors\n",
        "x_train=x_train.reshape(-1,784)\n",
        "x_test=x_test.reshape(-1,784)\n",
        "print('shape of x_train:', x_train.shape)\n",
        "print('shape of x_test:',x_test.shape)\n"
      ]
    },
    {
      "cell_type": "markdown",
      "metadata": {
        "id": "ckUtAjXWnXFl"
      },
      "source": [
        "# 4- Make sure to convert the target into one hot vector"
      ]
    },
    {
      "cell_type": "code",
      "execution_count": 76,
      "metadata": {
        "id": "p_C9e67fq_TJ"
      },
      "outputs": [],
      "source": [
        "# encode the training and testing target into one hot vector\n",
        "y_train_hot=tf.one_hot(y_train,depth=len(set(y_train)))\n",
        "y_test_hot=tf.one_hot(y_test,depth=len(set(y_train)))"
      ]
    },
    {
      "cell_type": "code",
      "execution_count": 77,
      "metadata": {
        "colab": {
          "base_uri": "https://localhost:8080/"
        },
        "id": "B6sZEgiRtcSb",
        "outputId": "f667c8d5-c697-4d6b-9c01-f6b1fa7c1880"
      },
      "outputs": [
        {
          "output_type": "stream",
          "name": "stdout",
          "text": [
            "y_train_hot: tf.Tensor(\n",
            "[[0. 0. 0. ... 0. 0. 1.]\n",
            " [1. 0. 0. ... 0. 0. 0.]\n",
            " [1. 0. 0. ... 0. 0. 0.]\n",
            " ...\n",
            " [0. 0. 0. ... 0. 0. 0.]\n",
            " [1. 0. 0. ... 0. 0. 0.]\n",
            " [0. 0. 0. ... 0. 0. 0.]], shape=(60000, 10), dtype=float32)\n",
            "y_test_hot: tf.Tensor(\n",
            "[[0. 0. 0. ... 0. 0. 1.]\n",
            " [0. 0. 1. ... 0. 0. 0.]\n",
            " [0. 1. 0. ... 0. 0. 0.]\n",
            " ...\n",
            " [0. 0. 0. ... 0. 1. 0.]\n",
            " [0. 1. 0. ... 0. 0. 0.]\n",
            " [0. 0. 0. ... 0. 0. 0.]], shape=(10000, 10), dtype=float32)\n"
          ]
        }
      ],
      "source": [
        "print('y_train_hot:', y_train_hot)\n",
        "print('y_test_hot:', y_test_hot)"
      ]
    },
    {
      "cell_type": "markdown",
      "metadata": {
        "id": "HCe35fm1nlS4"
      },
      "source": [
        "# 5- Modeling\n",
        "Train six different models (KNN, Logistics Regression, Support Vector Machine, Decision Tree, Random Forest, DNN)\n",
        "\n",
        "\n",
        "**Note:**\n",
        "1. Make sure to saperate each model in a new sub-section.\n",
        "2. Make sure to achieve the following results for the testing data: \n",
        "<br> Accuracy equal or above \"95%\", and Loss equal or below \"0.1\".\n",
        "3. Plot the loss and validation loss values from the training history of the DNN model.\n",
        "4. Use the right evaluation metrics to choose the best model (write down your choice of the best model)."
      ]
    },
    {
      "cell_type": "markdown",
      "metadata": {
        "id": "WlXgQPImug8m"
      },
      "source": [
        "##KNN"
      ]
    },
    {
      "cell_type": "code",
      "execution_count": null,
      "metadata": {
        "colab": {
          "base_uri": "https://localhost:8080/"
        },
        "id": "5MUMERk-tfch",
        "outputId": "e7c930c4-4759-45ee-9743-65fe7de0e59a"
      },
      "outputs": [
        {
          "data": {
            "text/plain": [
              "KNeighborsClassifier(n_neighbors=3)"
            ]
          },
          "execution_count": 44,
          "metadata": {},
          "output_type": "execute_result"
        }
      ],
      "source": [
        "# Create Decision KNN classifer\n",
        "model_1=neighbors.KNeighborsClassifier(n_neighbors=3)\n",
        "# Train Decision KNN Classifer\n",
        "model_1.fit(x_train,y_train)"
      ]
    },
    {
      "cell_type": "code",
      "execution_count": null,
      "metadata": {
        "id": "SS_FieftuFd3"
      },
      "outputs": [],
      "source": [
        "#Predict the response for test dataset\n",
        "y_pred=model_1.predict(x_test)"
      ]
    },
    {
      "cell_type": "markdown",
      "metadata": {
        "id": "hB4aA97nueYj"
      },
      "source": [
        "###testing"
      ]
    },
    {
      "cell_type": "code",
      "execution_count": null,
      "metadata": {
        "colab": {
          "base_uri": "https://localhost:8080/",
          "height": 403
        },
        "id": "6DJAzBhzuok2",
        "outputId": "23997701-9703-49c9-88c9-f8471abbb6c1"
      },
      "outputs": [
        {
          "name": "stdout",
          "output_type": "stream",
          "text": [
            "accuracy_score : 0.8541\n",
            "Precision Score: 0.8575414622679564\n",
            "Recall Score: 0.8541\n"
          ]
        },
        {
          "name": "stderr",
          "output_type": "stream",
          "text": [
            "/usr/local/lib/python3.7/dist-packages/sklearn/utils/deprecation.py:87: FutureWarning: Function plot_confusion_matrix is deprecated; Function `plot_confusion_matrix` is deprecated in 1.0 and will be removed in 1.2. Use one of the class methods: ConfusionMatrixDisplay.from_predictions or ConfusionMatrixDisplay.from_estimator.\n",
            "  warnings.warn(msg, category=FutureWarning)\n"
          ]
        },
        {
          "data": {
            "text/plain": [
              "<sklearn.metrics._plot.confusion_matrix.ConfusionMatrixDisplay at 0x7f6ac470c1d0>"
            ]
          },
          "execution_count": 46,
          "metadata": {},
          "output_type": "execute_result"
        },
        {
          "data": {
            "image/png": "[encoded data removed]",
            "text/plain": [
              "<Figure size 432x288 with 2 Axes>"
            ]
          },
          "metadata": {},
          "output_type": "display_data"
        }
      ],
      "source": [
        "print('accuracy_score :',metrics.accuracy_score(y_test,y_pred))\n",
        "precision = metrics.precision_score(y_test, y_pred,average='weighted')\n",
        "print(\"Precision Score:\", precision)\n",
        "recall = metrics.recall_score(y_test, y_pred,average='weighted')\n",
        "print(\"Recall Score:\", recall)\n",
        "metrics.plot_confusion_matrix(model_1,x_test,y_test)#plot confusion matrix"
      ]
    },
    {
      "cell_type": "markdown",
      "metadata": {
        "id": "6HN1nkrr1qdj"
      },
      "source": [
        "##Logistics Regression"
      ]
    },
    {
      "cell_type": "code",
      "execution_count": null,
      "metadata": {
        "colab": {
          "base_uri": "https://localhost:8080/"
        },
        "id": "qvvqlq3x17dz",
        "outputId": "3b1135d0-dd93-482a-a16c-71b3de1bb18a"
      },
      "outputs": [
        {
          "name": "stderr",
          "output_type": "stream",
          "text": [
            "/usr/local/lib/python3.7/dist-packages/sklearn/linear_model/_sag.py:354: ConvergenceWarning: The max_iter was reached which means the coef_ did not converge\n",
            "  ConvergenceWarning,\n"
          ]
        },
        {
          "data": {
            "text/plain": [
              "LogisticRegression(C=10, solver='sag')"
            ]
          },
          "execution_count": 47,
          "metadata": {},
          "output_type": "execute_result"
        }
      ],
      "source": [
        "# Create Decision logistics regression classifer\n",
        "model_2=linear_model.LogisticRegression(C=10, solver='sag')\n",
        "# Train Decision logistics regression Classifer\n",
        "model_2.fit(x_train,y_train)"
      ]
    },
    {
      "cell_type": "code",
      "execution_count": null,
      "metadata": {
        "id": "KEagxFRj2tqy"
      },
      "outputs": [],
      "source": [
        "#predict output\n",
        "y_pred=model_2.predict(x_test)"
      ]
    },
    {
      "cell_type": "markdown",
      "metadata": {
        "id": "0MjwaidH2_Pi"
      },
      "source": [
        "###testing"
      ]
    },
    {
      "cell_type": "code",
      "execution_count": null,
      "metadata": {
        "colab": {
          "base_uri": "https://localhost:8080/",
          "height": 403
        },
        "id": "o1cGGx0v3D8u",
        "outputId": "dda84277-7c33-486c-c05d-3ab29bce44ae"
      },
      "outputs": [
        {
          "name": "stderr",
          "output_type": "stream",
          "text": [
            "/usr/local/lib/python3.7/dist-packages/sklearn/utils/deprecation.py:87: FutureWarning: Function plot_confusion_matrix is deprecated; Function `plot_confusion_matrix` is deprecated in 1.0 and will be removed in 1.2. Use one of the class methods: ConfusionMatrixDisplay.from_predictions or ConfusionMatrixDisplay.from_estimator.\n",
            "  warnings.warn(msg, category=FutureWarning)\n"
          ]
        },
        {
          "name": "stdout",
          "output_type": "stream",
          "text": [
            "accuracy_score : 0.8418\n",
            "Precision Score: 0.8405665326195257\n",
            "Recall Score: 0.8418\n"
          ]
        },
        {
          "data": {
            "text/plain": [
              "<sklearn.metrics._plot.confusion_matrix.ConfusionMatrixDisplay at 0x7f6ac4606290>"
            ]
          },
          "execution_count": 49,
          "metadata": {},
          "output_type": "execute_result"
        },
        {
          "data": {
            "image/png": "[encoded data removed]",
            "text/plain": [
              "<Figure size 432x288 with 2 Axes>"
            ]
          },
          "metadata": {},
          "output_type": "display_data"
        }
      ],
      "source": [
        "print('accuracy_score :',metrics.accuracy_score(y_test,y_pred))\n",
        "precision = metrics.precision_score(y_test, y_pred,average='weighted')\n",
        "print(\"Precision Score:\", precision)\n",
        "recall = metrics.recall_score(y_test, y_pred,average='weighted')\n",
        "print(\"Recall Score:\", recall)\n",
        "#plot confusion matrix\n",
        "metrics.plot_confusion_matrix(model_2,x_test,y_test)"
      ]
    },
    {
      "cell_type": "markdown",
      "metadata": {
        "id": "eUd_ik9S3WEw"
      },
      "source": [
        "##Support Vector Machine"
      ]
    },
    {
      "cell_type": "code",
      "execution_count": 91,
      "metadata": {
        "id": "9SLS5WMq8lAy"
      },
      "outputs": [],
      "source": [
        "# Create SVC classifer\n",
        "svc_1=svm.SVC(C=10,kernel='rbf',gamma='scale')\n",
        "# Train SVC Classifer\n",
        "svc_1.fit(x_train,y_train)\n",
        "#Predict the response for test dataset\n",
        "y_pred=svc_1.predict(x_test)"
      ]
    },
    {
      "cell_type": "markdown",
      "metadata": {
        "id": "ox35z61_6D_4"
      },
      "source": [
        "###testing"
      ]
    },
    {
      "cell_type": "code",
      "execution_count": 92,
      "metadata": {
        "colab": {
          "base_uri": "https://localhost:8080/",
          "height": 403
        },
        "id": "XefECAxO6Gj-",
        "outputId": "8d185500-b2e2-49b5-c4fe-70a6b31dfb9a"
      },
      "outputs": [
        {
          "output_type": "stream",
          "name": "stdout",
          "text": [
            "accuracy_score : 0.9002\n",
            "Precision Score: 0.9001435076840276\n",
            "Recall Score: 0.9002\n"
          ]
        },
        {
          "output_type": "stream",
          "name": "stderr",
          "text": [
            "/usr/local/lib/python3.7/dist-packages/sklearn/utils/deprecation.py:87: FutureWarning: Function plot_confusion_matrix is deprecated; Function `plot_confusion_matrix` is deprecated in 1.0 and will be removed in 1.2. Use one of the class methods: ConfusionMatrixDisplay.from_predictions or ConfusionMatrixDisplay.from_estimator.\n",
            "  warnings.warn(msg, category=FutureWarning)\n"
          ]
        },
        {
          "output_type": "execute_result",
          "data": {
            "text/plain": [
              "<sklearn.metrics._plot.confusion_matrix.ConfusionMatrixDisplay at 0x7f6b4c6919d0>"
            ]
          },
          "metadata": {},
          "execution_count": 92
        },
        {
          "output_type": "display_data",
          "data": {
            "image/png": "[encoded data removed]",
            "text/plain": [
              "<Figure size 432x288 with 2 Axes>"
            ]
          },
          "metadata": {
            "needs_background": "light"
          }
        }
      ],
      "source": [
        "print('accuracy_score :',metrics.accuracy_score(y_test,y_pred))\n",
        "precision = metrics.precision_score(y_test, y_pred,average='weighted')\n",
        "print(\"Precision Score:\", precision)\n",
        "recall = metrics.recall_score(y_test, y_pred,average='weighted')\n",
        "print(\"Recall Score:\", recall)\n",
        "#plot confusion matrix\n",
        "metrics.plot_confusion_matrix(svc_1,x_test,y_test)"
      ]
    },
    {
      "cell_type": "markdown",
      "metadata": {
        "id": "F60LWNi-6SfI"
      },
      "source": [
        "##Decision Tree"
      ]
    },
    {
      "cell_type": "code",
      "execution_count": null,
      "metadata": {
        "colab": {
          "base_uri": "https://localhost:8080/"
        },
        "id": "YvcinewC6VDj",
        "outputId": "79650564-0712-4053-e7fd-9c57709f18f5"
      },
      "outputs": [
        {
          "data": {
            "text/plain": [
              "DecisionTreeClassifier()"
            ]
          },
          "execution_count": 22,
          "metadata": {},
          "output_type": "execute_result"
        }
      ],
      "source": [
        "# Create Decision Tree classifer \n",
        "model_4 = tree.DecisionTreeClassifier()\n",
        "# Train Decision Tree Classifer\n",
        "model_4.fit(x_train, y_train)"
      ]
    },
    {
      "cell_type": "code",
      "execution_count": null,
      "metadata": {
        "id": "FiU9CHLD6_ci"
      },
      "outputs": [],
      "source": [
        "#Predict the response for test dataset\n",
        "y_pred=model_4.predict(x_test)"
      ]
    },
    {
      "cell_type": "markdown",
      "metadata": {
        "id": "kf-1UU3m7Eyk"
      },
      "source": [
        "###testing"
      ]
    },
    {
      "cell_type": "code",
      "execution_count": null,
      "metadata": {
        "colab": {
          "base_uri": "https://localhost:8080/"
        },
        "id": "CubqCQVj7McT",
        "outputId": "dd946b65-e46e-41c0-9662-86edf9a9ad05"
      },
      "outputs": [
        {
          "name": "stdout",
          "output_type": "stream",
          "text": [
            "accuracy_score : 0.7883\n",
            "Precision Score: 0.7901032890295943\n",
            "Recall Score: 0.7883\n"
          ]
        }
      ],
      "source": [
        "print('accuracy_score :',metrics.accuracy_score(y_test,y_pred))\n",
        "precision = metrics.precision_score(y_test, y_pred,average='weighted')\n",
        "print(\"Precision Score:\", precision)\n",
        "recall = metrics.recall_score(y_test, y_pred,average='weighted')\n",
        "print(\"Recall Score:\", recall)"
      ]
    },
    {
      "cell_type": "markdown",
      "metadata": {
        "id": "5-DAj6C87baZ"
      },
      "source": [
        "##Random Forest"
      ]
    },
    {
      "cell_type": "code",
      "execution_count": null,
      "metadata": {
        "colab": {
          "base_uri": "https://localhost:8080/"
        },
        "id": "kJjNfROZ74aQ",
        "outputId": "f73d2b5b-38d2-411c-d39b-1a65f7ea257a"
      },
      "outputs": [
        {
          "data": {
            "text/plain": [
              "RandomForestClassifier()"
            ]
          },
          "execution_count": 28,
          "metadata": {},
          "output_type": "execute_result"
        }
      ],
      "source": [
        "#Create a Gaussian Classifier\n",
        "model_5=RandomForestClassifier(n_estimators=100)\n",
        "#Train the model using the training sets \n",
        "model_5.fit(x_train,y_train)"
      ]
    },
    {
      "cell_type": "code",
      "execution_count": null,
      "metadata": {
        "id": "XmnN4TQy7c-g"
      },
      "outputs": [],
      "source": [
        "y_pred=model_5.predict(x_test)"
      ]
    },
    {
      "cell_type": "markdown",
      "metadata": {
        "id": "8OO2p0UX_E9a"
      },
      "source": [
        "###testing"
      ]
    },
    {
      "cell_type": "code",
      "execution_count": null,
      "metadata": {
        "colab": {
          "base_uri": "https://localhost:8080/"
        },
        "id": "r7e09-Rl_HqD",
        "outputId": "f5b1c56a-e898-46d3-b652-9e9a339be0f2"
      },
      "outputs": [
        {
          "name": "stdout",
          "output_type": "stream",
          "text": [
            "accuracy_score : 0.7883\n",
            "Precision Score: 0.7901032890295943\n",
            "Recall Score: 0.7883\n"
          ]
        }
      ],
      "source": [
        "print('accuracy_score :',metrics.accuracy_score(y_test,y_pred))\n",
        "precision = metrics.precision_score(y_test, y_pred,average='weighted')\n",
        "print(\"Precision Score:\", precision)\n",
        "recall = metrics.recall_score(y_test, y_pred,average='weighted')\n",
        "print(\"Recall Score:\", recall)"
      ]
    },
    {
      "cell_type": "markdown",
      "metadata": {
        "id": "KRmmqYZKtA5F"
      },
      "source": [
        "## DNN Model"
      ]
    },
    {
      "cell_type": "code",
      "execution_count": 78,
      "metadata": {
        "id": "_4tQ0hV7jZZz"
      },
      "outputs": [],
      "source": [
        "from keras.backend import dropout\n",
        "tf.keras.backend.clear_session()\n",
        "\n",
        "class Subclass(tf.keras.layers.Layer):\n",
        "\n",
        "  def __init__(self,unit_lis=[],dropout_lis=[],**kwargs):\n",
        "    super(Subclass,self).__init__(**kwargs)\n",
        "    self.dense_1 = tf.keras.layers.Dense(units=unit_lis[0],kernel_initializer=tf.initializers.he_uniform(seed=42))\n",
        "    self.dropout_1 = tf.keras.layers.Dropout(dropout_lis[0])\n",
        "    self.dense_2 = tf.keras.layers.Dense(units=unit_lis[1],kernel_initializer=tf.initializers.he_uniform(seed=42))\n",
        "    self.dropout_2 = tf.keras.layers.Dropout(dropout_lis[1])\n",
        "  \n",
        "\n",
        "  \n",
        "   \n",
        "\n",
        "  def call(self,inputs):\n",
        "    dense1=tf.nn.leaky_relu (self.dense_1(inputs))\n",
        "    dropout1=self.dropout_1(dense1) \n",
        "    dense2=tf.nn.leaky_relu (self.dense_2(dropout1))\n",
        "    dropout2=self.dropout_2(dense2)\n",
        "   \n",
        "  \n",
        "\n",
        "    output=tf.keras.layers.concatenate([dropout2,inputs])\n",
        "    return output\n",
        "\n",
        "class Deepsubclass(tf.keras.Model):\n",
        "\n",
        "  def __init__(self):\n",
        "    super(Deepsubclass,self).__init__()\n",
        "\n",
        "    self.block_1=Subclass(unit_lis=[64,128],dropout_lis=[0.2,0.3],name='block_1')\n",
        "    #self.block_2=Subclass(unit_lis=[128,256],dropout_lis=[0.1,0.2],name='block_2')\n",
        "    \n",
        "\n",
        "    self.out=tf.keras.layers.Dense(10,name='out')\n",
        "\n",
        "  def call(self,input):\n",
        "        x=self.block_1(input)\n",
        "        #x=self.block_2(x)\n",
        "        x=self.out(x)\n",
        "        x=tf.nn.softmax(x)\n",
        "        return x\n",
        "\n",
        "model=Deepsubclass()\n",
        "model.build((None,784))       \n",
        "\n",
        "\n",
        "\n",
        "\n"
      ]
    },
    {
      "cell_type": "code",
      "execution_count": 79,
      "metadata": {
        "colab": {
          "base_uri": "https://localhost:8080/"
        },
        "id": "rAQroowDpjZK",
        "outputId": "756a1f20-0b45-48eb-f362-b503741f5448"
      },
      "outputs": [
        {
          "output_type": "stream",
          "name": "stdout",
          "text": [
            "Model: \"deepsubclass\"\n",
            "_________________________________________________________________\n",
            " Layer (type)                Output Shape              Param #   \n",
            "=================================================================\n",
            " block_1 (Subclass)          multiple                  58560     \n",
            "                                                                 \n",
            " out (Dense)                 multiple                  9130      \n",
            "                                                                 \n",
            "=================================================================\n",
            "Total params: 67,690\n",
            "Trainable params: 67,690\n",
            "Non-trainable params: 0\n",
            "_________________________________________________________________\n"
          ]
        }
      ],
      "source": [
        "model.summary()"
      ]
    },
    {
      "cell_type": "code",
      "execution_count": 80,
      "metadata": {
        "id": "-KqytwcapqMC"
      },
      "outputs": [],
      "source": [
        "model.compile(optimizer= tf.optimizers.Adam(),loss = tf.losses.CategoricalCrossentropy(),metrics=['acc'])"
      ]
    },
    {
      "cell_type": "code",
      "execution_count": 81,
      "metadata": {
        "colab": {
          "base_uri": "https://localhost:8080/"
        },
        "id": "ZfbnL3Fyps6U",
        "outputId": "8369ea38-c244-491f-c987-5176b97d5910"
      },
      "outputs": [
        {
          "output_type": "stream",
          "name": "stdout",
          "text": [
            "Epoch 1/40\n",
            "1875/1875 [==============================] - 6s 3ms/step - loss: 0.5345 - acc: 0.8107 - val_loss: 0.4724 - val_acc: 0.8290\n",
            "Epoch 2/40\n",
            "1875/1875 [==============================] - 5s 3ms/step - loss: 0.4130 - acc: 0.8520 - val_loss: 0.4389 - val_acc: 0.8391\n",
            "Epoch 3/40\n",
            "1875/1875 [==============================] - 5s 3ms/step - loss: 0.3850 - acc: 0.8612 - val_loss: 0.3850 - val_acc: 0.8604\n",
            "Epoch 4/40\n",
            "1875/1875 [==============================] - 5s 2ms/step - loss: 0.3685 - acc: 0.8677 - val_loss: 0.4071 - val_acc: 0.8536\n",
            "Epoch 5/40\n",
            "1875/1875 [==============================] - 5s 2ms/step - loss: 0.3573 - acc: 0.8704 - val_loss: 0.3957 - val_acc: 0.8571\n",
            "Epoch 6/40\n",
            "1875/1875 [==============================] - 5s 3ms/step - loss: 0.3517 - acc: 0.8726 - val_loss: 0.3800 - val_acc: 0.8625\n",
            "Epoch 7/40\n",
            "1875/1875 [==============================] - 5s 3ms/step - loss: 0.3404 - acc: 0.8765 - val_loss: 0.3796 - val_acc: 0.8628\n",
            "Epoch 8/40\n",
            "1875/1875 [==============================] - 5s 3ms/step - loss: 0.3319 - acc: 0.8789 - val_loss: 0.3743 - val_acc: 0.8640\n",
            "Epoch 9/40\n",
            "1875/1875 [==============================] - 5s 3ms/step - loss: 0.3288 - acc: 0.8807 - val_loss: 0.3685 - val_acc: 0.8717\n",
            "Epoch 10/40\n",
            "1875/1875 [==============================] - 6s 3ms/step - loss: 0.3243 - acc: 0.8822 - val_loss: 0.3637 - val_acc: 0.8682\n",
            "Epoch 11/40\n",
            "1875/1875 [==============================] - 5s 2ms/step - loss: 0.3163 - acc: 0.8843 - val_loss: 0.3900 - val_acc: 0.8597\n",
            "Epoch 12/40\n",
            "1875/1875 [==============================] - 5s 3ms/step - loss: 0.3131 - acc: 0.8859 - val_loss: 0.3732 - val_acc: 0.8641\n",
            "Epoch 13/40\n",
            "1875/1875 [==============================] - 5s 2ms/step - loss: 0.3090 - acc: 0.8861 - val_loss: 0.3791 - val_acc: 0.8699\n",
            "Epoch 14/40\n",
            "1875/1875 [==============================] - 5s 2ms/step - loss: 0.3082 - acc: 0.8877 - val_loss: 0.3865 - val_acc: 0.8635\n",
            "Epoch 15/40\n",
            "1875/1875 [==============================] - 5s 3ms/step - loss: 0.3038 - acc: 0.8889 - val_loss: 0.3609 - val_acc: 0.8729\n",
            "Epoch 16/40\n",
            "1875/1875 [==============================] - 5s 2ms/step - loss: 0.3004 - acc: 0.8895 - val_loss: 0.3731 - val_acc: 0.8679\n",
            "Epoch 17/40\n",
            "1875/1875 [==============================] - 5s 2ms/step - loss: 0.2978 - acc: 0.8907 - val_loss: 0.3919 - val_acc: 0.8634\n",
            "Epoch 18/40\n",
            "1875/1875 [==============================] - 5s 3ms/step - loss: 0.2962 - acc: 0.8912 - val_loss: 0.3512 - val_acc: 0.8759\n",
            "Epoch 19/40\n",
            "1875/1875 [==============================] - 5s 3ms/step - loss: 0.2901 - acc: 0.8931 - val_loss: 0.3583 - val_acc: 0.8761\n",
            "Epoch 20/40\n",
            "1875/1875 [==============================] - 5s 3ms/step - loss: 0.2886 - acc: 0.8930 - val_loss: 0.3686 - val_acc: 0.8713\n",
            "Epoch 21/40\n",
            "1875/1875 [==============================] - 5s 2ms/step - loss: 0.2877 - acc: 0.8946 - val_loss: 0.3850 - val_acc: 0.8710\n",
            "Epoch 22/40\n",
            "1875/1875 [==============================] - 5s 3ms/step - loss: 0.2841 - acc: 0.8954 - val_loss: 0.3984 - val_acc: 0.8668\n",
            "Epoch 23/40\n",
            "1875/1875 [==============================] - 5s 3ms/step - loss: 0.2820 - acc: 0.8950 - val_loss: 0.3688 - val_acc: 0.8739\n",
            "Epoch 24/40\n",
            "1875/1875 [==============================] - 5s 3ms/step - loss: 0.2794 - acc: 0.8959 - val_loss: 0.3669 - val_acc: 0.8746\n",
            "Epoch 25/40\n",
            "1875/1875 [==============================] - 5s 2ms/step - loss: 0.2784 - acc: 0.8978 - val_loss: 0.3581 - val_acc: 0.8727\n",
            "Epoch 26/40\n",
            "1875/1875 [==============================] - 5s 3ms/step - loss: 0.2748 - acc: 0.8985 - val_loss: 0.3792 - val_acc: 0.8745\n",
            "Epoch 27/40\n",
            "1875/1875 [==============================] - 5s 3ms/step - loss: 0.2739 - acc: 0.8990 - val_loss: 0.3650 - val_acc: 0.8750\n",
            "Epoch 28/40\n",
            "1875/1875 [==============================] - 5s 2ms/step - loss: 0.2744 - acc: 0.8978 - val_loss: 0.3722 - val_acc: 0.8695\n",
            "Epoch 29/40\n",
            "1875/1875 [==============================] - 5s 3ms/step - loss: 0.2697 - acc: 0.9007 - val_loss: 0.3701 - val_acc: 0.8731\n",
            "Epoch 30/40\n",
            "1875/1875 [==============================] - 5s 3ms/step - loss: 0.2677 - acc: 0.9016 - val_loss: 0.3643 - val_acc: 0.8743\n",
            "Epoch 31/40\n",
            "1875/1875 [==============================] - 5s 2ms/step - loss: 0.2676 - acc: 0.9003 - val_loss: 0.3719 - val_acc: 0.8788\n",
            "Epoch 32/40\n",
            "1875/1875 [==============================] - 5s 2ms/step - loss: 0.2657 - acc: 0.9015 - val_loss: 0.3660 - val_acc: 0.8709\n",
            "Epoch 33/40\n",
            "1875/1875 [==============================] - 5s 2ms/step - loss: 0.2657 - acc: 0.9020 - val_loss: 0.3693 - val_acc: 0.8791\n",
            "Epoch 34/40\n",
            "1875/1875 [==============================] - 5s 2ms/step - loss: 0.2630 - acc: 0.9028 - val_loss: 0.3844 - val_acc: 0.8679\n",
            "Epoch 35/40\n",
            "1875/1875 [==============================] - 5s 3ms/step - loss: 0.2629 - acc: 0.9028 - val_loss: 0.3854 - val_acc: 0.8732\n",
            "Epoch 36/40\n",
            "1875/1875 [==============================] - 5s 2ms/step - loss: 0.2586 - acc: 0.9043 - val_loss: 0.3839 - val_acc: 0.8713\n",
            "Epoch 37/40\n",
            "1875/1875 [==============================] - 5s 2ms/step - loss: 0.2594 - acc: 0.9027 - val_loss: 0.3630 - val_acc: 0.8812\n",
            "Epoch 38/40\n",
            "1875/1875 [==============================] - 5s 2ms/step - loss: 0.2561 - acc: 0.9057 - val_loss: 0.3738 - val_acc: 0.8721\n",
            "Epoch 39/40\n",
            "1875/1875 [==============================] - 5s 3ms/step - loss: 0.2571 - acc: 0.9046 - val_loss: 0.3609 - val_acc: 0.8830\n",
            "Epoch 40/40\n",
            "1875/1875 [==============================] - 5s 2ms/step - loss: 0.2525 - acc: 0.9066 - val_loss: 0.3681 - val_acc: 0.8778\n"
          ]
        },
        {
          "output_type": "execute_result",
          "data": {
            "text/plain": [
              "<keras.callbacks.History at 0x7f6ace2bdc10>"
            ]
          },
          "metadata": {},
          "execution_count": 81
        }
      ],
      "source": [
        "model.fit(x=x_train,y=y_train_hot,epochs= 40, batch_size=32,validation_data=(x_test,y_test_hot))"
      ]
    },
    {
      "cell_type": "markdown",
      "metadata": {
        "id": "VFovve_stFuW"
      },
      "source": [
        "### Model evaluation"
      ]
    },
    {
      "cell_type": "code",
      "execution_count": null,
      "metadata": {
        "id": "AVgt0P_LtOKD"
      },
      "outputs": [],
      "source": [
        "#the best model is SVM \n",
        "#acc is 90%"
      ]
    }
  ],
  "metadata": {
    "accelerator": "GPU",
    "colab": {
      "collapsed_sections": [
        "AU78WMPocdFw",
        "F60LWNi-6SfI",
        "5-DAj6C87baZ"
      ],
      "name": "Copy of Assignment 04: ",
      "provenance": [],
      "toc_visible": true
    },
    "kernelspec": {
      "display_name": "Python 3",
      "name": "python3"
    },
    "language_info": {
      "name": "python"
    }
  },
  "nbformat": 4,
  "nbformat_minor": 0
}