{
  "nbformat": 4,
  "nbformat_minor": 0,
  "metadata": {
    "colab": {
      "name": "Copy of Assignment 07: Sequence Modeling",
      "provenance": [],
      "collapsed_sections": [
        "dt94541-Iidp",
        "l4qktuEpeXZn"
      ],
      "toc_visible": true
    },
    "kernelspec": {
      "name": "python3",
      "display_name": "Python 3"
    },
    "language_info": {
      "name": "python"
    },
    "accelerator": "GPU"
  },
  "cells": [
    {
      "cell_type": "markdown",
      "source": [
        "#Assignment 07: Sequence Modeling\n",
        "\n",
        "This Week's assignment is to train sequence models on the `Emoji Data` to classify the sentences emotion. You'll be creating models that takes in a sentence and predicts the appropriate emoji that describes the sentiment.\n",
        "\n",
        "Before starting copy this file and work on your own copy by following the below steps: <br>\n",
        "`File > Save Copy in Drive`. Then add your name to the file (e.g., Assignment 07: Sequence Modeling - Zahraa Dhafer).\n",
        "\n",
        "**DATASET**\n",
        "The dataset consists of two csv files, a training file with 16k rows and a testing file with 2k rows, each row has 3 columns, the sentence, the emotion as text (meant to provide description to the emoji and not to be used in training/testing) and the emoji symbol (e.g. 😄, 😡, 😍).<br><br>\n",
        "**Submission Deadline: Thursday, 3/3/2022 at 3:00 PM**\n",
        "\n",
        "**Requirements:**\n",
        "1. Set TensorFlow's random seed to 42.\n",
        "2. Import all necessary libraries for the sequence modeling project.\n",
        "3. Download the dataset (the link is provided below).\n",
        "4. Read data from CSV files and split it into inputs and targets (no need to do train_test_split as the data is already split).\n",
        "**Note**: Read both Train and Test files\n",
        "5. Tokenize and pad the text, use a vocabulary size of 10,000 and maximum sequence length of 64.\n",
        "6. Do the appropriate operations on the targets to prepare them for training.\n",
        "7. Define the sequential models, make sure to use RNN,LSTM,GRU and DNN with Embedding layers using Bidirectional LSTM if necessary. The training and validation accuracy should be at least 94% and 88% respectively.\n",
        "8. Use Adam optimizer and the appropriate loss function and metrics to compile the model.\n",
        "9. Use ModelCheckpoint callback to save the models at the epoch with the best validation accuracy, each model file should have your name (e.g. for Zahraa Dhafer, the model's file name would be \"LSTM_Zahraa_D.h5). Make sure to download the model file as it will be a part of your assignment submission. <br>[ModelCheckpoint documentation](https://www.tensorflow.org/api_docs/python/tf/keras/callbacks/ModelCheckpoint)\n",
        "10. Plot the models metrics.\n",
        "\n",
        "\n",
        "\n",
        "\n",
        "**HINTS:**\n",
        "Set the new hyperparameters like vocabulary size, input length (i.e. max sequence length) in a separate cell after the import cell in your notebook (failing to do so will affect your style score)\n",
        "\n",
        "**Note:** To get the best performance from the model, manually tune the hyperparameters of each model. \n",
        "\n",
        "Find relevant links below:<br>\n",
        "\n",
        "[Assignment Colab File](https://colab.research.google.com/drive/129V6jlMgzfOWi033t7xIgdn0ZKRvnjP-?usp=sharing)<br>\n",
        "[Dataset](https://drive.google.com/drive/folders/1i7LmIH7sJHSARAMXgznBqXZ82tzMhYiL?usp=sharing)\n",
        "\n",
        "[Submission Form](https://docs.google.com/forms/d/e/1FAIpQLSff0OH5akQLPw7LArOYwXwVvJVHtQSgKGnfxlpI8OL-NBUrcg/viewform?usp=pp_url)<br>\n",
        "\n",
        "\n",
        "Good luck and feel free to ask any questions in the or on the Questions channel."
      ],
      "metadata": {
        "id": "AU78WMPocdFw"
      }
    },
    {
      "cell_type": "code",
      "source": [
        "from google.colab import drive\n",
        "drive.mount('/content/drive')"
      ],
      "metadata": {
        "colab": {
          "base_uri": "https://localhost:8080/"
        },
        "id": "8VX-cN8LYYd_",
        "outputId": "4599fd4b-9002-44a5-c948-7ba66e6b837e"
      },
      "execution_count": 62,
      "outputs": [
        {
          "output_type": "stream",
          "name": "stdout",
          "text": [
            "Drive already mounted at /content/drive; to attempt to forcibly remount, call drive.mount(\"/content/drive\", force_remount=True).\n"
          ]
        }
      ]
    },
    {
      "cell_type": "markdown",
      "source": [
        "# 1- Import all necessary libraries for the sequence modeling project"
      ],
      "metadata": {
        "id": "NY3o4kreqOLG"
      }
    },
    {
      "cell_type": "code",
      "source": [
        "#import libraries\n",
        "import tensorflow as tf\n",
        "import pandas as pd\n",
        "import matplotlib.pyplot as plt\n",
        "import numpy as np\n",
        "import re"
      ],
      "metadata": {
        "id": "0nYUDKQBic7L"
      },
      "execution_count": 63,
      "outputs": []
    },
    {
      "cell_type": "code",
      "source": [
        "vocab_size = 10000\n",
        "max_sequence = 64\n",
        "embeddings_dims =100\n",
        "tf.random.set_seed(42)"
      ],
      "metadata": {
        "id": "_x_rXcG2OyZC"
      },
      "execution_count": 64,
      "outputs": []
    },
    {
      "cell_type": "markdown",
      "source": [
        "# 2- Download the dataset"
      ],
      "metadata": {
        "id": "dG-8I4sUqatO"
      }
    },
    {
      "cell_type": "code",
      "source": [
        "#download the dataset\n",
        "train_data=pd.read_csv('/content/drive/MyDrive/train.csv')\n",
        "test_data=pd.read_csv('/content/drive/MyDrive/test.csv')"
      ],
      "metadata": {
        "id": "TPmmLNyHaq8a"
      },
      "execution_count": 65,
      "outputs": []
    },
    {
      "cell_type": "markdown",
      "source": [
        "# 3- Read data from CSV files and split it into inputs and targets \n",
        "\n",
        "**Note**: no need to do train_test_split as the data is already split"
      ],
      "metadata": {
        "id": "lGRYP5qXdGob"
      }
    },
    {
      "cell_type": "code",
      "source": [
        "#show train_data and test_data\n",
        "print('train_data :', train_data)\n",
        "print('-'*80)\n",
        "print('test_data :' ,test_data)"
      ],
      "metadata": {
        "colab": {
          "base_uri": "https://localhost:8080/"
        },
        "id": "aE8VS_L9b-E6",
        "outputId": "57e5d038-501e-4dcb-a765-47b57653f605"
      },
      "execution_count": 66,
      "outputs": [
        {
          "output_type": "stream",
          "name": "stdout",
          "text": [
            "train_data :                                                     text  emotion emoji\n",
            "0                                i didnt feel humiliated  sadness     😢\n",
            "1      i can go from feeling so hopeless to so damned...  sadness     😢\n",
            "2       im grabbing a minute to post i feel greedy wrong    anger     😡\n",
            "3      i am ever feeling nostalgic about the fireplac...     love     😍\n",
            "4                                   i am feeling grouchy    anger     😡\n",
            "...                                                  ...      ...   ...\n",
            "15995  i just had a very brief time in the beanbag an...  sadness     😢\n",
            "15996  i am now turning and i feel pathetic that i am...  sadness     😢\n",
            "15997                     i feel strong and good overall      joy     😄\n",
            "15998  i feel like this was such a rude comment and i...    anger     😡\n",
            "15999  i know a lot but i feel so stupid because i ca...  sadness     😢\n",
            "\n",
            "[16000 rows x 3 columns]\n",
            "--------------------------------------------------------------------------------\n",
            "test_data :                                                    text  emotion emoji\n",
            "0     im feeling rather rotten so im not very ambiti...  sadness     😢\n",
            "1             im updating my blog because i feel shitty  sadness     😢\n",
            "2     i never make her separate from me because i do...  sadness     😢\n",
            "3     i left with my bouquet of red and yellow tulip...      joy     😄\n",
            "4       i was feeling a little vain when i did this one  sadness     😢\n",
            "...                                                 ...      ...   ...\n",
            "1995  i just keep feeling like someone is being unki...    anger     😡\n",
            "1996  im feeling a little cranky negative after this...    anger     😡\n",
            "1997  i feel that i am useful to my people and that ...      joy     😄\n",
            "1998  im feeling more comfortable with derby i feel ...      joy     😄\n",
            "1999  i feel all weird when i have to meet w people ...     fear     😨\n",
            "\n",
            "[2000 rows x 3 columns]\n"
          ]
        }
      ]
    },
    {
      "cell_type": "code",
      "source": [
        "train_data.text[0]"
      ],
      "metadata": {
        "colab": {
          "base_uri": "https://localhost:8080/",
          "height": 35
        },
        "id": "1XCRkqNOemdn",
        "outputId": "0ce0b383-1a5e-4c42-f872-9db811e4827d"
      },
      "execution_count": 67,
      "outputs": [
        {
          "output_type": "execute_result",
          "data": {
            "application/vnd.google.colaboratory.intrinsic+json": {
              "type": "string"
            },
            "text/plain": [
              "'i didnt feel humiliated'"
            ]
          },
          "metadata": {},
          "execution_count": 67
        }
      ]
    },
    {
      "cell_type": "code",
      "source": [
        "print(set(train_data.emotion))\n",
        "print(set(train_data.emoji))"
      ],
      "metadata": {
        "colab": {
          "base_uri": "https://localhost:8080/"
        },
        "id": "IhOUqTXQemiC",
        "outputId": "9d3b531d-fbe6-4498-f933-180eccbb06dc"
      },
      "execution_count": 68,
      "outputs": [
        {
          "output_type": "stream",
          "name": "stdout",
          "text": [
            "{'surprise', 'sadness', 'fear', 'joy', 'love', 'anger'}\n",
            "{'😨', '😢', '😡', '😄', '😲', '😍'}\n"
          ]
        }
      ]
    },
    {
      "cell_type": "code",
      "source": [
        "#split dataset to x and y\n",
        "x_train=train_data.text\n",
        "y_train=train_data.emotion\n",
        "\n",
        "x_test=test_data.text\n",
        "y_test=test_data.emotion"
      ],
      "metadata": {
        "id": "hr6gRnkii2AK"
      },
      "execution_count": 69,
      "outputs": []
    },
    {
      "cell_type": "code",
      "source": [
        "#show the shape\n",
        "print('x_train:',x_train.shape),print('y_train:',y_train.shape)\n",
        "print('x_test:',x_test.shape),print('y_test:',y_test.shape)"
      ],
      "metadata": {
        "colab": {
          "base_uri": "https://localhost:8080/"
        },
        "id": "Vj5NHetgn1nf",
        "outputId": "b2e6699c-7d5a-439d-ce3b-fd0a06aa82ae"
      },
      "execution_count": 70,
      "outputs": [
        {
          "output_type": "stream",
          "name": "stdout",
          "text": [
            "x_train: (16000,)\n",
            "y_train: (16000,)\n",
            "x_test: (2000,)\n",
            "y_test: (2000,)\n"
          ]
        },
        {
          "output_type": "execute_result",
          "data": {
            "text/plain": [
              "(None, None)"
            ]
          },
          "metadata": {},
          "execution_count": 70
        }
      ]
    },
    {
      "cell_type": "markdown",
      "source": [
        "#4- Tokenize and pad the text, use a vocabulary size of 10,000 and maximum sequence length of 64"
      ],
      "metadata": {
        "id": "MbkGa2lwrZ-A"
      }
    },
    {
      "cell_type": "code",
      "source": [
        "#using tokenizer and padding\n",
        "tokenizer=tf.keras.preprocessing.text.Tokenizer(\n",
        "    num_words=vocab_size,\n",
        "    filters='!\"#$%&()*+,-./:;<=>?@[\\\\]^_`{|}~\\t\\n',\n",
        "    oov_token='<OOV>'\n",
        ")\n",
        "\n",
        "tokenizer.fit_on_texts(x_train)\n",
        "tokenizer.fit_on_texts(x_test)"
      ],
      "metadata": {
        "id": "WVj4OxmprE7W"
      },
      "execution_count": 71,
      "outputs": []
    },
    {
      "cell_type": "code",
      "source": [
        "x_train"
      ],
      "metadata": {
        "colab": {
          "base_uri": "https://localhost:8080/"
        },
        "id": "S9ESIXX_oqgQ",
        "outputId": "5647d3f8-a9e0-4138-d444-9d61b981d4d5"
      },
      "execution_count": 72,
      "outputs": [
        {
          "output_type": "execute_result",
          "data": {
            "text/plain": [
              "0                                  i didnt feel humiliated\n",
              "1        i can go from feeling so hopeless to so damned...\n",
              "2         im grabbing a minute to post i feel greedy wrong\n",
              "3        i am ever feeling nostalgic about the fireplac...\n",
              "4                                     i am feeling grouchy\n",
              "                               ...                        \n",
              "15995    i just had a very brief time in the beanbag an...\n",
              "15996    i am now turning and i feel pathetic that i am...\n",
              "15997                       i feel strong and good overall\n",
              "15998    i feel like this was such a rude comment and i...\n",
              "15999    i know a lot but i feel so stupid because i ca...\n",
              "Name: text, Length: 16000, dtype: object"
            ]
          },
          "metadata": {},
          "execution_count": 72
        }
      ]
    },
    {
      "cell_type": "code",
      "source": [
        "#convert texts to unique_numbers\n",
        "tokenizer.word_index"
      ],
      "metadata": {
        "colab": {
          "base_uri": "https://localhost:8080/"
        },
        "id": "3uIHYQvxo1dQ",
        "outputId": "e5fcd055-34f8-4575-8cd4-85311ac08da9"
      },
      "execution_count": 73,
      "outputs": [
        {
          "output_type": "execute_result",
          "data": {
            "text/plain": [
              "{'<OOV>': 1,\n",
              " 'i': 2,\n",
              " 'feel': 3,\n",
              " 'and': 4,\n",
              " 'to': 5,\n",
              " 'the': 6,\n",
              " 'a': 7,\n",
              " 'feeling': 8,\n",
              " 'that': 9,\n",
              " 'of': 10,\n",
              " 'my': 11,\n",
              " 'in': 12,\n",
              " 'it': 13,\n",
              " 'like': 14,\n",
              " 'so': 15,\n",
              " 'im': 16,\n",
              " 'for': 17,\n",
              " 'me': 18,\n",
              " 'have': 19,\n",
              " 'but': 20,\n",
              " 'was': 21,\n",
              " 'is': 22,\n",
              " 'this': 23,\n",
              " 'am': 24,\n",
              " 'with': 25,\n",
              " 'not': 26,\n",
              " 'about': 27,\n",
              " 'be': 28,\n",
              " 'as': 29,\n",
              " 'on': 30,\n",
              " 'you': 31,\n",
              " 'just': 32,\n",
              " 'at': 33,\n",
              " 'when': 34,\n",
              " 'or': 35,\n",
              " 'all': 36,\n",
              " 'because': 37,\n",
              " 'more': 38,\n",
              " 'do': 39,\n",
              " 'can': 40,\n",
              " 'really': 41,\n",
              " 'up': 42,\n",
              " 't': 43,\n",
              " 'by': 44,\n",
              " 'are': 45,\n",
              " 'very': 46,\n",
              " 'been': 47,\n",
              " 'know': 48,\n",
              " 'if': 49,\n",
              " 'out': 50,\n",
              " 'myself': 51,\n",
              " 'time': 52,\n",
              " 'what': 53,\n",
              " 'how': 54,\n",
              " 'get': 55,\n",
              " 'little': 56,\n",
              " 'had': 57,\n",
              " 'now': 58,\n",
              " 'will': 59,\n",
              " 'from': 60,\n",
              " 'they': 61,\n",
              " 'being': 62,\n",
              " 'people': 63,\n",
              " 'he': 64,\n",
              " 'them': 65,\n",
              " 'would': 66,\n",
              " 'want': 67,\n",
              " 'her': 68,\n",
              " 'some': 69,\n",
              " 'one': 70,\n",
              " 'still': 71,\n",
              " 'think': 72,\n",
              " 'ive': 73,\n",
              " 'who': 74,\n",
              " 'even': 75,\n",
              " 'him': 76,\n",
              " 'an': 77,\n",
              " 'life': 78,\n",
              " 'its': 79,\n",
              " 'there': 80,\n",
              " 'make': 81,\n",
              " 'bit': 82,\n",
              " 'we': 83,\n",
              " 'something': 84,\n",
              " 'love': 85,\n",
              " 'much': 86,\n",
              " 'going': 87,\n",
              " 'things': 88,\n",
              " 'dont': 89,\n",
              " 's': 90,\n",
              " 'way': 91,\n",
              " 'could': 92,\n",
              " 'no': 93,\n",
              " 'm': 94,\n",
              " 'than': 95,\n",
              " 'too': 96,\n",
              " 'day': 97,\n",
              " 'she': 98,\n",
              " 'has': 99,\n",
              " 'don': 100,\n",
              " 'go': 101,\n",
              " 'back': 102,\n",
              " 'pretty': 103,\n",
              " 'into': 104,\n",
              " 'good': 105,\n",
              " 'need': 106,\n",
              " 'which': 107,\n",
              " 'his': 108,\n",
              " 'their': 109,\n",
              " 'always': 110,\n",
              " 'these': 111,\n",
              " 'see': 112,\n",
              " 'right': 113,\n",
              " 'your': 114,\n",
              " 'over': 115,\n",
              " 'feelings': 116,\n",
              " 'only': 117,\n",
              " 'also': 118,\n",
              " 'other': 119,\n",
              " 'today': 120,\n",
              " 'feels': 121,\n",
              " 'say': 122,\n",
              " 'work': 123,\n",
              " 'then': 124,\n",
              " 'should': 125,\n",
              " 'after': 126,\n",
              " 'again': 127,\n",
              " 'did': 128,\n",
              " 'around': 129,\n",
              " 'were': 130,\n",
              " 'made': 131,\n",
              " 'cant': 132,\n",
              " 'though': 133,\n",
              " 'our': 134,\n",
              " 'most': 135,\n",
              " 'here': 136,\n",
              " 'well': 137,\n",
              " 'got': 138,\n",
              " 'didnt': 139,\n",
              " 'felt': 140,\n",
              " 'help': 141,\n",
              " 'any': 142,\n",
              " 'down': 143,\n",
              " 'those': 144,\n",
              " 'never': 145,\n",
              " 'through': 146,\n",
              " 'someone': 147,\n",
              " 'doing': 148,\n",
              " 'where': 149,\n",
              " 'every': 150,\n",
              " 'happy': 151,\n",
              " 'makes': 152,\n",
              " 'days': 153,\n",
              " 'less': 154,\n",
              " 'having': 155,\n",
              " 'many': 156,\n",
              " 'sure': 157,\n",
              " 'lot': 158,\n",
              " 'enough': 159,\n",
              " 'quite': 160,\n",
              " 'away': 161,\n",
              " 'anything': 162,\n",
              " 'find': 163,\n",
              " 'why': 164,\n",
              " 'ever': 165,\n",
              " 'look': 166,\n",
              " 'off': 167,\n",
              " 'home': 168,\n",
              " 'person': 169,\n",
              " 'left': 170,\n",
              " 'last': 171,\n",
              " 'better': 172,\n",
              " 'kind': 173,\n",
              " 'without': 174,\n",
              " 'before': 175,\n",
              " 'own': 176,\n",
              " 'everything': 177,\n",
              " 'friends': 178,\n",
              " 'come': 179,\n",
              " 'getting': 180,\n",
              " 'take': 181,\n",
              " 'sometimes': 182,\n",
              " 'world': 183,\n",
              " 'such': 184,\n",
              " 'few': 185,\n",
              " 'while': 186,\n",
              " 'actually': 187,\n",
              " 'http': 188,\n",
              " 'new': 189,\n",
              " 'trying': 190,\n",
              " 'thing': 191,\n",
              " 'remember': 192,\n",
              " 'thought': 193,\n",
              " 'year': 194,\n",
              " 'started': 195,\n",
              " 'first': 196,\n",
              " 'week': 197,\n",
              " 'said': 198,\n",
              " 'able': 199,\n",
              " 'family': 200,\n",
              " 'times': 201,\n",
              " 'bad': 202,\n",
              " 'let': 203,\n",
              " 'try': 204,\n",
              " 'long': 205,\n",
              " 'making': 206,\n",
              " 'rather': 207,\n",
              " 'alone': 208,\n",
              " 'href': 209,\n",
              " 'keep': 210,\n",
              " 'already': 211,\n",
              " 'others': 212,\n",
              " 'start': 213,\n",
              " 'same': 214,\n",
              " 'us': 215,\n",
              " 'tell': 216,\n",
              " 'read': 217,\n",
              " 'nothing': 218,\n",
              " 'ill': 219,\n",
              " 'years': 220,\n",
              " 'heart': 221,\n",
              " 'since': 222,\n",
              " 'two': 223,\n",
              " 'end': 224,\n",
              " 'write': 225,\n",
              " 'give': 226,\n",
              " 'yet': 227,\n",
              " 'morning': 228,\n",
              " 'place': 229,\n",
              " 'may': 230,\n",
              " 'stressed': 231,\n",
              " 'part': 232,\n",
              " 'often': 233,\n",
              " 'hate': 234,\n",
              " 'overwhelmed': 235,\n",
              " 'god': 236,\n",
              " 'might': 237,\n",
              " 'strange': 238,\n",
              " 'sweet': 239,\n",
              " 'night': 240,\n",
              " 'weird': 241,\n",
              " 'hope': 242,\n",
              " 'blog': 243,\n",
              " 'moment': 244,\n",
              " 'didn': 245,\n",
              " 'looking': 246,\n",
              " 'put': 247,\n",
              " 'school': 248,\n",
              " 'point': 249,\n",
              " 'anyone': 250,\n",
              " 'whole': 251,\n",
              " 'angry': 252,\n",
              " 'sad': 253,\n",
              " 'amazing': 254,\n",
              " 'pain': 255,\n",
              " 'another': 256,\n",
              " 'id': 257,\n",
              " 'lost': 258,\n",
              " 'wanted': 259,\n",
              " 'hard': 260,\n",
              " 'friend': 261,\n",
              " 'guess': 262,\n",
              " 'stop': 263,\n",
              " 'thinking': 264,\n",
              " 'once': 265,\n",
              " 'excited': 266,\n",
              " 'done': 267,\n",
              " 'hurt': 268,\n",
              " 'loved': 269,\n",
              " 'blessed': 270,\n",
              " 'each': 271,\n",
              " 'everyone': 272,\n",
              " 'does': 273,\n",
              " 'went': 274,\n",
              " 'talk': 275,\n",
              " 'almost': 276,\n",
              " 'old': 277,\n",
              " 'completely': 278,\n",
              " 'maybe': 279,\n",
              " 'accepted': 280,\n",
              " 'passionate': 281,\n",
              " 'self': 282,\n",
              " 'next': 283,\n",
              " 'body': 284,\n",
              " 'writing': 285,\n",
              " 'important': 286,\n",
              " 'especially': 287,\n",
              " 'least': 288,\n",
              " 'understand': 289,\n",
              " 'post': 290,\n",
              " 'fact': 291,\n",
              " 've': 292,\n",
              " 'hated': 293,\n",
              " 'stupid': 294,\n",
              " 'free': 295,\n",
              " 'cold': 296,\n",
              " 'tired': 297,\n",
              " 'great': 298,\n",
              " 'past': 299,\n",
              " 'use': 300,\n",
              " 'afraid': 301,\n",
              " 'must': 302,\n",
              " 'face': 303,\n",
              " 'helpless': 304,\n",
              " 'agitated': 305,\n",
              " 'best': 306,\n",
              " 'leave': 307,\n",
              " 'else': 308,\n",
              " 'care': 309,\n",
              " 'mean': 310,\n",
              " 'sense': 311,\n",
              " 'sleep': 312,\n",
              " 'anxious': 313,\n",
              " 'book': 314,\n",
              " 'found': 315,\n",
              " 'inside': 316,\n",
              " 'real': 317,\n",
              " 'mind': 318,\n",
              " 'girl': 319,\n",
              " 'believe': 320,\n",
              " 'used': 321,\n",
              " 'towards': 322,\n",
              " 'until': 323,\n",
              " 'starting': 324,\n",
              " 'reason': 325,\n",
              " 'thats': 326,\n",
              " 'supporting': 327,\n",
              " 'job': 328,\n",
              " 'lately': 329,\n",
              " 'wasnt': 330,\n",
              " 'ok': 331,\n",
              " 'thankful': 332,\n",
              " 'nervous': 333,\n",
              " 'glad': 334,\n",
              " 'become': 335,\n",
              " 'totally': 336,\n",
              " 'words': 337,\n",
              " 'told': 338,\n",
              " 'live': 339,\n",
              " 'loving': 340,\n",
              " 'class': 341,\n",
              " 'slightly': 342,\n",
              " 'generous': 343,\n",
              " 'sort': 344,\n",
              " 'strong': 345,\n",
              " 'wonderful': 346,\n",
              " 'house': 347,\n",
              " 'far': 348,\n",
              " 'came': 349,\n",
              " 'depressed': 350,\n",
              " 'taking': 351,\n",
              " 'perfect': 352,\n",
              " 'coming': 353,\n",
              " 'show': 354,\n",
              " 'working': 355,\n",
              " 're': 356,\n",
              " 'probably': 357,\n",
              " 'wish': 358,\n",
              " 'share': 359,\n",
              " 'sorry': 360,\n",
              " 'low': 361,\n",
              " 'months': 362,\n",
              " 'emotional': 363,\n",
              " 'guilty': 364,\n",
              " 'lonely': 365,\n",
              " 'comfortable': 366,\n",
              " 'particularly': 367,\n",
              " 'frustrated': 368,\n",
              " 'kids': 369,\n",
              " 'head': 370,\n",
              " 'scared': 371,\n",
              " 'child': 372,\n",
              " 'safe': 373,\n",
              " 'amp': 374,\n",
              " 'cool': 375,\n",
              " 'special': 376,\n",
              " 'reading': 377,\n",
              " 'extremely': 378,\n",
              " 'during': 379,\n",
              " 'call': 380,\n",
              " 'proud': 381,\n",
              " 'man': 382,\n",
              " 'saying': 383,\n",
              " 'stuff': 384,\n",
              " 'confident': 385,\n",
              " 'fine': 386,\n",
              " 'finally': 387,\n",
              " 'positive': 388,\n",
              " 'exhausted': 389,\n",
              " 'truly': 390,\n",
              " 'bed': 391,\n",
              " 'miserable': 392,\n",
              " 'thoughts': 393,\n",
              " 'children': 394,\n",
              " 'hear': 395,\n",
              " 'horrible': 396,\n",
              " 'big': 397,\n",
              " 'hot': 398,\n",
              " 'wont': 399,\n",
              " 'ashamed': 400,\n",
              " 'run': 401,\n",
              " 'together': 402,\n",
              " 'missed': 403,\n",
              " 'tortured': 404,\n",
              " 'future': 405,\n",
              " 'terrified': 406,\n",
              " 'eyes': 407,\n",
              " 'woke': 408,\n",
              " 'liked': 409,\n",
              " 'admit': 410,\n",
              " 'beloved': 411,\n",
              " 'hours': 412,\n",
              " 'enjoy': 413,\n",
              " 'change': 414,\n",
              " 'wrong': 415,\n",
              " 'living': 416,\n",
              " 'anymore': 417,\n",
              " 'walk': 418,\n",
              " 'havent': 419,\n",
              " 'cannot': 420,\n",
              " 'awkward': 421,\n",
              " 'spent': 422,\n",
              " 'mad': 423,\n",
              " 'room': 424,\n",
              " 'irritable': 425,\n",
              " 'bothered': 426,\n",
              " 'matter': 427,\n",
              " 'decided': 428,\n",
              " 'lovely': 429,\n",
              " 'experience': 430,\n",
              " 'embarrassed': 431,\n",
              " 'usually': 432,\n",
              " 'creative': 433,\n",
              " 'talented': 434,\n",
              " 'knowing': 435,\n",
              " 'seem': 436,\n",
              " 'amazed': 437,\n",
              " 'content': 438,\n",
              " 'story': 439,\n",
              " 'lucky': 440,\n",
              " 'doesnt': 441,\n",
              " 'disappointed': 442,\n",
              " 'weeks': 443,\n",
              " 'somewhat': 444,\n",
              " 'confused': 445,\n",
              " 'miss': 446,\n",
              " 'uncomfortable': 447,\n",
              " 'control': 448,\n",
              " 'successful': 449,\n",
              " 'baby': 450,\n",
              " 'mother': 451,\n",
              " 'caring': 452,\n",
              " 'both': 453,\n",
              " 'satisfied': 454,\n",
              " 'unhappy': 455,\n",
              " 'close': 456,\n",
              " 'inspired': 457,\n",
              " 'brave': 458,\n",
              " 'seems': 459,\n",
              " 'funny': 460,\n",
              " 'shitty': 461,\n",
              " 'knew': 462,\n",
              " 'greedy': 463,\n",
              " 'running': 464,\n",
              " 'energy': 465,\n",
              " 'longer': 466,\n",
              " 'fun': 467,\n",
              " 'unsure': 468,\n",
              " 'popular': 469,\n",
              " 'awful': 470,\n",
              " 'dull': 471,\n",
              " 'terrible': 472,\n",
              " 'ago': 473,\n",
              " 'lethargic': 474,\n",
              " 'women': 475,\n",
              " 'couldnt': 476,\n",
              " 'cute': 477,\n",
              " 'full': 478,\n",
              " 'selfish': 479,\n",
              " 'woman': 480,\n",
              " 'calm': 481,\n",
              " 'idea': 482,\n",
              " 'instead': 483,\n",
              " 'vulnerable': 484,\n",
              " 'absolutely': 485,\n",
              " 'rest': 486,\n",
              " 'super': 487,\n",
              " 'irritated': 488,\n",
              " 'eat': 489,\n",
              " 'ask': 490,\n",
              " 'surprised': 491,\n",
              " 'talking': 492,\n",
              " 'sit': 493,\n",
              " 'somehow': 494,\n",
              " 'situation': 495,\n",
              " 'comes': 496,\n",
              " 'annoyed': 497,\n",
              " 'move': 498,\n",
              " 'mom': 499,\n",
              " 'rich': 500,\n",
              " 'punished': 501,\n",
              " 'empty': 502,\n",
              " 'between': 503,\n",
              " 'useless': 504,\n",
              " 'side': 505,\n",
              " 'money': 506,\n",
              " 'giving': 507,\n",
              " 'offended': 508,\n",
              " 'needed': 509,\n",
              " 'happen': 510,\n",
              " 'uncertain': 511,\n",
              " 'food': 512,\n",
              " 'whether': 513,\n",
              " 'soon': 514,\n",
              " 'homesick': 515,\n",
              " 'sitting': 516,\n",
              " 'jealous': 517,\n",
              " 'convinced': 518,\n",
              " 'numb': 519,\n",
              " 'pleasant': 520,\n",
              " 'guy': 521,\n",
              " 'small': 522,\n",
              " 'different': 523,\n",
              " 'asked': 524,\n",
              " 'cause': 525,\n",
              " 'nice': 526,\n",
              " 'wonder': 527,\n",
              " 'shy': 528,\n",
              " 'stay': 529,\n",
              " 'ways': 530,\n",
              " 'determined': 531,\n",
              " 'melancholy': 532,\n",
              " 'hopeless': 533,\n",
              " 'divine': 534,\n",
              " 'precious': 535,\n",
              " 'fucked': 536,\n",
              " 'rude': 537,\n",
              " 'discouraged': 538,\n",
              " 'hes': 539,\n",
              " 'aching': 540,\n",
              " 'useful': 541,\n",
              " 'wear': 542,\n",
              " 'hair': 543,\n",
              " 'curious': 544,\n",
              " 'insecure': 545,\n",
              " 'hand': 546,\n",
              " 'open': 547,\n",
              " 'devastated': 548,\n",
              " 'hopeful': 549,\n",
              " 'burdened': 550,\n",
              " 'rejected': 551,\n",
              " 'kinda': 552,\n",
              " 'impressed': 553,\n",
              " 'however': 554,\n",
              " 'pressured': 555,\n",
              " 'took': 556,\n",
              " 'relaxed': 557,\n",
              " 'ugly': 558,\n",
              " 'shaken': 559,\n",
              " 'against': 560,\n",
              " 'valued': 561,\n",
              " 'simply': 562,\n",
              " 'resentful': 563,\n",
              " 'insulted': 564,\n",
              " 'youre': 565,\n",
              " 'seeing': 566,\n",
              " 'gorgeous': 567,\n",
              " 'violent': 568,\n",
              " 'sick': 569,\n",
              " 'music': 570,\n",
              " 'cranky': 571,\n",
              " 'happened': 572,\n",
              " 'began': 573,\n",
              " 'support': 574,\n",
              " 'unwelcome': 575,\n",
              " 'beautiful': 576,\n",
              " 'honored': 577,\n",
              " 'rushed': 578,\n",
              " 'groggy': 579,\n",
              " 'reluctant': 580,\n",
              " 'll': 581,\n",
              " 'respected': 582,\n",
              " 'vain': 583,\n",
              " 'pissed': 584,\n",
              " 'sympathetic': 585,\n",
              " 'husband': 586,\n",
              " 'isolated': 587,\n",
              " 'gloomy': 588,\n",
              " 'joyful': 589,\n",
              " 'tonight': 590,\n",
              " 'optimistic': 591,\n",
              " 'parents': 592,\n",
              " 'faithful': 593,\n",
              " 'apprehensive': 594,\n",
              " 'assured': 595,\n",
              " 'watch': 596,\n",
              " 'either': 597,\n",
              " 'theres': 598,\n",
              " 'sincere': 599,\n",
              " 'wanting': 600,\n",
              " 'turn': 601,\n",
              " 'dumb': 602,\n",
              " 'paranoid': 603,\n",
              " 'pathetic': 604,\n",
              " 'couple': 605,\n",
              " 'shes': 606,\n",
              " 'relationship': 607,\n",
              " 'innocent': 608,\n",
              " 'dangerous': 609,\n",
              " 'beaten': 610,\n",
              " 'crappy': 611,\n",
              " 'smart': 612,\n",
              " 'watching': 613,\n",
              " 'valuable': 614,\n",
              " 'wake': 615,\n",
              " 'dirty': 616,\n",
              " 'set': 617,\n",
              " 'dissatisfied': 618,\n",
              " 'bitter': 619,\n",
              " 'mine': 620,\n",
              " 'worthless': 621,\n",
              " 'intimidated': 622,\n",
              " 'distracted': 623,\n",
              " 'blank': 624,\n",
              " 'ignored': 625,\n",
              " 'weekend': 626,\n",
              " 'honestly': 627,\n",
              " 'yesterday': 628,\n",
              " 'books': 629,\n",
              " 'pleased': 630,\n",
              " 'www': 631,\n",
              " 'song': 632,\n",
              " 'lives': 633,\n",
              " 'needs': 634,\n",
              " 'superior': 635,\n",
              " 'ready': 636,\n",
              " 'realize': 637,\n",
              " 'whatever': 638,\n",
              " 'productive': 639,\n",
              " 'friendly': 640,\n",
              " 'incredibly': 641,\n",
              " 'heartbroken': 642,\n",
              " 'humiliated': 643,\n",
              " 'defeated': 644,\n",
              " 'energetic': 645,\n",
              " 'disgusted': 646,\n",
              " 'gone': 647,\n",
              " 'certain': 648,\n",
              " 'front': 649,\n",
              " 'drained': 650,\n",
              " 'gentle': 651,\n",
              " 'definitely': 652,\n",
              " 'mellow': 653,\n",
              " 'boring': 654,\n",
              " 'bitchy': 655,\n",
              " 'joy': 656,\n",
              " 'tried': 657,\n",
              " 'clever': 658,\n",
              " 'longing': 659,\n",
              " 'upset': 660,\n",
              " 'peaceful': 661,\n",
              " 'lousy': 662,\n",
              " 'petty': 663,\n",
              " 'waiting': 664,\n",
              " 'listen': 665,\n",
              " 'course': 666,\n",
              " 'festive': 667,\n",
              " 'fake': 668,\n",
              " 'wronged': 669,\n",
              " 'cry': 670,\n",
              " 'high': 671,\n",
              " 'outside': 672,\n",
              " 'three': 673,\n",
              " 'd': 674,\n",
              " 'trust': 675,\n",
              " 'disheartened': 676,\n",
              " 'second': 677,\n",
              " 'hesitant': 678,\n",
              " 'naughty': 679,\n",
              " 'half': 680,\n",
              " 'romantic': 681,\n",
              " 'girls': 682,\n",
              " 'unimportant': 683,\n",
              " 'spend': 684,\n",
              " 'called': 685,\n",
              " 'resolved': 686,\n",
              " 'regretful': 687,\n",
              " 'delicious': 688,\n",
              " 'disturbed': 689,\n",
              " 'rotten': 690,\n",
              " 'tender': 691,\n",
              " 'thrilled': 692,\n",
              " 'threatened': 693,\n",
              " 'troubled': 694,\n",
              " 'inadequate': 695,\n",
              " 'realized': 696,\n",
              " 'virtuous': 697,\n",
              " 'nostalgic': 698,\n",
              " 'supportive': 699,\n",
              " 'fearful': 700,\n",
              " 'eager': 701,\n",
              " 'shocked': 702,\n",
              " 'weight': 703,\n",
              " 'damaged': 704,\n",
              " 'broke': 705,\n",
              " 'ones': 706,\n",
              " 'shaky': 707,\n",
              " 'men': 708,\n",
              " 'guys': 709,\n",
              " 'hour': 710,\n",
              " 'acceptable': 711,\n",
              " 'under': 712,\n",
              " 'young': 713,\n",
              " 'worthwhile': 714,\n",
              " 'needy': 715,\n",
              " 'restless': 716,\n",
              " 'whenever': 717,\n",
              " 'relieved': 718,\n",
              " 'eating': 719,\n",
              " 'summer': 720,\n",
              " 'christmas': 721,\n",
              " 'supposed': 722,\n",
              " 'given': 723,\n",
              " 'trusting': 724,\n",
              " 'country': 725,\n",
              " 'buy': 726,\n",
              " 'honoured': 727,\n",
              " 'exactly': 728,\n",
              " 'continue': 729,\n",
              " 'true': 730,\n",
              " 'impatient': 731,\n",
              " 'deep': 732,\n",
              " 'welcomed': 733,\n",
              " 'unfortunate': 734,\n",
              " 'behind': 735,\n",
              " 'suffering': 736,\n",
              " 'plan': 737,\n",
              " 'word': 738,\n",
              " 'horny': 739,\n",
              " 'fantastic': 740,\n",
              " 'carefree': 741,\n",
              " 'wasn': 742,\n",
              " 'lame': 743,\n",
              " 'skin': 744,\n",
              " 'suddenly': 745,\n",
              " 'doomed': 746,\n",
              " 'grateful': 747,\n",
              " 'etc': 748,\n",
              " 'listless': 749,\n",
              " 'rebellious': 750,\n",
              " 'single': 751,\n",
              " 'intelligent': 752,\n",
              " 'play': 753,\n",
              " 'problems': 754,\n",
              " 'generally': 755,\n",
              " 'learn': 756,\n",
              " 'list': 757,\n",
              " 'emotions': 758,\n",
              " 'toward': 759,\n",
              " 'learning': 760,\n",
              " 'game': 761,\n",
              " 'discontent': 762,\n",
              " 'order': 763,\n",
              " 'ungrateful': 764,\n",
              " 'fabulous': 765,\n",
              " 'deprived': 766,\n",
              " 'isnt': 767,\n",
              " 'hold': 768,\n",
              " 'fear': 769,\n",
              " 'taken': 770,\n",
              " 'loyal': 771,\n",
              " 'oh': 772,\n",
              " 'adventurous': 773,\n",
              " 'deal': 774,\n",
              " 'frightened': 775,\n",
              " 'boy': 776,\n",
              " 'although': 777,\n",
              " 'later': 778,\n",
              " 'mood': 779,\n",
              " 'car': 780,\n",
              " 'using': 781,\n",
              " 'within': 782,\n",
              " 'privileged': 783,\n",
              " 'grumpy': 784,\n",
              " 'sat': 785,\n",
              " 'lack': 786,\n",
              " 'saw': 787,\n",
              " 'invigorated': 788,\n",
              " 'normal': 789,\n",
              " 'fond': 790,\n",
              " 'putting': 791,\n",
              " 'moments': 792,\n",
              " 'stubborn': 793,\n",
              " 'movie': 794,\n",
              " 'hands': 795,\n",
              " 'telling': 796,\n",
              " 'foolish': 797,\n",
              " 'jaded': 798,\n",
              " 'type': 799,\n",
              " 'possible': 800,\n",
              " 'reassured': 801,\n",
              " 'smile': 802,\n",
              " 'learned': 803,\n",
              " 'vital': 804,\n",
              " 'wouldnt': 805,\n",
              " 'name': 806,\n",
              " 'artistic': 807,\n",
              " 'unloved': 808,\n",
              " 'students': 809,\n",
              " 'forward': 810,\n",
              " 'desire': 811,\n",
              " 'terrific': 812,\n",
              " 'met': 813,\n",
              " 'leaving': 814,\n",
              " 'moving': 815,\n",
              " 'meet': 816,\n",
              " 'touch': 817,\n",
              " 'contented': 818,\n",
              " 'break': 819,\n",
              " 'minutes': 820,\n",
              " 'stomach': 821,\n",
              " 'triumphant': 822,\n",
              " 'constantly': 823,\n",
              " 'healthy': 824,\n",
              " 'stand': 825,\n",
              " 'delicate': 826,\n",
              " 'begin': 827,\n",
              " 'suppose': 828,\n",
              " 'smug': 829,\n",
              " 'doesn': 830,\n",
              " 'abused': 831,\n",
              " 'upon': 832,\n",
              " 'style': 833,\n",
              " 'phone': 834,\n",
              " 'dream': 835,\n",
              " 'along': 836,\n",
              " 'gets': 837,\n",
              " 'opportunity': 838,\n",
              " 'casual': 839,\n",
              " 'walked': 840,\n",
              " 'seen': 841,\n",
              " 'yes': 842,\n",
              " 'group': 843,\n",
              " 'easy': 844,\n",
              " 'beginning': 845,\n",
              " 'chance': 846,\n",
              " 'peace': 847,\n",
              " 'attention': 848,\n",
              " 'lose': 849,\n",
              " 'worried': 850,\n",
              " 'team': 851,\n",
              " 'ecstatic': 852,\n",
              " 'worth': 853,\n",
              " 'imagine': 854,\n",
              " 'race': 855,\n",
              " 'human': 856,\n",
              " 'submissive': 857,\n",
              " 'art': 858,\n",
              " 'looks': 859,\n",
              " 'damn': 860,\n",
              " 'means': 861,\n",
              " 'deeply': 862,\n",
              " 'appreciative': 863,\n",
              " 'speak': 864,\n",
              " 'fall': 865,\n",
              " 'goes': 866,\n",
              " 'shit': 867,\n",
              " 'src': 868,\n",
              " 'father': 869,\n",
              " 'space': 870,\n",
              " 'worked': 871,\n",
              " 'envious': 872,\n",
              " 'bring': 873,\n",
              " 'frantic': 874,\n",
              " 'focus': 875,\n",
              " 'spirit': 876,\n",
              " 'month': 877,\n",
              " 'age': 878,\n",
              " 'tragic': 879,\n",
              " 'comments': 880,\n",
              " 'loss': 881,\n",
              " 'fucking': 882,\n",
              " 'arms': 883,\n",
              " 'despite': 884,\n",
              " 'seriously': 885,\n",
              " 'perhaps': 886,\n",
              " 'walking': 887,\n",
              " 'water': 888,\n",
              " 'wearing': 889,\n",
              " 'doubtful': 890,\n",
              " 'due': 891,\n",
              " 'red': 892,\n",
              " 'kept': 893,\n",
              " 'crazy': 894,\n",
              " 'top': 895,\n",
              " 'amount': 896,\n",
              " 'skeptical': 897,\n",
              " 'won': 898,\n",
              " 'strongly': 899,\n",
              " 'piece': 900,\n",
              " 'themselves': 901,\n",
              " 'late': 902,\n",
              " 'line': 903,\n",
              " 'personal': 904,\n",
              " 'air': 905,\n",
              " 'light': 906,\n",
              " 'party': 907,\n",
              " 'gave': 908,\n",
              " 'known': 909,\n",
              " 'four': 910,\n",
              " 'wants': 911,\n",
              " 'spending': 912,\n",
              " 'recently': 913,\n",
              " 'possibly': 914,\n",
              " 'news': 915,\n",
              " 'questions': 916,\n",
              " 'tears': 917,\n",
              " 'hell': 918,\n",
              " 'anger': 919,\n",
              " 'add': 920,\n",
              " 'wait': 921,\n",
              " 'dazed': 922,\n",
              " 'messy': 923,\n",
              " 'finish': 924,\n",
              " 'community': 925,\n",
              " 'sentimental': 926,\n",
              " 'amused': 927,\n",
              " 'delighted': 928,\n",
              " 'explain': 929,\n",
              " 'heard': 930,\n",
              " 'trip': 931,\n",
              " 'level': 932,\n",
              " 'finished': 933,\n",
              " 'unpleasant': 934,\n",
              " 'son': 935,\n",
              " 'utterly': 936,\n",
              " 'across': 937,\n",
              " 'voice': 938,\n",
              " 'quickly': 939,\n",
              " 'death': 940,\n",
              " 'worse': 941,\n",
              " 'says': 942,\n",
              " 'issues': 943,\n",
              " 'disillusioned': 944,\n",
              " 'early': 945,\n",
              " 'state': 946,\n",
              " 'playful': 947,\n",
              " 'distressed': 948,\n",
              " 'step': 949,\n",
              " 'stories': 950,\n",
              " 'truth': 951,\n",
              " 'crying': 952,\n",
              " 'short': 953,\n",
              " 'presence': 954,\n",
              " 'keen': 955,\n",
              " 'tomorrow': 956,\n",
              " 'decide': 957,\n",
              " 'suspicious': 958,\n",
              " 'characters': 959,\n",
              " 'brain': 960,\n",
              " 'emotionally': 961,\n",
              " 'everyday': 962,\n",
              " 'dark': 963,\n",
              " 'theyre': 964,\n",
              " 'effort': 965,\n",
              " 'pressure': 966,\n",
              " 'act': 967,\n",
              " 'glamorous': 968,\n",
              " 'missing': 969,\n",
              " 'please': 970,\n",
              " 'managed': 971,\n",
              " 'keeping': 972,\n",
              " 'personally': 973,\n",
              " 'decision': 974,\n",
              " 'fairly': 975,\n",
              " 'photos': 976,\n",
              " 'health': 977,\n",
              " 'church': 978,\n",
              " 'except': 979,\n",
              " 'pay': 980,\n",
              " 'college': 981,\n",
              " 'stress': 982,\n",
              " 'img': 983,\n",
              " 'sleeping': 984,\n",
              " 'wondering': 985,\n",
              " 'certainly': 986,\n",
              " 'cut': 987,\n",
              " 'physically': 988,\n",
              " 'case': 989,\n",
              " 'easily': 990,\n",
              " 'gotten': 991,\n",
              " 'lots': 992,\n",
              " 'asking': 993,\n",
              " 'throw': 994,\n",
              " 'usual': 995,\n",
              " 'remorseful': 996,\n",
              " 'reasons': 997,\n",
              " 'wanna': 998,\n",
              " 'expect': 999,\n",
              " 'general': 1000,\n",
              " ...}"
            ]
          },
          "metadata": {},
          "execution_count": 73
        }
      ]
    },
    {
      "cell_type": "code",
      "source": [
        "x_train_tokenized=tokenizer.texts_to_sequences(x_train)\n",
        "x_test_tokenized=tokenizer.texts_to_sequences(x_test)"
      ],
      "metadata": {
        "id": "vgwn9-ngo6rV"
      },
      "execution_count": 74,
      "outputs": []
    },
    {
      "cell_type": "code",
      "source": [
        "print(x_train[0])\n",
        "print(x_train_tokenized[0])"
      ],
      "metadata": {
        "colab": {
          "base_uri": "https://localhost:8080/"
        },
        "id": "fsFtGu0KqEyW",
        "outputId": "493b408b-abfb-4716-fb18-32841043a732"
      },
      "execution_count": 75,
      "outputs": [
        {
          "output_type": "stream",
          "name": "stdout",
          "text": [
            "i didnt feel humiliated\n",
            "[2, 139, 3, 643]\n"
          ]
        }
      ]
    },
    {
      "cell_type": "code",
      "source": [
        "print(x_test[0])\n",
        "print(x_test_tokenized[0])"
      ],
      "metadata": {
        "colab": {
          "base_uri": "https://localhost:8080/"
        },
        "id": "4dYfabTY3b8h",
        "outputId": "d6357bdc-8146-4ccf-b4ef-fd89b972592d"
      },
      "execution_count": 76,
      "outputs": [
        {
          "output_type": "stream",
          "name": "stdout",
          "text": [
            "im feeling rather rotten so im not very ambitious right now\n",
            "[16, 8, 207, 690, 15, 16, 26, 46, 4686, 113, 58]\n"
          ]
        }
      ]
    },
    {
      "cell_type": "code",
      "source": [
        "print(\"Length of Review 1:\", len(x_train_tokenized[1]))\n",
        "print(\"Length of Review 2:\", len(x_train_tokenized[2]))\n",
        "print(\"Length of Review 3:\", len(x_train_tokenized[3]))"
      ],
      "metadata": {
        "colab": {
          "base_uri": "https://localhost:8080/"
        },
        "id": "uOoN42P_qiJw",
        "outputId": "b148db84-3c20-4899-a26f-541c41ccff2e"
      },
      "execution_count": 77,
      "outputs": [
        {
          "output_type": "stream",
          "name": "stdout",
          "text": [
            "Length of Review 1: 21\n",
            "Length of Review 2: 10\n",
            "Length of Review 3: 18\n"
          ]
        }
      ]
    },
    {
      "cell_type": "code",
      "source": [
        "list_seq=[]\n",
        "seq_lenght=[len(list_seq) for list_seq in x_train]\n",
        "print(max(seq_lenght))\n",
        "plt.hist(seq_lenght)"
      ],
      "metadata": {
        "colab": {
          "base_uri": "https://localhost:8080/",
          "height": 369
        },
        "id": "9mIOMO9WtFxe",
        "outputId": "61e85717-bec3-4c41-c6d8-6f2cbe21b5da"
      },
      "execution_count": 78,
      "outputs": [
        {
          "output_type": "stream",
          "name": "stdout",
          "text": [
            "300\n"
          ]
        },
        {
          "output_type": "execute_result",
          "data": {
            "text/plain": [
              "(array([1833., 3659., 3524., 2709., 1813., 1043.,  701.,  376.,  219.,\n",
              "         123.]),\n",
              " array([  7. ,  36.3,  65.6,  94.9, 124.2, 153.5, 182.8, 212.1, 241.4,\n",
              "        270.7, 300. ]),\n",
              " <a list of 10 Patch objects>)"
            ]
          },
          "metadata": {},
          "execution_count": 78
        },
        {
          "output_type": "display_data",
          "data": {
            "image/png": "[encoded data removed]",
            "text/plain": [
              "<Figure size 432x288 with 1 Axes>"
            ]
          },
          "metadata": {
            "needs_background": "light"
          }
        }
      ]
    },
    {
      "cell_type": "code",
      "source": [
        "x_train_padding=tf.keras.preprocessing.sequence.pad_sequences(\n",
        "    x_train_tokenized,\n",
        "    maxlen=max_sequence, \n",
        "    padding='post' \n",
        ")"
      ],
      "metadata": {
        "id": "iihg4bOSrMJ2"
      },
      "execution_count": 79,
      "outputs": []
    },
    {
      "cell_type": "code",
      "source": [
        "x_test_padding=tf.keras.preprocessing.sequence.pad_sequences(\n",
        "    x_test_tokenized,\n",
        "    maxlen=max_sequence, \n",
        "    padding='post' \n",
        ")"
      ],
      "metadata": {
        "id": "M89jHgsY4Ujr"
      },
      "execution_count": 80,
      "outputs": []
    },
    {
      "cell_type": "code",
      "source": [
        "print(\"Length of Review 1:\", len(x_train_padding[1]))\n",
        "print(\"Length of Review 2:\", len(x_train_padding[2]))\n",
        "print(\"Length of Review 3:\", len(x_train_padding[3]))"
      ],
      "metadata": {
        "colab": {
          "base_uri": "https://localhost:8080/"
        },
        "id": "8Im_1W79ueSk",
        "outputId": "fde6e7ad-4d88-4cfe-abca-37f063962503"
      },
      "execution_count": 81,
      "outputs": [
        {
          "output_type": "stream",
          "name": "stdout",
          "text": [
            "Length of Review 1: 64\n",
            "Length of Review 2: 64\n",
            "Length of Review 3: 64\n"
          ]
        }
      ]
    },
    {
      "cell_type": "code",
      "source": [
        "print(\"Length of Review 1:\", len(x_test_padding[1]))\n",
        "print(\"Length of Review 2:\", len(x_test_padding[2]))\n",
        "print(\"Length of Review 3:\", len(x_test_padding[3]))"
      ],
      "metadata": {
        "colab": {
          "base_uri": "https://localhost:8080/"
        },
        "id": "8J1_tgd14inE",
        "outputId": "0a7d11fe-6e8c-4059-ed61-1df0fbbfd698"
      },
      "execution_count": 82,
      "outputs": [
        {
          "output_type": "stream",
          "name": "stdout",
          "text": [
            "Length of Review 1: 64\n",
            "Length of Review 2: 64\n",
            "Length of Review 3: 64\n"
          ]
        }
      ]
    },
    {
      "cell_type": "markdown",
      "source": [
        "#5- Do the appropriate operations on the targets to prepare them for training"
      ],
      "metadata": {
        "id": "BUA5p-uwrlLL"
      }
    },
    {
      "cell_type": "code",
      "source": [
        "#preprocess Targets\n",
        "y_train.replace({'sadness':0, 'joy':1, 'fear':2, 'surprise':3, 'love':4, 'anger':5},inplace=True)\n",
        "y_test.replace({'sadness':0, 'joy':1, 'fear':2, 'surprise':3, 'love':4, 'anger':5},inplace=True)"
      ],
      "metadata": {
        "id": "RUEF6dN_rFGD"
      },
      "execution_count": 83,
      "outputs": []
    },
    {
      "cell_type": "code",
      "source": [
        "print(y_train),print(y_test)"
      ],
      "metadata": {
        "colab": {
          "base_uri": "https://localhost:8080/"
        },
        "id": "X6XlDIV9wdKk",
        "outputId": "6db67a37-c300-4069-e64b-07771015eea6"
      },
      "execution_count": 84,
      "outputs": [
        {
          "output_type": "stream",
          "name": "stdout",
          "text": [
            "0        0\n",
            "1        0\n",
            "2        5\n",
            "3        4\n",
            "4        5\n",
            "        ..\n",
            "15995    0\n",
            "15996    0\n",
            "15997    1\n",
            "15998    5\n",
            "15999    0\n",
            "Name: emotion, Length: 16000, dtype: int64\n",
            "0       0\n",
            "1       0\n",
            "2       0\n",
            "3       1\n",
            "4       0\n",
            "       ..\n",
            "1995    5\n",
            "1996    5\n",
            "1997    1\n",
            "1998    1\n",
            "1999    2\n",
            "Name: emotion, Length: 2000, dtype: int64\n"
          ]
        },
        {
          "output_type": "execute_result",
          "data": {
            "text/plain": [
              "(None, None)"
            ]
          },
          "metadata": {},
          "execution_count": 84
        }
      ]
    },
    {
      "cell_type": "code",
      "source": [
        "# encode the training and testing target into one hot vector\n",
        "y_train_hot=tf.one_hot(y_train,depth=len(set(y_train)))\n",
        "y_test_hot=tf.one_hot(y_test,depth=len(set(y_train)))"
      ],
      "metadata": {
        "id": "dhPqp_WxxvhA"
      },
      "execution_count": 85,
      "outputs": []
    },
    {
      "cell_type": "code",
      "source": [
        "y_train_hot"
      ],
      "metadata": {
        "colab": {
          "base_uri": "https://localhost:8080/"
        },
        "id": "wYxCUR7fyCnQ",
        "outputId": "189dbb4b-0539-4c78-9b56-7d578a071b76"
      },
      "execution_count": 86,
      "outputs": [
        {
          "output_type": "execute_result",
          "data": {
            "text/plain": [
              "<tf.Tensor: shape=(16000, 6), dtype=float32, numpy=\n",
              "array([[1., 0., 0., 0., 0., 0.],\n",
              "       [1., 0., 0., 0., 0., 0.],\n",
              "       [0., 0., 0., 0., 0., 1.],\n",
              "       ...,\n",
              "       [0., 1., 0., 0., 0., 0.],\n",
              "       [0., 0., 0., 0., 0., 1.],\n",
              "       [1., 0., 0., 0., 0., 0.]], dtype=float32)>"
            ]
          },
          "metadata": {},
          "execution_count": 86
        }
      ]
    },
    {
      "cell_type": "code",
      "source": [
        "y_test_hot"
      ],
      "metadata": {
        "colab": {
          "base_uri": "https://localhost:8080/"
        },
        "id": "P0ecJiNtyFbP",
        "outputId": "3f74b1f7-8f99-41b5-b7c9-1b05d5314659"
      },
      "execution_count": 87,
      "outputs": [
        {
          "output_type": "execute_result",
          "data": {
            "text/plain": [
              "<tf.Tensor: shape=(2000, 6), dtype=float32, numpy=\n",
              "array([[1., 0., 0., 0., 0., 0.],\n",
              "       [1., 0., 0., 0., 0., 0.],\n",
              "       [1., 0., 0., 0., 0., 0.],\n",
              "       ...,\n",
              "       [0., 1., 0., 0., 0., 0.],\n",
              "       [0., 1., 0., 0., 0., 0.],\n",
              "       [0., 0., 1., 0., 0., 0.]], dtype=float32)>"
            ]
          },
          "metadata": {},
          "execution_count": 87
        }
      ]
    },
    {
      "cell_type": "code",
      "source": [
        "def create_pipline(x,y):\n",
        "  data=tf.data.Dataset.from_tensor_slices((x,y))\n",
        "  data=data.shuffle(1028)\n",
        "  data=data.batch(32)\n",
        "  data=data.prefetch(tf.data.experimental.AUTOTUNE)\n",
        "  return data\n",
        "\n",
        "train_dataset=create_pipline(x_train_padding,y_train_hot) \n",
        "test_dataset=create_pipline(x_test_padding,y_test_hot)"
      ],
      "metadata": {
        "id": "1aFioRwkyIvB"
      },
      "execution_count": 88,
      "outputs": []
    },
    {
      "cell_type": "markdown",
      "source": [
        "#6- Modeling:\n",
        "Define the sequential models, make sure to use RNN,LSTM,GRU and DNN with Embedding layers using Bidirectional LSTM if necessary. The training and validation accuracy should be at least 94% and 88% respectively"
      ],
      "metadata": {
        "id": "nOEo3I9grsab"
      }
    },
    {
      "cell_type": "markdown",
      "source": [
        "##RNN Model"
      ],
      "metadata": {
        "id": "dt94541-Iidp"
      }
    },
    {
      "cell_type": "code",
      "source": [
        "#create a rnn_model\n",
        "model_rnn = tf.keras.Sequential([\n",
        "      tf.keras.layers.Input([max_sequence]), \n",
        "      tf.keras.layers.Embedding(vocab_size+1,64,mask_zero=True),\n",
        "      tf.keras.layers.SimpleRNN(units=32),\n",
        "      tf.keras.layers.Dense(units=6,activation='softmax'),\n",
        "])\n",
        "\n",
        "model_rnn.summary()"
      ],
      "metadata": {
        "id": "Fy6HA5ZIrFLJ",
        "colab": {
          "base_uri": "https://localhost:8080/"
        },
        "outputId": "472b9877-86b0-42e5-d4fb-58f942044947"
      },
      "execution_count": 99,
      "outputs": [
        {
          "output_type": "stream",
          "name": "stdout",
          "text": [
            "Model: \"sequential_5\"\n",
            "_________________________________________________________________\n",
            " Layer (type)                Output Shape              Param #   \n",
            "=================================================================\n",
            " embedding_5 (Embedding)     (None, 64, 64)            640064    \n",
            "                                                                 \n",
            " simple_rnn_5 (SimpleRNN)    (None, 32)                3104      \n",
            "                                                                 \n",
            " dense_5 (Dense)             (None, 6)                 198       \n",
            "                                                                 \n",
            "=================================================================\n",
            "Total params: 643,366\n",
            "Trainable params: 643,366\n",
            "Non-trainable params: 0\n",
            "_________________________________________________________________\n"
          ]
        }
      ]
    },
    {
      "cell_type": "code",
      "source": [
        "#saved the model to the folder\n",
        "save_model=tf.keras.callbacks.ModelCheckpoint('/content/model_1',save_best_only=True,\n",
        "                                              monitor='loss')\n",
        "model_rnn.compile(optimizer='adam',loss='categorical_crossentropy',metrics=['accuracy'])"
      ],
      "metadata": {
        "id": "Hcdok7W4MtZP"
      },
      "execution_count": 100,
      "outputs": []
    },
    {
      "cell_type": "code",
      "source": [
        "#training the model\n",
        "model_1=model_rnn.fit(train_dataset, epochs=5\n",
        "              , validation_data=test_dataset,callbacks=[save_model])"
      ],
      "metadata": {
        "colab": {
          "base_uri": "https://localhost:8080/"
        },
        "id": "1UGnQyggNKHJ",
        "outputId": "e69370ce-e6a7-4132-896d-62ff8f31e1f6"
      },
      "execution_count": 101,
      "outputs": [
        {
          "output_type": "stream",
          "name": "stdout",
          "text": [
            "Epoch 1/5\n",
            "500/500 [==============================] - ETA: 0s - loss: 1.4920 - accuracy: 0.4121INFO:tensorflow:Assets written to: /content/model_1/assets\n",
            "500/500 [==============================] - 71s 139ms/step - loss: 1.4920 - accuracy: 0.4121 - val_loss: 1.0990 - val_accuracy: 0.6310\n",
            "Epoch 2/5\n",
            "500/500 [==============================] - ETA: 0s - loss: 0.7004 - accuracy: 0.7678INFO:tensorflow:Assets written to: /content/model_1/assets\n",
            "500/500 [==============================] - 68s 136ms/step - loss: 0.7004 - accuracy: 0.7678 - val_loss: 0.6182 - val_accuracy: 0.7985\n",
            "Epoch 3/5\n",
            "500/500 [==============================] - ETA: 0s - loss: 0.3643 - accuracy: 0.8842INFO:tensorflow:Assets written to: /content/model_1/assets\n",
            "500/500 [==============================] - 68s 136ms/step - loss: 0.3643 - accuracy: 0.8842 - val_loss: 0.5219 - val_accuracy: 0.8400\n",
            "Epoch 4/5\n",
            "500/500 [==============================] - ETA: 0s - loss: 0.2302 - accuracy: 0.9279INFO:tensorflow:Assets written to: /content/model_1/assets\n",
            "500/500 [==============================] - 68s 136ms/step - loss: 0.2302 - accuracy: 0.9279 - val_loss: 0.5548 - val_accuracy: 0.8270\n",
            "Epoch 5/5\n",
            "500/500 [==============================] - ETA: 0s - loss: 0.1675 - accuracy: 0.9471INFO:tensorflow:Assets written to: /content/model_1/assets\n",
            "500/500 [==============================] - 67s 135ms/step - loss: 0.1675 - accuracy: 0.9471 - val_loss: 0.4861 - val_accuracy: 0.8480\n"
          ]
        }
      ]
    },
    {
      "cell_type": "markdown",
      "source": [
        "###testing and plot"
      ],
      "metadata": {
        "id": "AcIbhFPyTz7x"
      }
    },
    {
      "cell_type": "code",
      "source": [
        "from sklearn import metrics\n",
        "from tensorflow.python.eager.monitoring import Metric\n",
        "pre=np.argmax(model_rnn(x_test_padding),-1)\n",
        "micro='micro'\n",
        "print(f'acurracy:{metrics.accuracy_score(np.argmax(y_test_hot,-1),pre)}')\n",
        "print(f'precision:{metrics.precision_score(np.argmax(y_test_hot,-1),pre,average=micro)}')\n",
        "print(f'recall:{metrics.recall_score(np.argmax(y_test_hot,-1),pre,average=micro)}')\n",
        "print(f'f1_score:{metrics.f1_score(np.argmax(y_test_hot,-1),pre,average=micro)}')"
      ],
      "metadata": {
        "colab": {
          "base_uri": "https://localhost:8080/"
        },
        "id": "LFD1Gq6ga3qY",
        "outputId": "6be6b541-fcb8-4bae-84df-b8d797a84d10"
      },
      "execution_count": 140,
      "outputs": [
        {
          "output_type": "stream",
          "name": "stdout",
          "text": [
            "acurracy:0.848\n",
            "precision:0.848\n",
            "recall:0.848\n",
            "f1_score:0.848\n"
          ]
        }
      ]
    },
    {
      "cell_type": "code",
      "source": [
        "#evalution\n",
        "loss, accuracy = model_rnn.evaluate(test_dataset.repeat(), steps=9)\n",
        "print(\"Loss :\", loss)\n",
        "print(\"Accuracy :\", accuracy)"
      ],
      "metadata": {
        "colab": {
          "base_uri": "https://localhost:8080/"
        },
        "id": "pll_hegkdjDo",
        "outputId": "ee219e45-e593-48c0-b31d-1fe372248543"
      },
      "execution_count": 150,
      "outputs": [
        {
          "output_type": "stream",
          "name": "stdout",
          "text": [
            "9/9 [==============================] - 0s 25ms/step - loss: 0.5692 - accuracy: 0.8229\n",
            "Loss : 0.5691856741905212\n",
            "Accuracy : 0.8229166865348816\n"
          ]
        }
      ]
    },
    {
      "cell_type": "code",
      "source": [
        "loss = model_1.history['loss']\n",
        "val_loss = model_1.history['val_loss']\n",
        "\n",
        "plt.figure()\n",
        "plt.plot(model_1.epoch, loss, 'r', label='Training loss')\n",
        "plt.plot(model_1.epoch, val_loss, label='Validation loss')\n",
        "plt.title('Training and Validation Loss')\n",
        "plt.xlabel('Epoch')\n",
        "plt.ylabel('Loss Value')\n",
        "plt.ylim([0, 1])\n",
        "plt.legend()\n",
        "plt.show()"
      ],
      "metadata": {
        "colab": {
          "base_uri": "https://localhost:8080/",
          "height": 295
        },
        "id": "HM40zdDNeExe",
        "outputId": "8ef6aad9-3209-455c-a66e-4778ea3619b0"
      },
      "execution_count": 113,
      "outputs": [
        {
          "output_type": "display_data",
          "data": {
            "image/png": "[encoded data removed]",
            "text/plain": [
              "<Figure size 432x288 with 1 Axes>"
            ]
          },
          "metadata": {
            "needs_background": "light"
          }
        }
      ]
    },
    {
      "cell_type": "code",
      "source": [
        ""
      ],
      "metadata": {
        "id": "ISOR0YVJeW_c"
      },
      "execution_count": null,
      "outputs": []
    },
    {
      "cell_type": "markdown",
      "source": [
        "##LSTM Model"
      ],
      "metadata": {
        "id": "l4qktuEpeXZn"
      }
    },
    {
      "cell_type": "code",
      "source": [
        "model_lstm = tf.keras.Sequential([\n",
        "      tf.keras.layers.Input([max_sequence]), \n",
        "      tf.keras.layers.Embedding(vocab_size+1, 64, mask_zero=True),\n",
        "      tf.keras.layers.LSTM(128),\n",
        "      tf.keras.layers.Dense(units=6,activation='softmax'),                             \n",
        "])\n",
        "\n",
        "model_lstm.summary()"
      ],
      "metadata": {
        "colab": {
          "base_uri": "https://localhost:8080/"
        },
        "id": "qVi0R57TejSh",
        "outputId": "831db86b-b63b-4368-dab7-52b591baa0b7"
      },
      "execution_count": 114,
      "outputs": [
        {
          "output_type": "stream",
          "name": "stdout",
          "text": [
            "Model: \"sequential_6\"\n",
            "_________________________________________________________________\n",
            " Layer (type)                Output Shape              Param #   \n",
            "=================================================================\n",
            " embedding_6 (Embedding)     (None, 64, 64)            640064    \n",
            "                                                                 \n",
            " lstm (LSTM)                 (None, 128)               98816     \n",
            "                                                                 \n",
            " dense_6 (Dense)             (None, 6)                 774       \n",
            "                                                                 \n",
            "=================================================================\n",
            "Total params: 739,654\n",
            "Trainable params: 739,654\n",
            "Non-trainable params: 0\n",
            "_________________________________________________________________\n"
          ]
        }
      ]
    },
    {
      "cell_type": "code",
      "source": [
        "save_model_2=tf.keras.callbacks.ModelCheckpoint('/content/model_2',save_best_only=True,\n",
        "                                              monitor='loss')\n",
        "model_lstm.compile(optimizer='adam', loss='categorical_crossentropy', metrics=['accuracy'])"
      ],
      "metadata": {
        "id": "ais9RUEOejcv"
      },
      "execution_count": 116,
      "outputs": []
    },
    {
      "cell_type": "code",
      "source": [
        "model_2=model_lstm.fit(train_dataset, epochs=3, validation_data=test_dataset,callbacks=[save_model_2])\n"
      ],
      "metadata": {
        "colab": {
          "base_uri": "https://localhost:8080/"
        },
        "id": "f_BYILpCfnnj",
        "outputId": "99af0362-ad83-4d57-a509-a9eb6cd1ebee"
      },
      "execution_count": 117,
      "outputs": [
        {
          "output_type": "stream",
          "name": "stdout",
          "text": [
            "Epoch 1/3\n",
            "499/500 [============================>.] - ETA: 0s - loss: 1.1238 - accuracy: 0.5704"
          ]
        },
        {
          "output_type": "stream",
          "name": "stderr",
          "text": [
            "WARNING:absl:Found untraced functions such as lstm_cell_layer_call_fn, lstm_cell_layer_call_and_return_conditional_losses while saving (showing 2 of 2). These functions will not be directly callable after loading.\n"
          ]
        },
        {
          "output_type": "stream",
          "name": "stdout",
          "text": [
            "INFO:tensorflow:Assets written to: /content/model_2/assets\n"
          ]
        },
        {
          "output_type": "stream",
          "name": "stderr",
          "text": [
            "INFO:tensorflow:Assets written to: /content/model_2/assets\n",
            "WARNING:absl:<keras.layers.recurrent.LSTMCell object at 0x7fd67d2f4810> has the same name 'LSTMCell' as a built-in Keras object. Consider renaming <class 'keras.layers.recurrent.LSTMCell'> to avoid naming conflicts when loading with `tf.keras.models.load_model`. If renaming is not possible, pass the object in the `custom_objects` parameter of the load function.\n"
          ]
        },
        {
          "output_type": "stream",
          "name": "stdout",
          "text": [
            "\b\b\b\b\b\b\b\b\b\b\b\b\b\b\b\b\b\b\b\b\b\b\b\b\b\b\b\b\b\b\b\b\b\b\b\b\b\b\b\b\b\b\b\b\b\b\b\b\b\b\b\b\b\b\b\b\b\b\b\b\b\b\b\b\b\b\b\b\b\b\b\b\b\b\b\b\b\b\b\b\b\b\b\b\r500/500 [==============================] - 32s 48ms/step - loss: 1.1234 - accuracy: 0.5707 - val_loss: 0.5073 - val_accuracy: 0.8400\n",
            "Epoch 2/3\n",
            "500/500 [==============================] - ETA: 0s - loss: 0.3055 - accuracy: 0.9004"
          ]
        },
        {
          "output_type": "stream",
          "name": "stderr",
          "text": [
            "WARNING:absl:Found untraced functions such as lstm_cell_layer_call_fn, lstm_cell_layer_call_and_return_conditional_losses while saving (showing 2 of 2). These functions will not be directly callable after loading.\n"
          ]
        },
        {
          "output_type": "stream",
          "name": "stdout",
          "text": [
            "INFO:tensorflow:Assets written to: /content/model_2/assets\n"
          ]
        },
        {
          "output_type": "stream",
          "name": "stderr",
          "text": [
            "INFO:tensorflow:Assets written to: /content/model_2/assets\n",
            "WARNING:absl:<keras.layers.recurrent.LSTMCell object at 0x7fd67d2f4810> has the same name 'LSTMCell' as a built-in Keras object. Consider renaming <class 'keras.layers.recurrent.LSTMCell'> to avoid naming conflicts when loading with `tf.keras.models.load_model`. If renaming is not possible, pass the object in the `custom_objects` parameter of the load function.\n"
          ]
        },
        {
          "output_type": "stream",
          "name": "stdout",
          "text": [
            "\b\b\b\b\b\b\b\b\b\b\b\b\b\b\b\b\b\b\b\b\b\b\b\b\b\b\b\b\b\b\b\b\b\b\b\b\b\b\b\b\b\b\b\b\b\b\b\b\b\b\b\b\b\b\b\b\b\b\b\b\b\b\b\b\b\b\b\b\b\b\b\b\b\b\b\b\b\b\b\b\b\b\b\b\r500/500 [==============================] - 23s 46ms/step - loss: 0.3055 - accuracy: 0.9004 - val_loss: 0.2805 - val_accuracy: 0.9000\n",
            "Epoch 3/3\n",
            "500/500 [==============================] - ETA: 0s - loss: 0.1468 - accuracy: 0.9486"
          ]
        },
        {
          "output_type": "stream",
          "name": "stderr",
          "text": [
            "WARNING:absl:Found untraced functions such as lstm_cell_layer_call_fn, lstm_cell_layer_call_and_return_conditional_losses while saving (showing 2 of 2). These functions will not be directly callable after loading.\n"
          ]
        },
        {
          "output_type": "stream",
          "name": "stdout",
          "text": [
            "INFO:tensorflow:Assets written to: /content/model_2/assets\n"
          ]
        },
        {
          "output_type": "stream",
          "name": "stderr",
          "text": [
            "INFO:tensorflow:Assets written to: /content/model_2/assets\n",
            "WARNING:absl:<keras.layers.recurrent.LSTMCell object at 0x7fd67d2f4810> has the same name 'LSTMCell' as a built-in Keras object. Consider renaming <class 'keras.layers.recurrent.LSTMCell'> to avoid naming conflicts when loading with `tf.keras.models.load_model`. If renaming is not possible, pass the object in the `custom_objects` parameter of the load function.\n"
          ]
        },
        {
          "output_type": "stream",
          "name": "stdout",
          "text": [
            "\b\b\b\b\b\b\b\b\b\b\b\b\b\b\b\b\b\b\b\b\b\b\b\b\b\b\b\b\b\b\b\b\b\b\b\b\b\b\b\b\b\b\b\b\b\b\b\b\b\b\b\b\b\b\b\b\b\b\b\b\b\b\b\b\b\b\b\b\b\b\b\b\b\b\b\b\b\b\b\b\b\b\b\b\r500/500 [==============================] - 24s 48ms/step - loss: 0.1468 - accuracy: 0.9486 - val_loss: 0.2335 - val_accuracy: 0.9205\n"
          ]
        }
      ]
    },
    {
      "cell_type": "markdown",
      "source": [
        "###testing\n"
      ],
      "metadata": {
        "id": "j5EEAOIdgzNU"
      }
    },
    {
      "cell_type": "code",
      "source": [
        "pre=np.argmax(model_lstm(x_test_padding),-1)\n",
        "micro='micro'\n",
        "print(f'acurracy:{metrics.accuracy_score(np.argmax(y_test_hot,-1),pre)}')\n",
        "print(f'precision:{metrics.precision_score(np.argmax(y_test_hot,-1),pre,average=micro)}')\n",
        "print(f'recall:{metrics.recall_score(np.argmax(y_test_hot,-1),pre,average=micro)}')\n",
        "print(f'f1_score:{metrics.f1_score(np.argmax(y_test_hot,-1),pre,average=micro)}')"
      ],
      "metadata": {
        "colab": {
          "base_uri": "https://localhost:8080/"
        },
        "id": "lkxNZvMIg3gf",
        "outputId": "115f1662-2728-4843-e524-8db56f1c764c"
      },
      "execution_count": 119,
      "outputs": [
        {
          "output_type": "stream",
          "name": "stdout",
          "text": [
            "acurracy:0.9205\n",
            "precision:0.9205\n",
            "recall:0.9205\n",
            "f1_score:0.9205\n"
          ]
        }
      ]
    },
    {
      "cell_type": "code",
      "source": [
        "#evalution\n",
        "loss, accuracy = model_lstm.evaluate(test_dataset.repeat(), steps=9)\n",
        "print(\"Loss :\", loss)\n",
        "print(\"Accuracy :\", accuracy)"
      ],
      "metadata": {
        "colab": {
          "base_uri": "https://localhost:8080/"
        },
        "id": "1kcpc3V0hKyx",
        "outputId": "57554bef-2d06-49e0-ec29-db9af15ba478"
      },
      "execution_count": 151,
      "outputs": [
        {
          "output_type": "stream",
          "name": "stdout",
          "text": [
            "9/9 [==============================] - 0s 11ms/step - loss: 0.2347 - accuracy: 0.9236\n",
            "Loss : 0.23466525971889496\n",
            "Accuracy : 0.9236111044883728\n"
          ]
        }
      ]
    },
    {
      "cell_type": "code",
      "source": [
        "loss = model_2.history['loss']\n",
        "val_loss = model_2.history['val_loss']\n",
        "\n",
        "plt.figure()\n",
        "plt.plot(model_2.epoch, loss, 'r', label='Training loss')\n",
        "plt.plot(model_2.epoch, val_loss, label='Validation loss')\n",
        "plt.title('Training and Validation Loss')\n",
        "plt.xlabel('Epoch')\n",
        "plt.ylabel('Loss Value')\n",
        "plt.ylim([0, 1])\n",
        "plt.legend()\n",
        "plt.show()"
      ],
      "metadata": {
        "colab": {
          "base_uri": "https://localhost:8080/",
          "height": 295
        },
        "id": "g9pBdMLAhSk4",
        "outputId": "99cd5485-13a8-452c-cb7a-f37535f5a0a7"
      },
      "execution_count": 121,
      "outputs": [
        {
          "output_type": "display_data",
          "data": {
            "image/png": "[encoded data removed]",
            "text/plain": [
              "<Figure size 432x288 with 1 Axes>"
            ]
          },
          "metadata": {
            "needs_background": "light"
          }
        }
      ]
    },
    {
      "cell_type": "markdown",
      "source": [
        "##GRU Model\n"
      ],
      "metadata": {
        "id": "-HasyhMShg9j"
      }
    },
    {
      "cell_type": "code",
      "source": [
        "model_gru = tf.keras.Sequential([\n",
        "      tf.keras.layers.Input([max_sequence]), \n",
        "      tf.keras.layers.Embedding(vocab_size+1, 64, mask_zero=True), \n",
        "      tf.keras.layers.GRU(128,return_sequences=True),\n",
        "      tf.keras.layers.GRU(128),\n",
        "      tf.keras.layers.Dense(units=6,activation='softmax'),                             \n",
        "])\n",
        "\n",
        "model_gru.summary()"
      ],
      "metadata": {
        "colab": {
          "base_uri": "https://localhost:8080/"
        },
        "id": "1gMI8csphkcf",
        "outputId": "3a513477-6712-4615-85c7-6e014e8b247f"
      },
      "execution_count": 126,
      "outputs": [
        {
          "output_type": "stream",
          "name": "stdout",
          "text": [
            "Model: \"sequential_8\"\n",
            "_________________________________________________________________\n",
            " Layer (type)                Output Shape              Param #   \n",
            "=================================================================\n",
            " embedding_8 (Embedding)     (None, 64, 64)            640064    \n",
            "                                                                 \n",
            " gru_1 (GRU)                 (None, 64, 128)           74496     \n",
            "                                                                 \n",
            " gru_2 (GRU)                 (None, 128)               99072     \n",
            "                                                                 \n",
            " dense_8 (Dense)             (None, 6)                 774       \n",
            "                                                                 \n",
            "=================================================================\n",
            "Total params: 814,406\n",
            "Trainable params: 814,406\n",
            "Non-trainable params: 0\n",
            "_________________________________________________________________\n"
          ]
        }
      ]
    },
    {
      "cell_type": "code",
      "source": [
        "save_model_3=tf.keras.callbacks.ModelCheckpoint('/content/mode_3',save_best_only=True,\n",
        "                                              monitor='loss')\n",
        "model_gru.compile(optimizer='adam', loss='categorical_crossentropy', metrics=['accuracy'])"
      ],
      "metadata": {
        "id": "TOzxu2r6iDk5"
      },
      "execution_count": 127,
      "outputs": []
    },
    {
      "cell_type": "code",
      "source": [
        "model_3=model_gru.fit(train_dataset, epochs=3, validation_data=test_dataset,callbacks=[save_model_3])"
      ],
      "metadata": {
        "colab": {
          "base_uri": "https://localhost:8080/"
        },
        "id": "1WaJoxrJidKo",
        "outputId": "a0476c67-f93c-40ac-ef46-5b776f467603"
      },
      "execution_count": 128,
      "outputs": [
        {
          "output_type": "stream",
          "name": "stdout",
          "text": [
            "Epoch 1/3\n",
            "499/500 [============================>.] - ETA: 0s - loss: 0.8628 - accuracy: 0.6774"
          ]
        },
        {
          "output_type": "stream",
          "name": "stderr",
          "text": [
            "WARNING:absl:Found untraced functions such as gru_cell_1_layer_call_fn, gru_cell_1_layer_call_and_return_conditional_losses, gru_cell_2_layer_call_fn, gru_cell_2_layer_call_and_return_conditional_losses while saving (showing 4 of 4). These functions will not be directly callable after loading.\n"
          ]
        },
        {
          "output_type": "stream",
          "name": "stdout",
          "text": [
            "INFO:tensorflow:Assets written to: /content/mode_3/assets\n"
          ]
        },
        {
          "output_type": "stream",
          "name": "stderr",
          "text": [
            "INFO:tensorflow:Assets written to: /content/mode_3/assets\n",
            "WARNING:absl:<keras.layers.recurrent.GRUCell object at 0x7fd706a96750> has the same name 'GRUCell' as a built-in Keras object. Consider renaming <class 'keras.layers.recurrent.GRUCell'> to avoid naming conflicts when loading with `tf.keras.models.load_model`. If renaming is not possible, pass the object in the `custom_objects` parameter of the load function.\n",
            "WARNING:absl:<keras.layers.recurrent.GRUCell object at 0x7fd700254810> has the same name 'GRUCell' as a built-in Keras object. Consider renaming <class 'keras.layers.recurrent.GRUCell'> to avoid naming conflicts when loading with `tf.keras.models.load_model`. If renaming is not possible, pass the object in the `custom_objects` parameter of the load function.\n"
          ]
        },
        {
          "output_type": "stream",
          "name": "stdout",
          "text": [
            "\b\b\b\b\b\b\b\b\b\b\b\b\b\b\b\b\b\b\b\b\b\b\b\b\b\b\b\b\b\b\b\b\b\b\b\b\b\b\b\b\b\b\b\b\b\b\b\b\b\b\b\b\b\b\b\b\b\b\b\b\b\b\b\b\b\b\b\b\b\b\b\b\b\b\b\b\b\b\b\b\b\b\b\b\r500/500 [==============================] - 70s 121ms/step - loss: 0.8613 - accuracy: 0.6779 - val_loss: 0.2588 - val_accuracy: 0.9050\n",
            "Epoch 2/3\n",
            "499/500 [============================>.] - ETA: 0s - loss: 0.1610 - accuracy: 0.9336"
          ]
        },
        {
          "output_type": "stream",
          "name": "stderr",
          "text": [
            "WARNING:absl:Found untraced functions such as gru_cell_1_layer_call_fn, gru_cell_1_layer_call_and_return_conditional_losses, gru_cell_2_layer_call_fn, gru_cell_2_layer_call_and_return_conditional_losses while saving (showing 4 of 4). These functions will not be directly callable after loading.\n"
          ]
        },
        {
          "output_type": "stream",
          "name": "stdout",
          "text": [
            "INFO:tensorflow:Assets written to: /content/mode_3/assets\n"
          ]
        },
        {
          "output_type": "stream",
          "name": "stderr",
          "text": [
            "INFO:tensorflow:Assets written to: /content/mode_3/assets\n",
            "WARNING:absl:<keras.layers.recurrent.GRUCell object at 0x7fd706a96750> has the same name 'GRUCell' as a built-in Keras object. Consider renaming <class 'keras.layers.recurrent.GRUCell'> to avoid naming conflicts when loading with `tf.keras.models.load_model`. If renaming is not possible, pass the object in the `custom_objects` parameter of the load function.\n",
            "WARNING:absl:<keras.layers.recurrent.GRUCell object at 0x7fd700254810> has the same name 'GRUCell' as a built-in Keras object. Consider renaming <class 'keras.layers.recurrent.GRUCell'> to avoid naming conflicts when loading with `tf.keras.models.load_model`. If renaming is not possible, pass the object in the `custom_objects` parameter of the load function.\n"
          ]
        },
        {
          "output_type": "stream",
          "name": "stdout",
          "text": [
            "\b\b\b\b\b\b\b\b\b\b\b\b\b\b\b\b\b\b\b\b\b\b\b\b\b\b\b\b\b\b\b\b\b\b\b\b\b\b\b\b\b\b\b\b\b\b\b\b\b\b\b\b\b\b\b\b\b\b\b\b\b\b\b\b\b\b\b\b\b\b\b\b\b\b\b\b\b\b\b\b\b\b\b\b\r500/500 [==============================] - 40s 80ms/step - loss: 0.1609 - accuracy: 0.9336 - val_loss: 0.1851 - val_accuracy: 0.9250\n",
            "Epoch 3/3\n",
            "499/500 [============================>.] - ETA: 0s - loss: 0.1021 - accuracy: 0.9543"
          ]
        },
        {
          "output_type": "stream",
          "name": "stderr",
          "text": [
            "WARNING:absl:Found untraced functions such as gru_cell_1_layer_call_fn, gru_cell_1_layer_call_and_return_conditional_losses, gru_cell_2_layer_call_fn, gru_cell_2_layer_call_and_return_conditional_losses while saving (showing 4 of 4). These functions will not be directly callable after loading.\n"
          ]
        },
        {
          "output_type": "stream",
          "name": "stdout",
          "text": [
            "INFO:tensorflow:Assets written to: /content/mode_3/assets\n"
          ]
        },
        {
          "output_type": "stream",
          "name": "stderr",
          "text": [
            "INFO:tensorflow:Assets written to: /content/mode_3/assets\n",
            "WARNING:absl:<keras.layers.recurrent.GRUCell object at 0x7fd706a96750> has the same name 'GRUCell' as a built-in Keras object. Consider renaming <class 'keras.layers.recurrent.GRUCell'> to avoid naming conflicts when loading with `tf.keras.models.load_model`. If renaming is not possible, pass the object in the `custom_objects` parameter of the load function.\n",
            "WARNING:absl:<keras.layers.recurrent.GRUCell object at 0x7fd700254810> has the same name 'GRUCell' as a built-in Keras object. Consider renaming <class 'keras.layers.recurrent.GRUCell'> to avoid naming conflicts when loading with `tf.keras.models.load_model`. If renaming is not possible, pass the object in the `custom_objects` parameter of the load function.\n"
          ]
        },
        {
          "output_type": "stream",
          "name": "stdout",
          "text": [
            "\b\b\b\b\b\b\b\b\b\b\b\b\b\b\b\b\b\b\b\b\b\b\b\b\b\b\b\b\b\b\b\b\b\b\b\b\b\b\b\b\b\b\b\b\b\b\b\b\b\b\b\b\b\b\b\b\b\b\b\b\b\b\b\b\b\b\b\b\b\b\b\b\b\b\b\b\b\b\b\b\b\b\b\b\r500/500 [==============================] - 40s 79ms/step - loss: 0.1023 - accuracy: 0.9542 - val_loss: 0.2228 - val_accuracy: 0.9160\n"
          ]
        }
      ]
    },
    {
      "cell_type": "code",
      "source": [
        "#evalution\n",
        "loss, accuracy = model_gru.evaluate(test_dataset.repeat(), steps=9)\n",
        "print(\"Loss :\", loss)\n",
        "print(\"Accuracy :\", accuracy)"
      ],
      "metadata": {
        "colab": {
          "base_uri": "https://localhost:8080/"
        },
        "id": "R38LGH1ajKvS",
        "outputId": "1a54e29f-462f-4783-969e-747c0464106a"
      },
      "execution_count": 152,
      "outputs": [
        {
          "output_type": "stream",
          "name": "stdout",
          "text": [
            "9/9 [==============================] - 0s 16ms/step - loss: 0.2078 - accuracy: 0.9201\n",
            "Loss : 0.20778049528598785\n",
            "Accuracy : 0.9201388955116272\n"
          ]
        }
      ]
    },
    {
      "cell_type": "code",
      "source": [
        "pre=np.argmax(model_gru(x_test_padding),-1)\n",
        "micro='micro'\n",
        "print(f'acurracy:{metrics.accuracy_score(np.argmax(y_test_hot,-1),pre)}')\n",
        "print(f'precision:{metrics.precision_score(np.argmax(y_test_hot,-1),pre,average=micro)}')\n",
        "print(f'recall:{metrics.recall_score(np.argmax(y_test_hot,-1),pre,average=micro)}')\n",
        "print(f'f1_score:{metrics.f1_score(np.argmax(y_test_hot,-1),pre,average=micro)}')"
      ],
      "metadata": {
        "colab": {
          "base_uri": "https://localhost:8080/"
        },
        "id": "EftPBYuh3m0-",
        "outputId": "8af27a8f-ebd4-4d35-e3ce-5112081619bf"
      },
      "execution_count": 153,
      "outputs": [
        {
          "output_type": "stream",
          "name": "stdout",
          "text": [
            "acurracy:0.916\n",
            "precision:0.916\n",
            "recall:0.916\n",
            "f1_score:0.916\n"
          ]
        }
      ]
    },
    {
      "cell_type": "code",
      "source": [
        "loss = model_3.history['loss']\n",
        "val_loss = model_3.history['val_loss']\n",
        "\n",
        "plt.figure()\n",
        "plt.plot(model_3.epoch, loss, 'r', label='Training loss')\n",
        "plt.plot(model_3.epoch, val_loss, label='Validation loss')\n",
        "plt.title('Training and Validation Loss')\n",
        "plt.xlabel('Epoch')\n",
        "plt.ylabel('Loss Value')\n",
        "plt.ylim([0, 1])\n",
        "plt.legend()\n",
        "plt.show()"
      ],
      "metadata": {
        "colab": {
          "base_uri": "https://localhost:8080/",
          "height": 295
        },
        "id": "tmM9nzM0kHMI",
        "outputId": "102aee88-d50a-4df3-c4c5-fb93c6c91814"
      },
      "execution_count": 130,
      "outputs": [
        {
          "output_type": "display_data",
          "data": {
            "image/png": "[encoded data removed]",
            "text/plain": [
              "<Figure size 432x288 with 1 Axes>"
            ]
          },
          "metadata": {
            "needs_background": "light"
          }
        }
      ]
    },
    {
      "cell_type": "markdown",
      "source": [
        "##DNN with Embedding Layers"
      ],
      "metadata": {
        "id": "PvqJEjsDsw_1"
      }
    },
    {
      "cell_type": "code",
      "source": [
        "model_dnn_with_embeddings = tf.keras.Sequential([\n",
        "      tf.keras.layers.Input([max_sequence]), \n",
        "      tf.keras.layers.Embedding(vocab_size+1, 64, mask_zero=True), \n",
        "      tf.keras.layers.Flatten(),\n",
        "      tf.keras.layers.Dense(units=128, activation='relu'),\n",
        "      tf.keras.layers.Dropout(0.3),\n",
        "      tf.keras.layers.Dense(units=6,activation='softmax'),\n",
        "])\n",
        "\n",
        "model_dnn_with_embeddings.summary()"
      ],
      "metadata": {
        "colab": {
          "base_uri": "https://localhost:8080/"
        },
        "id": "AyVaR5ZHs7u3",
        "outputId": "e83fa1db-5b37-4c9e-a31a-49e427503ee5"
      },
      "execution_count": 137,
      "outputs": [
        {
          "output_type": "stream",
          "name": "stdout",
          "text": [
            "Model: \"sequential_10\"\n",
            "_________________________________________________________________\n",
            " Layer (type)                Output Shape              Param #   \n",
            "=================================================================\n",
            " embedding_10 (Embedding)    (None, 64, 64)            640064    \n",
            "                                                                 \n",
            " flatten (Flatten)           (None, 4096)              0         \n",
            "                                                                 \n",
            " dense_11 (Dense)            (None, 128)               524416    \n",
            "                                                                 \n",
            " dropout_1 (Dropout)         (None, 128)               0         \n",
            "                                                                 \n",
            " dense_12 (Dense)            (None, 6)                 774       \n",
            "                                                                 \n",
            "=================================================================\n",
            "Total params: 1,165,254\n",
            "Trainable params: 1,165,254\n",
            "Non-trainable params: 0\n",
            "_________________________________________________________________\n"
          ]
        }
      ]
    },
    {
      "cell_type": "code",
      "source": [
        "save_model_4=tf.keras.callbacks.ModelCheckpoint('/content/model_4',save_best_only=True,\n",
        "                                              monitor='loss')\n",
        "model_dnn_with_embeddings.compile(optimizer='adam', loss='categorical_crossentropy', metrics=['accuracy'])"
      ],
      "metadata": {
        "id": "sBA-aLwhtNey"
      },
      "execution_count": 138,
      "outputs": []
    },
    {
      "cell_type": "code",
      "source": [
        "model_4=model_dnn_with_embeddings.fit(train_dataset, epochs=5, validation_data=test_dataset,callbacks=[save_model_4])"
      ],
      "metadata": {
        "colab": {
          "base_uri": "https://localhost:8080/"
        },
        "id": "XmsCKZEetfGq",
        "outputId": "714ab852-bf28-492b-daec-908e7028a127"
      },
      "execution_count": 139,
      "outputs": [
        {
          "output_type": "stream",
          "name": "stdout",
          "text": [
            "Epoch 1/5\n",
            "495/500 [============================>.] - ETA: 0s - loss: 1.2920 - accuracy: 0.5105INFO:tensorflow:Assets written to: /content/model_4/assets\n"
          ]
        },
        {
          "output_type": "stream",
          "name": "stderr",
          "text": [
            "INFO:tensorflow:Assets written to: /content/model_4/assets\n"
          ]
        },
        {
          "output_type": "stream",
          "name": "stdout",
          "text": [
            "\b\b\b\b\b\b\b\b\b\b\b\b\b\b\b\b\b\b\b\b\b\b\b\b\b\b\b\b\b\b\b\b\b\b\b\b\b\b\b\b\b\b\b\b\b\b\b\b\b\b\b\b\b\b\b\b\b\b\b\b\b\b\b\b\b\b\b\b\b\b\b\b\b\b\b\b\b\b\b\b\b\b\b\b\r500/500 [==============================] - 5s 8ms/step - loss: 1.2862 - accuracy: 0.5133 - val_loss: 0.7065 - val_accuracy: 0.7875\n",
            "Epoch 2/5\n",
            "496/500 [============================>.] - ETA: 0s - loss: 0.3713 - accuracy: 0.8777INFO:tensorflow:Assets written to: /content/model_4/assets\n"
          ]
        },
        {
          "output_type": "stream",
          "name": "stderr",
          "text": [
            "INFO:tensorflow:Assets written to: /content/model_4/assets\n"
          ]
        },
        {
          "output_type": "stream",
          "name": "stdout",
          "text": [
            "\b\b\b\b\b\b\b\b\b\b\b\b\b\b\b\b\b\b\b\b\b\b\b\b\b\b\b\b\b\b\b\b\b\b\b\b\b\b\b\b\b\b\b\b\b\b\b\b\b\b\b\b\b\b\b\b\b\b\b\b\b\b\b\b\b\b\b\b\b\b\b\b\b\b\b\b\b\b\b\b\b\b\b\b\r500/500 [==============================] - 4s 7ms/step - loss: 0.3703 - accuracy: 0.8781 - val_loss: 0.4316 - val_accuracy: 0.8585\n",
            "Epoch 3/5\n",
            "495/500 [============================>.] - ETA: 0s - loss: 0.1033 - accuracy: 0.9695INFO:tensorflow:Assets written to: /content/model_4/assets\n"
          ]
        },
        {
          "output_type": "stream",
          "name": "stderr",
          "text": [
            "INFO:tensorflow:Assets written to: /content/model_4/assets\n"
          ]
        },
        {
          "output_type": "stream",
          "name": "stdout",
          "text": [
            "\b\b\b\b\b\b\b\b\b\b\b\b\b\b\b\b\b\b\b\b\b\b\b\b\b\b\b\b\b\b\b\b\b\b\b\b\b\b\b\b\b\b\b\b\b\b\b\b\b\b\b\b\b\b\b\b\b\b\b\b\b\b\b\b\b\b\b\b\b\b\b\b\b\b\b\b\b\b\b\b\b\b\b\b\r500/500 [==============================] - 4s 8ms/step - loss: 0.1027 - accuracy: 0.9697 - val_loss: 0.4654 - val_accuracy: 0.8585\n",
            "Epoch 4/5\n",
            "493/500 [============================>.] - ETA: 0s - loss: 0.0460 - accuracy: 0.9883INFO:tensorflow:Assets written to: /content/model_4/assets\n"
          ]
        },
        {
          "output_type": "stream",
          "name": "stderr",
          "text": [
            "INFO:tensorflow:Assets written to: /content/model_4/assets\n"
          ]
        },
        {
          "output_type": "stream",
          "name": "stdout",
          "text": [
            "\b\b\b\b\b\b\b\b\b\b\b\b\b\b\b\b\b\b\b\b\b\b\b\b\b\b\b\b\b\b\b\b\b\b\b\b\b\b\b\b\b\b\b\b\b\b\b\b\b\b\b\b\b\b\b\b\b\b\b\b\b\b\b\b\b\b\b\b\b\b\b\b\b\b\b\b\b\b\b\b\b\b\b\b\r500/500 [==============================] - 4s 8ms/step - loss: 0.0461 - accuracy: 0.9883 - val_loss: 0.5137 - val_accuracy: 0.8530\n",
            "Epoch 5/5\n",
            "492/500 [============================>.] - ETA: 0s - loss: 0.0335 - accuracy: 0.9914INFO:tensorflow:Assets written to: /content/model_4/assets\n"
          ]
        },
        {
          "output_type": "stream",
          "name": "stderr",
          "text": [
            "INFO:tensorflow:Assets written to: /content/model_4/assets\n"
          ]
        },
        {
          "output_type": "stream",
          "name": "stdout",
          "text": [
            "\b\b\b\b\b\b\b\b\b\b\b\b\b\b\b\b\b\b\b\b\b\b\b\b\b\b\b\b\b\b\b\b\b\b\b\b\b\b\b\b\b\b\b\b\b\b\b\b\b\b\b\b\b\b\b\b\b\b\b\b\b\b\b\b\b\b\b\b\b\b\b\b\b\b\b\b\b\b\b\b\b\b\b\b\r500/500 [==============================] - 4s 8ms/step - loss: 0.0333 - accuracy: 0.9914 - val_loss: 0.5291 - val_accuracy: 0.8525\n"
          ]
        }
      ]
    },
    {
      "cell_type": "markdown",
      "source": [
        "###testing\n"
      ],
      "metadata": {
        "id": "qHV6Qg-BuYzh"
      }
    },
    {
      "cell_type": "code",
      "source": [
        "pre=np.argmax(model_dnn_with_embeddings(x_test_padding),-1)\n",
        "micro='micro'\n",
        "print(f'acurracy:{metrics.accuracy_score(np.argmax(y_test_hot,-1),pre)}')\n",
        "print(f'precision:{metrics.precision_score(np.argmax(y_test_hot,-1),pre,average=micro)}')\n",
        "print(f'recall:{metrics.recall_score(np.argmax(y_test_hot,-1),pre,average=micro)}')\n",
        "print(f'f1_score:{metrics.f1_score(np.argmax(y_test_hot,-1),pre,average=micro)}')"
      ],
      "metadata": {
        "colab": {
          "base_uri": "https://localhost:8080/"
        },
        "id": "NcKUTXKsucgz",
        "outputId": "17dde38a-5d26-4734-8cb1-68980b5a8719"
      },
      "execution_count": 141,
      "outputs": [
        {
          "output_type": "stream",
          "name": "stdout",
          "text": [
            "acurracy:0.8525\n",
            "precision:0.8525\n",
            "recall:0.8525\n",
            "f1_score:0.8525\n"
          ]
        }
      ]
    },
    {
      "cell_type": "code",
      "source": [
        "#evalution\n",
        "loss, accuracy = model_dnn_with_embeddings.evaluate(test_dataset.repeat(), steps=9)\n",
        "print(\"Loss :\", loss)\n",
        "print(\"Accuracy :\", accuracy)"
      ],
      "metadata": {
        "colab": {
          "base_uri": "https://localhost:8080/"
        },
        "id": "JSiMHrPdukYP",
        "outputId": "7354d51b-fd39-459e-8645-1a89dbe51664"
      },
      "execution_count": 154,
      "outputs": [
        {
          "output_type": "stream",
          "name": "stdout",
          "text": [
            "9/9 [==============================] - 0s 4ms/step - loss: 0.6020 - accuracy: 0.8542\n",
            "Loss : 0.6020017266273499\n",
            "Accuracy : 0.8541666865348816\n"
          ]
        }
      ]
    },
    {
      "cell_type": "code",
      "source": [
        "loss = model_4.history['loss']\n",
        "val_loss = model_4.history['val_loss']\n",
        "\n",
        "plt.figure()\n",
        "plt.plot(model_4.epoch, loss, 'r', label='Training loss')\n",
        "plt.plot(model_4.epoch, val_loss, label='Validation loss')\n",
        "plt.title('Training and Validation Loss')\n",
        "plt.xlabel('Epoch')\n",
        "plt.ylabel('Loss Value')\n",
        "plt.ylim([0, 1])\n",
        "plt.legend()\n",
        "plt.show()"
      ],
      "metadata": {
        "colab": {
          "base_uri": "https://localhost:8080/",
          "height": 295
        },
        "id": "_ZrSXrk4uuGa",
        "outputId": "4ac36183-5ba1-423b-c366-7120965344d0"
      },
      "execution_count": 143,
      "outputs": [
        {
          "output_type": "display_data",
          "data": {
            "image/png": "[encoded data removed]",
            "text/plain": [
              "<Figure size 432x288 with 1 Axes>"
            ]
          },
          "metadata": {
            "needs_background": "light"
          }
        }
      ]
    },
    {
      "cell_type": "markdown",
      "source": [
        "##Bidirectional LSTM Model"
      ],
      "metadata": {
        "id": "8X7IY6a4u8FP"
      }
    },
    {
      "cell_type": "code",
      "source": [
        "model__bidir_gru = tf.keras.Sequential([\n",
        "      tf.keras.layers.Input([max_sequence]), \n",
        "      tf.keras.layers.Embedding(vocab_size+1, 64, mask_zero=True), \n",
        "      tf.keras.layers.Bidirectional(tf.keras.layers.GRU(units=64, return_sequences=True)),\n",
        "      tf.keras.layers.Bidirectional(tf.keras.layers.GRU(128)),\n",
        "      tf.keras.layers.Dense(units=6,activation='softmax'),                             \n",
        "])\n",
        "\n",
        "model__bidir_gru.summary()"
      ],
      "metadata": {
        "colab": {
          "base_uri": "https://localhost:8080/"
        },
        "id": "6cP101a2vBlb",
        "outputId": "ee7868ed-e3db-44f4-ad1d-891c88ede122"
      },
      "execution_count": 144,
      "outputs": [
        {
          "output_type": "stream",
          "name": "stdout",
          "text": [
            "Model: \"sequential_11\"\n",
            "_________________________________________________________________\n",
            " Layer (type)                Output Shape              Param #   \n",
            "=================================================================\n",
            " embedding_11 (Embedding)    (None, 64, 64)            640064    \n",
            "                                                                 \n",
            " bidirectional (Bidirectiona  (None, 64, 128)          49920     \n",
            " l)                                                              \n",
            "                                                                 \n",
            " bidirectional_1 (Bidirectio  (None, 256)              198144    \n",
            " nal)                                                            \n",
            "                                                                 \n",
            " dense_13 (Dense)            (None, 6)                 1542      \n",
            "                                                                 \n",
            "=================================================================\n",
            "Total params: 889,670\n",
            "Trainable params: 889,670\n",
            "Non-trainable params: 0\n",
            "_________________________________________________________________\n"
          ]
        }
      ]
    },
    {
      "cell_type": "code",
      "source": [
        "save_model_5=tf.keras.callbacks.ModelCheckpoint('/content/model_5',save_best_only=True,\n",
        "                                              monitor='loss')\n",
        "model__bidir_gru.compile(optimizer='adam', loss='categorical_crossentropy', metrics=['accuracy'])"
      ],
      "metadata": {
        "id": "DT9f6ALKymfx"
      },
      "execution_count": 145,
      "outputs": []
    },
    {
      "cell_type": "code",
      "source": [
        "model_5=model__bidir_gru.fit(train_dataset, epochs=3, validation_data=test_dataset,callbacks=[save_model_5])"
      ],
      "metadata": {
        "colab": {
          "base_uri": "https://localhost:8080/"
        },
        "id": "fPSTgcDOymqV",
        "outputId": "7b265a52-aed0-47ac-9858-b83f094f5024"
      },
      "execution_count": 146,
      "outputs": [
        {
          "output_type": "stream",
          "name": "stdout",
          "text": [
            "Epoch 1/3\n",
            "500/500 [==============================] - ETA: 0s - loss: 0.8588 - accuracy: 0.6761"
          ]
        },
        {
          "output_type": "stream",
          "name": "stderr",
          "text": [
            "WARNING:absl:Found untraced functions such as gru_cell_4_layer_call_fn, gru_cell_4_layer_call_and_return_conditional_losses, gru_cell_5_layer_call_fn, gru_cell_5_layer_call_and_return_conditional_losses, gru_cell_7_layer_call_fn while saving (showing 5 of 8). These functions will not be directly callable after loading.\n"
          ]
        },
        {
          "output_type": "stream",
          "name": "stdout",
          "text": [
            "INFO:tensorflow:Assets written to: /content/model_5/assets\n"
          ]
        },
        {
          "output_type": "stream",
          "name": "stderr",
          "text": [
            "INFO:tensorflow:Assets written to: /content/model_5/assets\n",
            "WARNING:absl:<keras.layers.recurrent.GRUCell object at 0x7fd685e20190> has the same name 'GRUCell' as a built-in Keras object. Consider renaming <class 'keras.layers.recurrent.GRUCell'> to avoid naming conflicts when loading with `tf.keras.models.load_model`. If renaming is not possible, pass the object in the `custom_objects` parameter of the load function.\n",
            "WARNING:absl:<keras.layers.recurrent.GRUCell object at 0x7fd685f806d0> has the same name 'GRUCell' as a built-in Keras object. Consider renaming <class 'keras.layers.recurrent.GRUCell'> to avoid naming conflicts when loading with `tf.keras.models.load_model`. If renaming is not possible, pass the object in the `custom_objects` parameter of the load function.\n",
            "WARNING:absl:<keras.layers.recurrent.GRUCell object at 0x7fd686081310> has the same name 'GRUCell' as a built-in Keras object. Consider renaming <class 'keras.layers.recurrent.GRUCell'> to avoid naming conflicts when loading with `tf.keras.models.load_model`. If renaming is not possible, pass the object in the `custom_objects` parameter of the load function.\n",
            "WARNING:absl:<keras.layers.recurrent.GRUCell object at 0x7fd686020750> has the same name 'GRUCell' as a built-in Keras object. Consider renaming <class 'keras.layers.recurrent.GRUCell'> to avoid naming conflicts when loading with `tf.keras.models.load_model`. If renaming is not possible, pass the object in the `custom_objects` parameter of the load function.\n"
          ]
        },
        {
          "output_type": "stream",
          "name": "stdout",
          "text": [
            "\b\b\b\b\b\b\b\b\b\b\b\b\b\b\b\b\b\b\b\b\b\b\b\b\b\b\b\b\b\b\b\b\b\b\b\b\b\b\b\b\b\b\b\b\b\b\b\b\b\b\b\b\b\b\b\b\b\b\b\b\b\b\b\b\b\b\b\b\b\b\b\b\b\b\b\b\b\b\b\b\b\b\b\b\r500/500 [==============================] - 141s 235ms/step - loss: 0.8588 - accuracy: 0.6761 - val_loss: 0.2660 - val_accuracy: 0.8995\n",
            "Epoch 2/3\n",
            "500/500 [==============================] - ETA: 0s - loss: 0.1703 - accuracy: 0.9326"
          ]
        },
        {
          "output_type": "stream",
          "name": "stderr",
          "text": [
            "WARNING:absl:Found untraced functions such as gru_cell_4_layer_call_fn, gru_cell_4_layer_call_and_return_conditional_losses, gru_cell_5_layer_call_fn, gru_cell_5_layer_call_and_return_conditional_losses, gru_cell_7_layer_call_fn while saving (showing 5 of 8). These functions will not be directly callable after loading.\n"
          ]
        },
        {
          "output_type": "stream",
          "name": "stdout",
          "text": [
            "INFO:tensorflow:Assets written to: /content/model_5/assets\n"
          ]
        },
        {
          "output_type": "stream",
          "name": "stderr",
          "text": [
            "INFO:tensorflow:Assets written to: /content/model_5/assets\n",
            "WARNING:absl:<keras.layers.recurrent.GRUCell object at 0x7fd685e20190> has the same name 'GRUCell' as a built-in Keras object. Consider renaming <class 'keras.layers.recurrent.GRUCell'> to avoid naming conflicts when loading with `tf.keras.models.load_model`. If renaming is not possible, pass the object in the `custom_objects` parameter of the load function.\n",
            "WARNING:absl:<keras.layers.recurrent.GRUCell object at 0x7fd685f806d0> has the same name 'GRUCell' as a built-in Keras object. Consider renaming <class 'keras.layers.recurrent.GRUCell'> to avoid naming conflicts when loading with `tf.keras.models.load_model`. If renaming is not possible, pass the object in the `custom_objects` parameter of the load function.\n",
            "WARNING:absl:<keras.layers.recurrent.GRUCell object at 0x7fd686081310> has the same name 'GRUCell' as a built-in Keras object. Consider renaming <class 'keras.layers.recurrent.GRUCell'> to avoid naming conflicts when loading with `tf.keras.models.load_model`. If renaming is not possible, pass the object in the `custom_objects` parameter of the load function.\n",
            "WARNING:absl:<keras.layers.recurrent.GRUCell object at 0x7fd686020750> has the same name 'GRUCell' as a built-in Keras object. Consider renaming <class 'keras.layers.recurrent.GRUCell'> to avoid naming conflicts when loading with `tf.keras.models.load_model`. If renaming is not possible, pass the object in the `custom_objects` parameter of the load function.\n"
          ]
        },
        {
          "output_type": "stream",
          "name": "stdout",
          "text": [
            "\b\b\b\b\b\b\b\b\b\b\b\b\b\b\b\b\b\b\b\b\b\b\b\b\b\b\b\b\b\b\b\b\b\b\b\b\b\b\b\b\b\b\b\b\b\b\b\b\b\b\b\b\b\b\b\b\b\b\b\b\b\b\b\b\b\b\b\b\b\b\b\b\b\b\b\b\b\b\b\b\b\b\b\b\r500/500 [==============================] - 86s 173ms/step - loss: 0.1703 - accuracy: 0.9326 - val_loss: 0.1821 - val_accuracy: 0.9190\n",
            "Epoch 3/3\n",
            "500/500 [==============================] - ETA: 0s - loss: 0.0991 - accuracy: 0.9595"
          ]
        },
        {
          "output_type": "stream",
          "name": "stderr",
          "text": [
            "WARNING:absl:Found untraced functions such as gru_cell_4_layer_call_fn, gru_cell_4_layer_call_and_return_conditional_losses, gru_cell_5_layer_call_fn, gru_cell_5_layer_call_and_return_conditional_losses, gru_cell_7_layer_call_fn while saving (showing 5 of 8). These functions will not be directly callable after loading.\n"
          ]
        },
        {
          "output_type": "stream",
          "name": "stdout",
          "text": [
            "INFO:tensorflow:Assets written to: /content/model_5/assets\n"
          ]
        },
        {
          "output_type": "stream",
          "name": "stderr",
          "text": [
            "INFO:tensorflow:Assets written to: /content/model_5/assets\n",
            "WARNING:absl:<keras.layers.recurrent.GRUCell object at 0x7fd685e20190> has the same name 'GRUCell' as a built-in Keras object. Consider renaming <class 'keras.layers.recurrent.GRUCell'> to avoid naming conflicts when loading with `tf.keras.models.load_model`. If renaming is not possible, pass the object in the `custom_objects` parameter of the load function.\n",
            "WARNING:absl:<keras.layers.recurrent.GRUCell object at 0x7fd685f806d0> has the same name 'GRUCell' as a built-in Keras object. Consider renaming <class 'keras.layers.recurrent.GRUCell'> to avoid naming conflicts when loading with `tf.keras.models.load_model`. If renaming is not possible, pass the object in the `custom_objects` parameter of the load function.\n",
            "WARNING:absl:<keras.layers.recurrent.GRUCell object at 0x7fd686081310> has the same name 'GRUCell' as a built-in Keras object. Consider renaming <class 'keras.layers.recurrent.GRUCell'> to avoid naming conflicts when loading with `tf.keras.models.load_model`. If renaming is not possible, pass the object in the `custom_objects` parameter of the load function.\n",
            "WARNING:absl:<keras.layers.recurrent.GRUCell object at 0x7fd686020750> has the same name 'GRUCell' as a built-in Keras object. Consider renaming <class 'keras.layers.recurrent.GRUCell'> to avoid naming conflicts when loading with `tf.keras.models.load_model`. If renaming is not possible, pass the object in the `custom_objects` parameter of the load function.\n"
          ]
        },
        {
          "output_type": "stream",
          "name": "stdout",
          "text": [
            "\b\b\b\b\b\b\b\b\b\b\b\b\b\b\b\b\b\b\b\b\b\b\b\b\b\b\b\b\b\b\b\b\b\b\b\b\b\b\b\b\b\b\b\b\b\b\b\b\b\b\b\b\b\b\b\b\b\b\b\b\b\b\b\b\b\b\b\b\b\b\b\b\b\b\b\b\b\b\b\b\b\b\b\b\r500/500 [==============================] - 107s 213ms/step - loss: 0.0991 - accuracy: 0.9595 - val_loss: 0.1815 - val_accuracy: 0.9245\n"
          ]
        }
      ]
    },
    {
      "cell_type": "markdown",
      "source": [
        "###testing\n"
      ],
      "metadata": {
        "id": "Z9hz-vt0zGDP"
      }
    },
    {
      "cell_type": "code",
      "source": [
        "pre=np.argmax(model__bidir_gru(x_test_padding),-1)\n",
        "micro='micro'\n",
        "print(f'acurracy:{metrics.accuracy_score(np.argmax(y_test_hot,-1),pre)}')\n",
        "print(f'precision:{metrics.precision_score(np.argmax(y_test_hot,-1),pre,average=micro)}')\n",
        "print(f'recall:{metrics.recall_score(np.argmax(y_test_hot,-1),pre,average=micro)}')\n",
        "print(f'f1_score:{metrics.f1_score(np.argmax(y_test_hot,-1),pre,average=micro)}')"
      ],
      "metadata": {
        "colab": {
          "base_uri": "https://localhost:8080/"
        },
        "id": "jMYVPQ2czMRD",
        "outputId": "bd183345-beb1-4a47-a03d-0bd2d6bdb194"
      },
      "execution_count": 147,
      "outputs": [
        {
          "output_type": "stream",
          "name": "stdout",
          "text": [
            "acurracy:0.9245\n",
            "precision:0.9245\n",
            "recall:0.9245\n",
            "f1_score:0.9245\n"
          ]
        }
      ]
    },
    {
      "cell_type": "code",
      "source": [
        "#evalution\n",
        "loss, accuracy = model__bidir_gru.evaluate(test_dataset.repeat(), steps=9)\n",
        "print(\"Loss :\", loss)\n",
        "print(\"Accuracy :\", accuracy)"
      ],
      "metadata": {
        "colab": {
          "base_uri": "https://localhost:8080/"
        },
        "id": "oLwyLCS_zTli",
        "outputId": "c6d86b43-1d57-4da3-8352-f0fa4dd7673f"
      },
      "execution_count": 148,
      "outputs": [
        {
          "output_type": "stream",
          "name": "stdout",
          "text": [
            "9/9 [==============================] - 0s 21ms/step - loss: 0.1928 - accuracy: 0.9201\n",
            "Loss : 0.19282744824886322\n",
            "Accuracy : 0.9201388955116272\n"
          ]
        }
      ]
    },
    {
      "cell_type": "code",
      "source": [
        "loss = model_5.history['loss']\n",
        "val_loss = model_5.history['val_loss']\n",
        "\n",
        "plt.figure()\n",
        "plt.plot(model_5.epoch, loss, 'r', label='Training loss')\n",
        "plt.plot(model_5.epoch, val_loss, label='Validation loss')\n",
        "plt.title('Training and Validation Loss')\n",
        "plt.xlabel('Epoch')\n",
        "plt.ylabel('Loss Value')\n",
        "plt.ylim([0, 1])\n",
        "plt.legend()\n",
        "plt.show()"
      ],
      "metadata": {
        "colab": {
          "base_uri": "https://localhost:8080/",
          "height": 295
        },
        "id": "OosDDyBqzUUO",
        "outputId": "a747b6a5-a4af-4fa5-c2d1-b30ffec3d19f"
      },
      "execution_count": 149,
      "outputs": [
        {
          "output_type": "display_data",
          "data": {
            "image/png": "[encoded data removed]",
            "text/plain": [
              "<Figure size 432x288 with 1 Axes>"
            ]
          },
          "metadata": {
            "needs_background": "light"
          }
        }
      ]
    },
    {
      "cell_type": "markdown",
      "source": [
        "#The best model is Bidirectional LSTM "
      ],
      "metadata": {
        "id": "EcKfdgxC5QN6"
      }
    },
    {
      "cell_type": "code",
      "source": [
        "#prediction\n",
        "\n",
        "def predict(text):\n",
        "  \n",
        "  tokenized_texts = tokenizer.texts_to_sequences([text])\n",
        "  input = tf.keras.preprocessing.sequence.pad_sequences(tokenized_texts, maxlen=max_sequence, padding='post')\n",
        "\n",
        "  output = model__bidir_gru.predict(input)[0]\n",
        "  output=tf.argmax(output)\n",
        "\n",
        "  print(\"The Sentence: \", output)\n",
        "\n",
        " \n",
        "\n",
        "\n",
        "\n",
        "\n",
        "\n"
      ],
      "metadata": {
        "id": "sUOv54Pq05rd"
      },
      "execution_count": 166,
      "outputs": []
    },
    {
      "cell_type": "code",
      "source": [
        "text = \"I am sad\"  #@param {type: \"string\"}\n",
        "\n",
        "predict(text)"
      ],
      "metadata": {
        "colab": {
          "base_uri": "https://localhost:8080/"
        },
        "id": "x82F2TFk4wZX",
        "outputId": "c94508e0-39c1-4c51-95c0-d1c8f1b35212"
      },
      "execution_count": 170,
      "outputs": [
        {
          "output_type": "stream",
          "name": "stdout",
          "text": [
            "The Sentence:  tf.Tensor(0, shape=(), dtype=int64)\n"
          ]
        }
      ]
    },
    {
      "cell_type": "code",
      "source": [
        ""
      ],
      "metadata": {
        "id": "3jLOQQv_5vYR"
      },
      "execution_count": null,
      "outputs": []
    }
  ]
}